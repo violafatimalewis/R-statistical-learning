{
 "cells": [
  {
   "cell_type": "code",
   "execution_count": 4,
   "metadata": {},
   "outputs": [
    {
     "ename": "ERROR",
     "evalue": "Error in library(tree): there is no package called 'tree'\n",
     "output_type": "error",
     "traceback": [
      "Error in library(tree): there is no package called 'tree'\nTraceback:\n",
      "1. library(tree)",
      "2. stop(txt, domain = NA)"
     ]
    }
   ],
   "source": [
    "# decision trees\n",
    "library(tree)"
   ]
  },
  {
   "cell_type": "code",
   "execution_count": 7,
   "metadata": {},
   "outputs": [
    {
     "ename": "ERROR",
     "evalue": "Error in tree(High ~ . - Sales, Carseats): could not find function \"tree\"\n",
     "output_type": "error",
     "traceback": [
      "Error in tree(High ~ . - Sales, Carseats): could not find function \"tree\"\nTraceback:\n"
     ]
    }
   ],
   "source": [
    "Carseats=read.csv(\"Carseats.csv\",header=T)\n",
    "attach(Carseats)\n",
    "High=ifelse(Sales<=8,\"No\",\"Yes\")\n",
    "Carseats=data.frame(Carseats,High)\n",
    "tree.carseats=tree(High~.-Sales,Carseats)\n",
    "summary(tree.carseats)\n",
    "plot(tree.carseats)\n",
    "text(tree.carseats,pretty=0)\n",
    "tree.carseats\n",
    "set.seed(2)\n",
    "train=sample(1:nrow(Carseats), 200)\n",
    "Carseats.test=Carseats[-train,]\n",
    "High.test=High[-train]\n",
    "tree.carseats=tree(High~.-Sales,Carseats,subset=train)\n",
    "tree.pred=predict(tree.carseats,Carseats.test,type=\"class\")\n",
    "table(tree.pred,High.test)\n",
    "(86+57)/200\n",
    "set.seed(3)\n",
    "cv.carseats=cv.tree(tree.carseats,FUN=prune.misclass)\n",
    "names(cv.carseats)\n",
    "cv.carseats\n",
    "par(mfrow=c(1,2))\n",
    "plot(cv.carseats$size,cv.carseats$dev,type=\"b\")\n",
    "plot(cv.carseats$k,cv.carseats$dev,type=\"b\")\n",
    "prune.carseats=prune.misclass(tree.carseats,best=9)\n",
    "plot(prune.carseats)\n",
    "text(prune.carseats,pretty=0)\n",
    "tree.pred=predict(prune.carseats,Carseats.test,type=\"class\")\n",
    "table(tree.pred,High.test)\n",
    "(94+60)/200\n",
    "prune.carseats=prune.misclass(tree.carseats,best=15)\n",
    "plot(prune.carseats)\n",
    "text(prune.carseats,pretty=0)\n",
    "tree.pred=predict(prune.carseats,Carseats.test,type=\"class\")\n",
    "table(tree.pred,High.test)\n",
    "(86+62)/200"
   ]
  },
  {
   "cell_type": "code",
   "execution_count": 19,
   "metadata": {},
   "outputs": [
    {
     "data": {
      "text/plain": [
       "\n",
       "Call:\n",
       " randomForest(formula = medv ~ ., data = Boston, mtry = 13, importance = TRUE,      subset = train) \n",
       "               Type of random forest: regression\n",
       "                     Number of trees: 500\n",
       "No. of variables tried at each split: 13\n",
       "\n",
       "          Mean of squared residuals: 10.51656\n",
       "                    % Var explained: 87.27"
      ]
     },
     "metadata": {},
     "output_type": "display_data"
    },
    {
     "data": {
      "text/html": [
       "12.9655201738676"
      ],
      "text/latex": [
       "12.9655201738676"
      ],
      "text/markdown": [
       "12.9655201738676"
      ],
      "text/plain": [
       "[1] 12.96552"
      ]
     },
     "metadata": {},
     "output_type": "display_data"
    },
    {
     "data": {
      "text/html": [
       "13.2897099106544"
      ],
      "text/latex": [
       "13.2897099106544"
      ],
      "text/markdown": [
       "13.2897099106544"
      ],
      "text/plain": [
       "[1] 13.28971"
      ]
     },
     "metadata": {},
     "output_type": "display_data"
    },
    {
     "data": {
      "text/html": [
       "11.379838450445"
      ],
      "text/latex": [
       "11.379838450445"
      ],
      "text/markdown": [
       "11.379838450445"
      ],
      "text/plain": [
       "[1] 11.37984"
      ]
     },
     "metadata": {},
     "output_type": "display_data"
    },
    {
     "data": {
      "text/html": [
       "<table>\n",
       "<thead><tr><th></th><th scope=col>%IncMSE</th><th scope=col>IncNodePurity</th></tr></thead>\n",
       "<tbody>\n",
       "\t<tr><th scope=row>crim</th><td>12.306294 </td><td>1112.67075</td></tr>\n",
       "\t<tr><th scope=row>zn</th><td> 2.985459 </td><td>  47.66963</td></tr>\n",
       "\t<tr><th scope=row>indus</th><td>10.724357 </td><td> 942.77085</td></tr>\n",
       "\t<tr><th scope=row>chas</th><td> 2.369347 </td><td>  54.57706</td></tr>\n",
       "\t<tr><th scope=row>nox</th><td>11.320176 </td><td> 893.09906</td></tr>\n",
       "\t<tr><th scope=row>rm</th><td>32.062211 </td><td>6552.39343</td></tr>\n",
       "\t<tr><th scope=row>age</th><td>11.425088 </td><td> 565.80706</td></tr>\n",
       "\t<tr><th scope=row>dis</th><td>14.330793 </td><td>1343.06751</td></tr>\n",
       "\t<tr><th scope=row>rad</th><td> 4.668673 </td><td>  83.86627</td></tr>\n",
       "\t<tr><th scope=row>tax</th><td> 8.635902 </td><td> 514.54966</td></tr>\n",
       "\t<tr><th scope=row>ptratio</th><td>12.067195 </td><td> 866.09204</td></tr>\n",
       "\t<tr><th scope=row>black</th><td> 7.667770 </td><td> 348.23684</td></tr>\n",
       "\t<tr><th scope=row>lstat</th><td>29.792416 </td><td>7337.81063</td></tr>\n",
       "</tbody>\n",
       "</table>\n"
      ],
      "text/latex": [
       "\\begin{tabular}{r|ll}\n",
       "  & \\%IncMSE & IncNodePurity\\\\\n",
       "\\hline\n",
       "\tcrim & 12.306294  & 1112.67075\\\\\n",
       "\tzn &  2.985459  &   47.66963\\\\\n",
       "\tindus & 10.724357  &  942.77085\\\\\n",
       "\tchas &  2.369347  &   54.57706\\\\\n",
       "\tnox & 11.320176  &  893.09906\\\\\n",
       "\trm & 32.062211  & 6552.39343\\\\\n",
       "\tage & 11.425088  &  565.80706\\\\\n",
       "\tdis & 14.330793  & 1343.06751\\\\\n",
       "\trad &  4.668673  &   83.86627\\\\\n",
       "\ttax &  8.635902  &  514.54966\\\\\n",
       "\tptratio & 12.067195  &  866.09204\\\\\n",
       "\tblack &  7.667770  &  348.23684\\\\\n",
       "\tlstat & 29.792416  & 7337.81063\\\\\n",
       "\\end{tabular}\n"
      ],
      "text/markdown": [
       "\n",
       "| <!--/--> | %IncMSE | IncNodePurity | \n",
       "|---|---|---|---|---|---|---|---|---|---|---|---|---|\n",
       "| crim | 12.306294  | 1112.67075 | \n",
       "| zn |  2.985459  |   47.66963 | \n",
       "| indus | 10.724357  |  942.77085 | \n",
       "| chas |  2.369347  |   54.57706 | \n",
       "| nox | 11.320176  |  893.09906 | \n",
       "| rm | 32.062211  | 6552.39343 | \n",
       "| age | 11.425088  |  565.80706 | \n",
       "| dis | 14.330793  | 1343.06751 | \n",
       "| rad |  4.668673  |   83.86627 | \n",
       "| tax |  8.635902  |  514.54966 | \n",
       "| ptratio | 12.067195  |  866.09204 | \n",
       "| black |  7.667770  |  348.23684 | \n",
       "| lstat | 29.792416  | 7337.81063 | \n",
       "\n",
       "\n"
      ],
      "text/plain": [
       "        %IncMSE   IncNodePurity\n",
       "crim    12.306294 1112.67075   \n",
       "zn       2.985459   47.66963   \n",
       "indus   10.724357  942.77085   \n",
       "chas     2.369347   54.57706   \n",
       "nox     11.320176  893.09906   \n",
       "rm      32.062211 6552.39343   \n",
       "age     11.425088  565.80706   \n",
       "dis     14.330793 1343.06751   \n",
       "rad      4.668673   83.86627   \n",
       "tax      8.635902  514.54966   \n",
       "ptratio 12.067195  866.09204   \n",
       "black    7.667770  348.23684   \n",
       "lstat   29.792416 7337.81063   "
      ]
     },
     "metadata": {},
     "output_type": "display_data"
    },
    {
     "data": {
      "image/png": "[encoded data removed]",
      "text/plain": [
       "plot without title"
      ]
     },
     "metadata": {},
     "output_type": "display_data"
    },
    {
     "data": {
      "image/png": "[encoded data removed]",
      "text/plain": [
       "plot without title"
      ]
     },
     "metadata": {},
     "output_type": "display_data"
    }
   ],
   "source": [
    "# random forest\n",
    "library(randomForest)\n",
    "library(MASS)\n",
    "library(MASS)\n",
    "set.seed(1)\n",
    "train = sample(1:nrow(Boston), nrow(Boston)/2)\n",
    "\n",
    "bag.boston=randomForest(medv~.,data=Boston,subset=train,mtry=13,importance=TRUE)\n",
    "bag.boston\n",
    "\n",
    "#predict\n",
    "yhat.bag = predict(bag.boston,newdata=Boston[-train,])\n",
    "boston.test=Boston[-train,\"medv\"]\n",
    "plot(yhat.bag, boston.test)\n",
    "abline(0,1)\n",
    "mean((yhat.bag-boston.test)^2)\n",
    "\n",
    "#use number of trees=25\n",
    "bag.boston=randomForest(medv~.,data=Boston,subset=train,mtry=13,ntree=25)\n",
    "yhat.bag = predict(bag.boston,newdata=Boston[-train,])\n",
    "mean((yhat.bag-boston.test)^2)\n",
    "\n",
    "# for regression choose ntree=3, =p/3\n",
    "set.seed(1)\n",
    "rf.boston=randomForest(medv~.,data=Boston,subset=train,mtry=6,importance=TRUE)\n",
    "yhat.rf = predict(rf.boston,newdata=Boston[-train,])\n",
    "mean((yhat.rf-boston.test)^2)\n",
    "importance(rf.boston)\n",
    "varImpPlot(rf.boston)\n"
   ]
  },
  {
   "cell_type": "code",
   "execution_count": 27,
   "metadata": {},
   "outputs": [
    {
     "data": {
      "image/png": "[encoded data removed]",
      "text/plain": [
       "plot without title"
      ]
     },
     "metadata": {},
     "output_type": "display_data"
    },
    {
     "data": {
      "text/html": [
       "<ol class=list-inline>\n",
       "\t<li>1</li>\n",
       "\t<li>2</li>\n",
       "\t<li>5</li>\n",
       "\t<li>7</li>\n",
       "\t<li>14</li>\n",
       "\t<li>16</li>\n",
       "\t<li>17</li>\n",
       "</ol>\n"
      ],
      "text/latex": [
       "\\begin{enumerate*}\n",
       "\\item 1\n",
       "\\item 2\n",
       "\\item 5\n",
       "\\item 7\n",
       "\\item 14\n",
       "\\item 16\n",
       "\\item 17\n",
       "\\end{enumerate*}\n"
      ],
      "text/markdown": [
       "1. 1\n",
       "2. 2\n",
       "3. 5\n",
       "4. 7\n",
       "5. 14\n",
       "6. 16\n",
       "7. 17\n",
       "\n",
       "\n"
      ],
      "text/plain": [
       "[1]  1  2  5  7 14 16 17"
      ]
     },
     "metadata": {},
     "output_type": "display_data"
    },
    {
     "data": {
      "text/plain": [
       "\n",
       "Call:\n",
       "svm(formula = y ~ ., data = dat, kernel = \"linear\", cost = 10, scale = FALSE)\n",
       "\n",
       "\n",
       "Parameters:\n",
       "   SVM-Type:  C-classification \n",
       " SVM-Kernel:  linear \n",
       "       cost:  10 \n",
       "      gamma:  0.5 \n",
       "\n",
       "Number of Support Vectors:  7\n",
       "\n",
       " ( 4 3 )\n",
       "\n",
       "\n",
       "Number of Classes:  2 \n",
       "\n",
       "Levels: \n",
       " -1 1\n",
       "\n",
       "\n"
      ]
     },
     "metadata": {},
     "output_type": "display_data"
    },
    {
     "data": {
      "image/png": "[encoded data removed]",
      "text/plain": [
       "Plot with title \"SVM classification plot\""
      ]
     },
     "metadata": {},
     "output_type": "display_data"
    },
    {
     "data": {
      "text/html": [
       "<ol class=list-inline>\n",
       "\t<li>1</li>\n",
       "\t<li>2</li>\n",
       "\t<li>3</li>\n",
       "\t<li>4</li>\n",
       "\t<li>5</li>\n",
       "\t<li>7</li>\n",
       "\t<li>9</li>\n",
       "\t<li>10</li>\n",
       "\t<li>12</li>\n",
       "\t<li>13</li>\n",
       "\t<li>14</li>\n",
       "\t<li>15</li>\n",
       "\t<li>16</li>\n",
       "\t<li>17</li>\n",
       "\t<li>18</li>\n",
       "\t<li>20</li>\n",
       "</ol>\n"
      ],
      "text/latex": [
       "\\begin{enumerate*}\n",
       "\\item 1\n",
       "\\item 2\n",
       "\\item 3\n",
       "\\item 4\n",
       "\\item 5\n",
       "\\item 7\n",
       "\\item 9\n",
       "\\item 10\n",
       "\\item 12\n",
       "\\item 13\n",
       "\\item 14\n",
       "\\item 15\n",
       "\\item 16\n",
       "\\item 17\n",
       "\\item 18\n",
       "\\item 20\n",
       "\\end{enumerate*}\n"
      ],
      "text/markdown": [
       "1. 1\n",
       "2. 2\n",
       "3. 3\n",
       "4. 4\n",
       "5. 5\n",
       "6. 7\n",
       "7. 9\n",
       "8. 10\n",
       "9. 12\n",
       "10. 13\n",
       "11. 14\n",
       "12. 15\n",
       "13. 16\n",
       "14. 17\n",
       "15. 18\n",
       "16. 20\n",
       "\n",
       "\n"
      ],
      "text/plain": [
       " [1]  1  2  3  4  5  7  9 10 12 13 14 15 16 17 18 20"
      ]
     },
     "metadata": {},
     "output_type": "display_data"
    },
    {
     "data": {
      "text/plain": [
       "\n",
       "Parameter tuning of 'svm':\n",
       "\n",
       "- sampling method: 10-fold cross validation \n",
       "\n",
       "- best parameters:\n",
       " cost\n",
       "  0.1\n",
       "\n",
       "- best performance: 0.1 \n",
       "\n",
       "- Detailed performance results:\n",
       "   cost error dispersion\n",
       "1 1e-03  0.70  0.4216370\n",
       "2 1e-02  0.70  0.4216370\n",
       "3 1e-01  0.10  0.2108185\n",
       "4 1e+00  0.15  0.2415229\n",
       "5 5e+00  0.15  0.2415229\n",
       "6 1e+01  0.15  0.2415229\n",
       "7 1e+02  0.15  0.2415229\n"
      ]
     },
     "metadata": {},
     "output_type": "display_data"
    },
    {
     "data": {
      "text/plain": [
       "\n",
       "Call:\n",
       "best.tune(method = svm, train.x = y ~ ., data = dat, ranges = list(cost = c(0.001, \n",
       "    0.01, 0.1, 1, 5, 10, 100)), kernel = \"linear\")\n",
       "\n",
       "\n",
       "Parameters:\n",
       "   SVM-Type:  C-classification \n",
       " SVM-Kernel:  linear \n",
       "       cost:  0.1 \n",
       "      gamma:  0.5 \n",
       "\n",
       "Number of Support Vectors:  16\n",
       "\n",
       " ( 8 8 )\n",
       "\n",
       "\n",
       "Number of Classes:  2 \n",
       "\n",
       "Levels: \n",
       " -1 1\n",
       "\n",
       "\n"
      ]
     },
     "metadata": {},
     "output_type": "display_data"
    },
    {
     "data": {
      "text/plain": [
       "       truth\n",
       "predict -1  1\n",
       "     -1 11  1\n",
       "     1   0  8"
      ]
     },
     "metadata": {},
     "output_type": "display_data"
    },
    {
     "data": {
      "text/plain": [
       "       truth\n",
       "predict -1  1\n",
       "     -1 11  2\n",
       "     1   0  7"
      ]
     },
     "metadata": {},
     "output_type": "display_data"
    },
    {
     "data": {
      "image/png": "[encoded data removed]",
      "text/plain": [
       "Plot with title \"SVM classification plot\""
      ]
     },
     "metadata": {},
     "output_type": "display_data"
    },
    {
     "data": {
      "text/plain": [
       "\n",
       "Call:\n",
       "svm(formula = y ~ ., data = dat, kernel = \"linear\", cost = 1e+05)\n",
       "\n",
       "\n",
       "Parameters:\n",
       "   SVM-Type:  C-classification \n",
       " SVM-Kernel:  linear \n",
       "       cost:  1e+05 \n",
       "      gamma:  0.5 \n",
       "\n",
       "Number of Support Vectors:  3\n",
       "\n",
       " ( 1 2 )\n",
       "\n",
       "\n",
       "Number of Classes:  2 \n",
       "\n",
       "Levels: \n",
       " -1 1\n",
       "\n",
       "\n"
      ]
     },
     "metadata": {},
     "output_type": "display_data"
    },
    {
     "data": {
      "image/png": "[encoded data removed]",
      "text/plain": [
       "plot without title"
      ]
     },
     "metadata": {},
     "output_type": "display_data"
    },
    {
     "data": {
      "text/plain": [
       "\n",
       "Call:\n",
       "svm(formula = y ~ ., data = dat, kernel = \"linear\", cost = 1)\n",
       "\n",
       "\n",
       "Parameters:\n",
       "   SVM-Type:  C-classification \n",
       " SVM-Kernel:  linear \n",
       "       cost:  1 \n",
       "      gamma:  0.5 \n",
       "\n",
       "Number of Support Vectors:  7\n",
       "\n",
       " ( 4 3 )\n",
       "\n",
       "\n",
       "Number of Classes:  2 \n",
       "\n",
       "Levels: \n",
       " -1 1\n",
       "\n",
       "\n"
      ]
     },
     "metadata": {},
     "output_type": "display_data"
    },
    {
     "data": {
      "image/png": "[encoded data removed]",
      "text/plain": [
       "Plot with title \"SVM classification plot\""
      ]
     },
     "metadata": {},
     "output_type": "display_data"
    },
    {
     "data": {
      "image/png": "[encoded data removed]",
      "text/plain": [
       "Plot with title \"SVM classification plot\""
      ]
     },
     "metadata": {},
     "output_type": "display_data"
    }
   ],
   "source": [
    "#svm\n",
    "\n",
    "library(e1071)\n",
    "set.seed(1)\n",
    "x=matrix(rnorm(20*2), ncol=2)\n",
    "y=c(rep(-1,10), rep(1,10))\n",
    "x[y==1,]=x[y==1,] + 1\n",
    "plot(x, col=(3-y))\n",
    "dat=data.frame(x=x, y=as.factor(y))\n",
    "\n",
    "#svm fit with cost=10\n",
    "svmfit=svm(y~., data=dat, kernel=\"linear\", cost=10,scale=FALSE)\n",
    "plot(svmfit, dat)\n",
    "svmfit$index\n",
    "summary(svmfit)\n",
    "\n",
    "#svm fit with cost=.1\n",
    "svmfit=svm(y~., data=dat, kernel=\"linear\", cost=0.1,scale=FALSE)\n",
    "plot(svmfit, dat)\n",
    "svmfit$index\n",
    "set.seed(1)\n",
    "\n",
    "#find best value of c and cross validate\n",
    "tune.out=tune(svm,y~.,data=dat,kernel=\"linear\",ranges=list(cost=c(0.001, 0.01, 0.1, 1,5,10,100)))\n",
    "summary(tune.out)\n",
    "bestmod=tune.out$best.model\n",
    "summary(bestmod)\n",
    "\n",
    "#predict using test data\n",
    "xtest=matrix(rnorm(20*2), ncol=2)\n",
    "ytest=sample(c(-1,1), 20, rep=TRUE)\n",
    "xtest[ytest==1,]=xtest[ytest==1,] + 1\n",
    "testdat=data.frame(x=xtest, y=as.factor(ytest))\n",
    "ypred=predict(bestmod,testdat)\n",
    "table(predict=ypred, truth=testdat$y)\n",
    "\n",
    "#change cost to .01\n",
    "svmfit=svm(y~., data=dat, kernel=\"linear\", cost=.01,scale=FALSE)\n",
    "ypred=predict(svmfit,testdat)\n",
    "table(predict=ypred, truth=testdat$y)\n",
    "\n",
    "x[y==1,]=x[y==1,]+0.5\n",
    "plot(x, col=(y+5)/2, pch=19)\n",
    "dat=data.frame(x=x,y=as.factor(y))\n",
    "svmfit=svm(y~., data=dat, kernel=\"linear\", cost=1e5)\n",
    "summary(svmfit)\n",
    "plot(svmfit, dat)\n",
    "svmfit=svm(y~., data=dat, kernel=\"linear\", cost=1)\n",
    "summary(svmfit)\n",
    "plot(svmfit,dat)"
   ]
  },
  {
   "cell_type": "code",
   "execution_count": 31,
   "metadata": {},
   "outputs": [
    {
     "data": {
      "image/png": "[encoded data removed]",
      "text/plain": [
       "plot without title"
      ]
     },
     "metadata": {},
     "output_type": "display_data"
    },
    {
     "data": {
      "text/plain": [
       "\n",
       "Call:\n",
       "svm(formula = y ~ ., data = dat[train, ], kernel = \"radial\", gamma = 1, \n",
       "    cost = 1)\n",
       "\n",
       "\n",
       "Parameters:\n",
       "   SVM-Type:  C-classification \n",
       " SVM-Kernel:  radial \n",
       "       cost:  1 \n",
       "      gamma:  1 \n",
       "\n",
       "Number of Support Vectors:  37\n",
       "\n",
       " ( 17 20 )\n",
       "\n",
       "\n",
       "Number of Classes:  2 \n",
       "\n",
       "Levels: \n",
       " 1 2\n",
       "\n",
       "\n"
      ]
     },
     "metadata": {},
     "output_type": "display_data"
    },
    {
     "data": {
      "image/png": "[encoded data removed]",
      "text/plain": [
       "Plot with title \"SVM classification plot\""
      ]
     },
     "metadata": {},
     "output_type": "display_data"
    },
    {
     "data": {
      "text/plain": [
       "\n",
       "Parameter tuning of 'svm':\n",
       "\n",
       "- sampling method: 10-fold cross validation \n",
       "\n",
       "- best parameters:\n",
       " cost gamma\n",
       "    1     2\n",
       "\n",
       "- best performance: 0.12 \n",
       "\n",
       "- Detailed performance results:\n",
       "    cost gamma error dispersion\n",
       "1  1e-01   0.5  0.27 0.11595018\n",
       "2  1e+00   0.5  0.13 0.08232726\n",
       "3  1e+01   0.5  0.15 0.07071068\n",
       "4  1e+02   0.5  0.17 0.08232726\n",
       "5  1e+03   0.5  0.21 0.09944289\n",
       "6  1e-01   1.0  0.25 0.13540064\n",
       "7  1e+00   1.0  0.13 0.08232726\n",
       "8  1e+01   1.0  0.16 0.06992059\n",
       "9  1e+02   1.0  0.20 0.09428090\n",
       "10 1e+03   1.0  0.20 0.08164966\n",
       "11 1e-01   2.0  0.25 0.12692955\n",
       "12 1e+00   2.0  0.12 0.09189366\n",
       "13 1e+01   2.0  0.17 0.09486833\n",
       "14 1e+02   2.0  0.19 0.09944289\n",
       "15 1e+03   2.0  0.20 0.09428090\n",
       "16 1e-01   3.0  0.27 0.11595018\n",
       "17 1e+00   3.0  0.13 0.09486833\n",
       "18 1e+01   3.0  0.18 0.10327956\n",
       "19 1e+02   3.0  0.21 0.08755950\n",
       "20 1e+03   3.0  0.22 0.10327956\n",
       "21 1e-01   4.0  0.27 0.11595018\n",
       "22 1e+00   4.0  0.15 0.10801234\n",
       "23 1e+01   4.0  0.18 0.11352924\n",
       "24 1e+02   4.0  0.21 0.08755950\n",
       "25 1e+03   4.0  0.24 0.10749677\n"
      ]
     },
     "metadata": {},
     "output_type": "display_data"
    },
    {
     "data": {
      "text/plain": [
       "    pred\n",
       "true  1  2\n",
       "   1 74  3\n",
       "   2  7 16"
      ]
     },
     "metadata": {},
     "output_type": "display_data"
    },
    {
     "data": {
      "image/png": "[encoded data removed]",
      "text/plain": [
       "Plot with title \"SVM classification plot\""
      ]
     },
     "metadata": {},
     "output_type": "display_data"
    }
   ],
   "source": [
    "#svm kernel=radial\n",
    "\n",
    "set.seed(1)\n",
    "x=matrix(rnorm(200*2), ncol=2)\n",
    "x[1:100,]=x[1:100,]+2\n",
    "x[101:150,]=x[101:150,]-2\n",
    "y=c(rep(1,150),rep(2,50))\n",
    "dat=data.frame(x=x,y=as.factor(y))\n",
    "plot(x, col=y)\n",
    "\n",
    "#fit radial kernel with c=1\n",
    "train=sample(200,100)\n",
    "svmfit=svm(y~., data=dat[train,], kernel=\"radial\",  gamma=1, cost=1)\n",
    "plot(svmfit, dat[train,])\n",
    "summary(svmfit)\n",
    "\n",
    "svmfit=svm(y~., data=dat[train,], kernel=\"radial\",gamma=1,cost=1e5)\n",
    "plot(svmfit,dat[train,])\n",
    "\n",
    "#cross validation to select best cost and gamma\n",
    "set.seed(1)\n",
    "tune.out=tune(svm, y~., data=dat[train,], kernel=\"radial\", ranges=list(cost=c(0.1,1,10,100,1000),gamma=c(0.5,1,2,3,4)))\n",
    "summary(tune.out)\n",
    "\n",
    "#predict using the best model\n",
    "table(true=dat[-train,\"y\"], pred=predict(tune.out$best.model,newdata=dat[-train,]))\n"
   ]
  },
  {
   "cell_type": "code",
   "execution_count": 32,
   "metadata": {},
   "outputs": [
    {
     "name": "stderr",
     "output_type": "stream",
     "text": [
      "Loading required package: gplots\n",
      "\n",
      "Attaching package: 'gplots'\n",
      "\n",
      "The following object is masked from 'package:stats':\n",
      "\n",
      "    lowess\n",
      "\n"
     ]
    },
    {
     "data": {
      "image/png": "[encoded data removed]",
      "text/plain": [
       "Plot with title \"Test Data\""
      ]
     },
     "metadata": {},
     "output_type": "display_data"
    }
   ],
   "source": [
    "# ROC Curves\n",
    "\n",
    "library(ROCR)\n",
    "rocplot=function(pred, truth, ...){\n",
    "   predob = prediction(pred, truth)\n",
    "   perf = performance(predob, \"tpr\", \"fpr\")\n",
    "   plot(perf,...)}\n",
    "svmfit.opt=svm(y~., data=dat[train,], kernel=\"radial\",gamma=2, cost=1,decision.values=T)\n",
    "fitted=attributes(predict(svmfit.opt,dat[train,],decision.values=TRUE))$decision.values\n",
    "par(mfrow=c(1,2))\n",
    "rocplot(fitted,dat[train,\"y\"],main=\"Training Data\")\n",
    "svmfit.flex=svm(y~., data=dat[train,], kernel=\"radial\",gamma=50, cost=1, decision.values=T)\n",
    "fitted=attributes(predict(svmfit.flex,dat[train,],decision.values=T))$decision.values\n",
    "rocplot(fitted,dat[train,\"y\"],add=T,col=\"red\")\n",
    "fitted=attributes(predict(svmfit.opt,dat[-train,],decision.values=T))$decision.values\n",
    "rocplot(fitted,dat[-train,\"y\"],main=\"Test Data\")\n",
    "fitted=attributes(predict(svmfit.flex,dat[-train,],decision.values=T))$decision.values\n",
    "rocplot(fitted,dat[-train,\"y\"],add=T,col=\"red\")\n"
   ]
  },
  {
   "cell_type": "code",
   "execution_count": 33,
   "metadata": {},
   "outputs": [
    {
     "data": {
      "image/png": "[encoded data removed]",
      "text/plain": [
       "plot without title"
      ]
     },
     "metadata": {},
     "output_type": "display_data"
    },
    {
     "data": {
      "image/png": "[encoded data removed]",
      "text/plain": [
       "Plot with title \"SVM classification plot\""
      ]
     },
     "metadata": {},
     "output_type": "display_data"
    }
   ],
   "source": [
    "# SVM with Multiple Classes\n",
    "\n",
    "set.seed(1)\n",
    "x=rbind(x, matrix(rnorm(50*2), ncol=2))\n",
    "y=c(y, rep(0,50))\n",
    "x[y==0,2]=x[y==0,2]+2\n",
    "dat=data.frame(x=x, y=as.factor(y))\n",
    "par(mfrow=c(1,1))\n",
    "plot(x,col=(y+1))\n",
    "svmfit=svm(y~., data=dat, kernel=\"radial\", cost=10, gamma=1)\n",
    "plot(svmfit, dat)"
   ]
  },
  {
   "cell_type": "code",
   "execution_count": 35,
   "metadata": {},
   "outputs": [
    {
     "data": {
      "text/html": [
       "<ol class=list-inline>\n",
       "\t<li>'Alabama'</li>\n",
       "\t<li>'Alaska'</li>\n",
       "\t<li>'Arizona'</li>\n",
       "\t<li>'Arkansas'</li>\n",
       "\t<li>'California'</li>\n",
       "\t<li>'Colorado'</li>\n",
       "\t<li>'Connecticut'</li>\n",
       "\t<li>'Delaware'</li>\n",
       "\t<li>'Florida'</li>\n",
       "\t<li>'Georgia'</li>\n",
       "\t<li>'Hawaii'</li>\n",
       "\t<li>'Idaho'</li>\n",
       "\t<li>'Illinois'</li>\n",
       "\t<li>'Indiana'</li>\n",
       "\t<li>'Iowa'</li>\n",
       "\t<li>'Kansas'</li>\n",
       "\t<li>'Kentucky'</li>\n",
       "\t<li>'Louisiana'</li>\n",
       "\t<li>'Maine'</li>\n",
       "\t<li>'Maryland'</li>\n",
       "\t<li>'Massachusetts'</li>\n",
       "\t<li>'Michigan'</li>\n",
       "\t<li>'Minnesota'</li>\n",
       "\t<li>'Mississippi'</li>\n",
       "\t<li>'Missouri'</li>\n",
       "\t<li>'Montana'</li>\n",
       "\t<li>'Nebraska'</li>\n",
       "\t<li>'Nevada'</li>\n",
       "\t<li>'New Hampshire'</li>\n",
       "\t<li>'New Jersey'</li>\n",
       "\t<li>'New Mexico'</li>\n",
       "\t<li>'New York'</li>\n",
       "\t<li>'North Carolina'</li>\n",
       "\t<li>'North Dakota'</li>\n",
       "\t<li>'Ohio'</li>\n",
       "\t<li>'Oklahoma'</li>\n",
       "\t<li>'Oregon'</li>\n",
       "\t<li>'Pennsylvania'</li>\n",
       "\t<li>'Rhode Island'</li>\n",
       "\t<li>'South Carolina'</li>\n",
       "\t<li>'South Dakota'</li>\n",
       "\t<li>'Tennessee'</li>\n",
       "\t<li>'Texas'</li>\n",
       "\t<li>'Utah'</li>\n",
       "\t<li>'Vermont'</li>\n",
       "\t<li>'Virginia'</li>\n",
       "\t<li>'Washington'</li>\n",
       "\t<li>'West Virginia'</li>\n",
       "\t<li>'Wisconsin'</li>\n",
       "\t<li>'Wyoming'</li>\n",
       "</ol>\n"
      ],
      "text/latex": [
       "\\begin{enumerate*}\n",
       "\\item 'Alabama'\n",
       "\\item 'Alaska'\n",
       "\\item 'Arizona'\n",
       "\\item 'Arkansas'\n",
       "\\item 'California'\n",
       "\\item 'Colorado'\n",
       "\\item 'Connecticut'\n",
       "\\item 'Delaware'\n",
       "\\item 'Florida'\n",
       "\\item 'Georgia'\n",
       "\\item 'Hawaii'\n",
       "\\item 'Idaho'\n",
       "\\item 'Illinois'\n",
       "\\item 'Indiana'\n",
       "\\item 'Iowa'\n",
       "\\item 'Kansas'\n",
       "\\item 'Kentucky'\n",
       "\\item 'Louisiana'\n",
       "\\item 'Maine'\n",
       "\\item 'Maryland'\n",
       "\\item 'Massachusetts'\n",
       "\\item 'Michigan'\n",
       "\\item 'Minnesota'\n",
       "\\item 'Mississippi'\n",
       "\\item 'Missouri'\n",
       "\\item 'Montana'\n",
       "\\item 'Nebraska'\n",
       "\\item 'Nevada'\n",
       "\\item 'New Hampshire'\n",
       "\\item 'New Jersey'\n",
       "\\item 'New Mexico'\n",
       "\\item 'New York'\n",
       "\\item 'North Carolina'\n",
       "\\item 'North Dakota'\n",
       "\\item 'Ohio'\n",
       "\\item 'Oklahoma'\n",
       "\\item 'Oregon'\n",
       "\\item 'Pennsylvania'\n",
       "\\item 'Rhode Island'\n",
       "\\item 'South Carolina'\n",
       "\\item 'South Dakota'\n",
       "\\item 'Tennessee'\n",
       "\\item 'Texas'\n",
       "\\item 'Utah'\n",
       "\\item 'Vermont'\n",
       "\\item 'Virginia'\n",
       "\\item 'Washington'\n",
       "\\item 'West Virginia'\n",
       "\\item 'Wisconsin'\n",
       "\\item 'Wyoming'\n",
       "\\end{enumerate*}\n"
      ],
      "text/markdown": [
       "1. 'Alabama'\n",
       "2. 'Alaska'\n",
       "3. 'Arizona'\n",
       "4. 'Arkansas'\n",
       "5. 'California'\n",
       "6. 'Colorado'\n",
       "7. 'Connecticut'\n",
       "8. 'Delaware'\n",
       "9. 'Florida'\n",
       "10. 'Georgia'\n",
       "11. 'Hawaii'\n",
       "12. 'Idaho'\n",
       "13. 'Illinois'\n",
       "14. 'Indiana'\n",
       "15. 'Iowa'\n",
       "16. 'Kansas'\n",
       "17. 'Kentucky'\n",
       "18. 'Louisiana'\n",
       "19. 'Maine'\n",
       "20. 'Maryland'\n",
       "21. 'Massachusetts'\n",
       "22. 'Michigan'\n",
       "23. 'Minnesota'\n",
       "24. 'Mississippi'\n",
       "25. 'Missouri'\n",
       "26. 'Montana'\n",
       "27. 'Nebraska'\n",
       "28. 'Nevada'\n",
       "29. 'New Hampshire'\n",
       "30. 'New Jersey'\n",
       "31. 'New Mexico'\n",
       "32. 'New York'\n",
       "33. 'North Carolina'\n",
       "34. 'North Dakota'\n",
       "35. 'Ohio'\n",
       "36. 'Oklahoma'\n",
       "37. 'Oregon'\n",
       "38. 'Pennsylvania'\n",
       "39. 'Rhode Island'\n",
       "40. 'South Carolina'\n",
       "41. 'South Dakota'\n",
       "42. 'Tennessee'\n",
       "43. 'Texas'\n",
       "44. 'Utah'\n",
       "45. 'Vermont'\n",
       "46. 'Virginia'\n",
       "47. 'Washington'\n",
       "48. 'West Virginia'\n",
       "49. 'Wisconsin'\n",
       "50. 'Wyoming'\n",
       "\n",
       "\n"
      ],
      "text/plain": [
       " [1] \"Alabama\"        \"Alaska\"         \"Arizona\"        \"Arkansas\"      \n",
       " [5] \"California\"     \"Colorado\"       \"Connecticut\"    \"Delaware\"      \n",
       " [9] \"Florida\"        \"Georgia\"        \"Hawaii\"         \"Idaho\"         \n",
       "[13] \"Illinois\"       \"Indiana\"        \"Iowa\"           \"Kansas\"        \n",
       "[17] \"Kentucky\"       \"Louisiana\"      \"Maine\"          \"Maryland\"      \n",
       "[21] \"Massachusetts\"  \"Michigan\"       \"Minnesota\"      \"Mississippi\"   \n",
       "[25] \"Missouri\"       \"Montana\"        \"Nebraska\"       \"Nevada\"        \n",
       "[29] \"New Hampshire\"  \"New Jersey\"     \"New Mexico\"     \"New York\"      \n",
       "[33] \"North Carolina\" \"North Dakota\"   \"Ohio\"           \"Oklahoma\"      \n",
       "[37] \"Oregon\"         \"Pennsylvania\"   \"Rhode Island\"   \"South Carolina\"\n",
       "[41] \"South Dakota\"   \"Tennessee\"      \"Texas\"          \"Utah\"          \n",
       "[45] \"Vermont\"        \"Virginia\"       \"Washington\"     \"West Virginia\" \n",
       "[49] \"Wisconsin\"      \"Wyoming\"       "
      ]
     },
     "metadata": {},
     "output_type": "display_data"
    },
    {
     "data": {
      "text/html": [
       "<ol class=list-inline>\n",
       "\t<li>'Murder'</li>\n",
       "\t<li>'Assault'</li>\n",
       "\t<li>'UrbanPop'</li>\n",
       "\t<li>'Rape'</li>\n",
       "</ol>\n"
      ],
      "text/latex": [
       "\\begin{enumerate*}\n",
       "\\item 'Murder'\n",
       "\\item 'Assault'\n",
       "\\item 'UrbanPop'\n",
       "\\item 'Rape'\n",
       "\\end{enumerate*}\n"
      ],
      "text/markdown": [
       "1. 'Murder'\n",
       "2. 'Assault'\n",
       "3. 'UrbanPop'\n",
       "4. 'Rape'\n",
       "\n",
       "\n"
      ],
      "text/plain": [
       "[1] \"Murder\"   \"Assault\"  \"UrbanPop\" \"Rape\"    "
      ]
     },
     "metadata": {},
     "output_type": "display_data"
    },
    {
     "data": {
      "text/html": [
       "<table>\n",
       "<thead><tr><th></th><th scope=col>Murder</th><th scope=col>Assault</th><th scope=col>UrbanPop</th><th scope=col>Rape</th></tr></thead>\n",
       "<tbody>\n",
       "\t<tr><th scope=row>Alabama</th><td>13.2</td><td>236 </td><td>58  </td><td>21.2</td></tr>\n",
       "\t<tr><th scope=row>Alaska</th><td>10.0</td><td>263 </td><td>48  </td><td>44.5</td></tr>\n",
       "\t<tr><th scope=row>Arizona</th><td> 8.1</td><td>294 </td><td>80  </td><td>31.0</td></tr>\n",
       "\t<tr><th scope=row>Arkansas</th><td> 8.8</td><td>190 </td><td>50  </td><td>19.5</td></tr>\n",
       "\t<tr><th scope=row>California</th><td> 9.0</td><td>276 </td><td>91  </td><td>40.6</td></tr>\n",
       "\t<tr><th scope=row>Colorado</th><td> 7.9</td><td>204 </td><td>78  </td><td>38.7</td></tr>\n",
       "</tbody>\n",
       "</table>\n"
      ],
      "text/latex": [
       "\\begin{tabular}{r|llll}\n",
       "  & Murder & Assault & UrbanPop & Rape\\\\\n",
       "\\hline\n",
       "\tAlabama & 13.2 & 236  & 58   & 21.2\\\\\n",
       "\tAlaska & 10.0 & 263  & 48   & 44.5\\\\\n",
       "\tArizona &  8.1 & 294  & 80   & 31.0\\\\\n",
       "\tArkansas &  8.8 & 190  & 50   & 19.5\\\\\n",
       "\tCalifornia &  9.0 & 276  & 91   & 40.6\\\\\n",
       "\tColorado &  7.9 & 204  & 78   & 38.7\\\\\n",
       "\\end{tabular}\n"
      ],
      "text/markdown": [
       "\n",
       "| <!--/--> | Murder | Assault | UrbanPop | Rape | \n",
       "|---|---|---|---|---|---|\n",
       "| Alabama | 13.2 | 236  | 58   | 21.2 | \n",
       "| Alaska | 10.0 | 263  | 48   | 44.5 | \n",
       "| Arizona |  8.1 | 294  | 80   | 31.0 | \n",
       "| Arkansas |  8.8 | 190  | 50   | 19.5 | \n",
       "| California |  9.0 | 276  | 91   | 40.6 | \n",
       "| Colorado |  7.9 | 204  | 78   | 38.7 | \n",
       "\n",
       "\n"
      ],
      "text/plain": [
       "           Murder Assault UrbanPop Rape\n",
       "Alabama    13.2   236     58       21.2\n",
       "Alaska     10.0   263     48       44.5\n",
       "Arizona     8.1   294     80       31.0\n",
       "Arkansas    8.8   190     50       19.5\n",
       "California  9.0   276     91       40.6\n",
       "Colorado    7.9   204     78       38.7"
      ]
     },
     "metadata": {},
     "output_type": "display_data"
    },
    {
     "data": {
      "text/html": [
       "<dl class=dl-horizontal>\n",
       "\t<dt>Murder</dt>\n",
       "\t\t<dd>7.788</dd>\n",
       "\t<dt>Assault</dt>\n",
       "\t\t<dd>170.76</dd>\n",
       "\t<dt>UrbanPop</dt>\n",
       "\t\t<dd>65.54</dd>\n",
       "\t<dt>Rape</dt>\n",
       "\t\t<dd>21.232</dd>\n",
       "</dl>\n"
      ],
      "text/latex": [
       "\\begin{description*}\n",
       "\\item[Murder] 7.788\n",
       "\\item[Assault] 170.76\n",
       "\\item[UrbanPop] 65.54\n",
       "\\item[Rape] 21.232\n",
       "\\end{description*}\n"
      ],
      "text/markdown": [
       "Murder\n",
       ":   7.788Assault\n",
       ":   170.76UrbanPop\n",
       ":   65.54Rape\n",
       ":   21.232\n",
       "\n"
      ],
      "text/plain": [
       "  Murder  Assault UrbanPop     Rape \n",
       "   7.788  170.760   65.540   21.232 "
      ]
     },
     "metadata": {},
     "output_type": "display_data"
    },
    {
     "data": {
      "text/html": [
       "<dl class=dl-horizontal>\n",
       "\t<dt>Murder</dt>\n",
       "\t\t<dd>18.9704653061224</dd>\n",
       "\t<dt>Assault</dt>\n",
       "\t\t<dd>6945.16571428571</dd>\n",
       "\t<dt>UrbanPop</dt>\n",
       "\t\t<dd>209.518775510204</dd>\n",
       "\t<dt>Rape</dt>\n",
       "\t\t<dd>87.7291591836735</dd>\n",
       "</dl>\n"
      ],
      "text/latex": [
       "\\begin{description*}\n",
       "\\item[Murder] 18.9704653061224\n",
       "\\item[Assault] 6945.16571428571\n",
       "\\item[UrbanPop] 209.518775510204\n",
       "\\item[Rape] 87.7291591836735\n",
       "\\end{description*}\n"
      ],
      "text/markdown": [
       "Murder\n",
       ":   18.9704653061224Assault\n",
       ":   6945.16571428571UrbanPop\n",
       ":   209.518775510204Rape\n",
       ":   87.7291591836735\n",
       "\n"
      ],
      "text/plain": [
       "    Murder    Assault   UrbanPop       Rape \n",
       "  18.97047 6945.16571  209.51878   87.72916 "
      ]
     },
     "metadata": {},
     "output_type": "display_data"
    },
    {
     "data": {
      "text/html": [
       "<ol class=list-inline>\n",
       "\t<li>'sdev'</li>\n",
       "\t<li>'rotation'</li>\n",
       "\t<li>'center'</li>\n",
       "\t<li>'scale'</li>\n",
       "\t<li>'x'</li>\n",
       "</ol>\n"
      ],
      "text/latex": [
       "\\begin{enumerate*}\n",
       "\\item 'sdev'\n",
       "\\item 'rotation'\n",
       "\\item 'center'\n",
       "\\item 'scale'\n",
       "\\item 'x'\n",
       "\\end{enumerate*}\n"
      ],
      "text/markdown": [
       "1. 'sdev'\n",
       "2. 'rotation'\n",
       "3. 'center'\n",
       "4. 'scale'\n",
       "5. 'x'\n",
       "\n",
       "\n"
      ],
      "text/plain": [
       "[1] \"sdev\"     \"rotation\" \"center\"   \"scale\"    \"x\"       "
      ]
     },
     "metadata": {},
     "output_type": "display_data"
    },
    {
     "data": {
      "text/html": [
       "<dl class=dl-horizontal>\n",
       "\t<dt>Murder</dt>\n",
       "\t\t<dd>7.788</dd>\n",
       "\t<dt>Assault</dt>\n",
       "\t\t<dd>170.76</dd>\n",
       "\t<dt>UrbanPop</dt>\n",
       "\t\t<dd>65.54</dd>\n",
       "\t<dt>Rape</dt>\n",
       "\t\t<dd>21.232</dd>\n",
       "</dl>\n"
      ],
      "text/latex": [
       "\\begin{description*}\n",
       "\\item[Murder] 7.788\n",
       "\\item[Assault] 170.76\n",
       "\\item[UrbanPop] 65.54\n",
       "\\item[Rape] 21.232\n",
       "\\end{description*}\n"
      ],
      "text/markdown": [
       "Murder\n",
       ":   7.788Assault\n",
       ":   170.76UrbanPop\n",
       ":   65.54Rape\n",
       ":   21.232\n",
       "\n"
      ],
      "text/plain": [
       "  Murder  Assault UrbanPop     Rape \n",
       "   7.788  170.760   65.540   21.232 "
      ]
     },
     "metadata": {},
     "output_type": "display_data"
    },
    {
     "data": {
      "text/html": [
       "<dl class=dl-horizontal>\n",
       "\t<dt>Murder</dt>\n",
       "\t\t<dd>4.35550976420929</dd>\n",
       "\t<dt>Assault</dt>\n",
       "\t\t<dd>83.3376608400171</dd>\n",
       "\t<dt>UrbanPop</dt>\n",
       "\t\t<dd>14.4747634008368</dd>\n",
       "\t<dt>Rape</dt>\n",
       "\t\t<dd>9.36638453105965</dd>\n",
       "</dl>\n"
      ],
      "text/latex": [
       "\\begin{description*}\n",
       "\\item[Murder] 4.35550976420929\n",
       "\\item[Assault] 83.3376608400171\n",
       "\\item[UrbanPop] 14.4747634008368\n",
       "\\item[Rape] 9.36638453105965\n",
       "\\end{description*}\n"
      ],
      "text/markdown": [
       "Murder\n",
       ":   4.35550976420929Assault\n",
       ":   83.3376608400171UrbanPop\n",
       ":   14.4747634008368Rape\n",
       ":   9.36638453105965\n",
       "\n"
      ],
      "text/plain": [
       "   Murder   Assault  UrbanPop      Rape \n",
       " 4.355510 83.337661 14.474763  9.366385 "
      ]
     },
     "metadata": {},
     "output_type": "display_data"
    },
    {
     "data": {
      "text/html": [
       "<table>\n",
       "<thead><tr><th></th><th scope=col>PC1</th><th scope=col>PC2</th><th scope=col>PC3</th><th scope=col>PC4</th></tr></thead>\n",
       "<tbody>\n",
       "\t<tr><th scope=row>Murder</th><td>-0.5358995 </td><td> 0.4181809 </td><td>-0.3412327 </td><td> 0.64922780</td></tr>\n",
       "\t<tr><th scope=row>Assault</th><td>-0.5831836 </td><td> 0.1879856 </td><td>-0.2681484 </td><td>-0.74340748</td></tr>\n",
       "\t<tr><th scope=row>UrbanPop</th><td>-0.2781909 </td><td>-0.8728062 </td><td>-0.3780158 </td><td> 0.13387773</td></tr>\n",
       "\t<tr><th scope=row>Rape</th><td>-0.5434321 </td><td>-0.1673186 </td><td> 0.8177779 </td><td> 0.08902432</td></tr>\n",
       "</tbody>\n",
       "</table>\n"
      ],
      "text/latex": [
       "\\begin{tabular}{r|llll}\n",
       "  & PC1 & PC2 & PC3 & PC4\\\\\n",
       "\\hline\n",
       "\tMurder & -0.5358995  &  0.4181809  & -0.3412327  &  0.64922780\\\\\n",
       "\tAssault & -0.5831836  &  0.1879856  & -0.2681484  & -0.74340748\\\\\n",
       "\tUrbanPop & -0.2781909  & -0.8728062  & -0.3780158  &  0.13387773\\\\\n",
       "\tRape & -0.5434321  & -0.1673186  &  0.8177779  &  0.08902432\\\\\n",
       "\\end{tabular}\n"
      ],
      "text/markdown": [
       "\n",
       "| <!--/--> | PC1 | PC2 | PC3 | PC4 | \n",
       "|---|---|---|---|\n",
       "| Murder | -0.5358995  |  0.4181809  | -0.3412327  |  0.64922780 | \n",
       "| Assault | -0.5831836  |  0.1879856  | -0.2681484  | -0.74340748 | \n",
       "| UrbanPop | -0.2781909  | -0.8728062  | -0.3780158  |  0.13387773 | \n",
       "| Rape | -0.5434321  | -0.1673186  |  0.8177779  |  0.08902432 | \n",
       "\n",
       "\n"
      ],
      "text/plain": [
       "         PC1        PC2        PC3        PC4        \n",
       "Murder   -0.5358995  0.4181809 -0.3412327  0.64922780\n",
       "Assault  -0.5831836  0.1879856 -0.2681484 -0.74340748\n",
       "UrbanPop -0.2781909 -0.8728062 -0.3780158  0.13387773\n",
       "Rape     -0.5434321 -0.1673186  0.8177779  0.08902432"
      ]
     },
     "metadata": {},
     "output_type": "display_data"
    },
    {
     "data": {
      "text/html": [
       "<ol class=list-inline>\n",
       "\t<li>50</li>\n",
       "\t<li>4</li>\n",
       "</ol>\n"
      ],
      "text/latex": [
       "\\begin{enumerate*}\n",
       "\\item 50\n",
       "\\item 4\n",
       "\\end{enumerate*}\n"
      ],
      "text/markdown": [
       "1. 50\n",
       "2. 4\n",
       "\n",
       "\n"
      ],
      "text/plain": [
       "[1] 50  4"
      ]
     },
     "metadata": {},
     "output_type": "display_data"
    },
    {
     "data": {
      "image/png": "[encoded data removed]",
      "text/plain": [
       "plot without title"
      ]
     },
     "metadata": {},
     "output_type": "display_data"
    },
    {
     "data": {
      "text/html": [
       "<ol class=list-inline>\n",
       "\t<li>1.57487827439123</li>\n",
       "\t<li>0.994869414817765</li>\n",
       "\t<li>0.597129115502527</li>\n",
       "\t<li>0.41644938195396</li>\n",
       "</ol>\n"
      ],
      "text/latex": [
       "\\begin{enumerate*}\n",
       "\\item 1.57487827439123\n",
       "\\item 0.994869414817765\n",
       "\\item 0.597129115502527\n",
       "\\item 0.41644938195396\n",
       "\\end{enumerate*}\n"
      ],
      "text/markdown": [
       "1. 1.57487827439123\n",
       "2. 0.994869414817765\n",
       "3. 0.597129115502527\n",
       "4. 0.41644938195396\n",
       "\n",
       "\n"
      ],
      "text/plain": [
       "[1] 1.5748783 0.9948694 0.5971291 0.4164494"
      ]
     },
     "metadata": {},
     "output_type": "display_data"
    },
    {
     "data": {
      "text/html": [
       "<ol class=list-inline>\n",
       "\t<li>2.48024157914949</li>\n",
       "\t<li>0.989765152539842</li>\n",
       "\t<li>0.35656318058083</li>\n",
       "\t<li>0.173430087729835</li>\n",
       "</ol>\n"
      ],
      "text/latex": [
       "\\begin{enumerate*}\n",
       "\\item 2.48024157914949\n",
       "\\item 0.989765152539842\n",
       "\\item 0.35656318058083\n",
       "\\item 0.173430087729835\n",
       "\\end{enumerate*}\n"
      ],
      "text/markdown": [
       "1. 2.48024157914949\n",
       "2. 0.989765152539842\n",
       "3. 0.35656318058083\n",
       "4. 0.173430087729835\n",
       "\n",
       "\n"
      ],
      "text/plain": [
       "[1] 2.4802416 0.9897652 0.3565632 0.1734301"
      ]
     },
     "metadata": {},
     "output_type": "display_data"
    },
    {
     "data": {
      "text/html": [
       "<ol class=list-inline>\n",
       "\t<li>0.620060394787373</li>\n",
       "\t<li>0.247441288134961</li>\n",
       "\t<li>0.0891407951452075</li>\n",
       "\t<li>0.0433575219324589</li>\n",
       "</ol>\n"
      ],
      "text/latex": [
       "\\begin{enumerate*}\n",
       "\\item 0.620060394787373\n",
       "\\item 0.247441288134961\n",
       "\\item 0.0891407951452075\n",
       "\\item 0.0433575219324589\n",
       "\\end{enumerate*}\n"
      ],
      "text/markdown": [
       "1. 0.620060394787373\n",
       "2. 0.247441288134961\n",
       "3. 0.0891407951452075\n",
       "4. 0.0433575219324589\n",
       "\n",
       "\n"
      ],
      "text/plain": [
       "[1] 0.62006039 0.24744129 0.08914080 0.04335752"
      ]
     },
     "metadata": {},
     "output_type": "display_data"
    },
    {
     "data": {
      "image/png": "[encoded data removed]",
      "text/plain": [
       "plot without title"
      ]
     },
     "metadata": {},
     "output_type": "display_data"
    },
    {
     "data": {
      "image/png": "[encoded data removed]",
      "text/plain": [
       "plot without title"
      ]
     },
     "metadata": {},
     "output_type": "display_data"
    },
    {
     "data": {
      "text/html": [
       "<ol class=list-inline>\n",
       "\t<li>1</li>\n",
       "\t<li>3</li>\n",
       "\t<li>11</li>\n",
       "\t<li>8</li>\n",
       "</ol>\n"
      ],
      "text/latex": [
       "\\begin{enumerate*}\n",
       "\\item 1\n",
       "\\item 3\n",
       "\\item 11\n",
       "\\item 8\n",
       "\\end{enumerate*}\n"
      ],
      "text/markdown": [
       "1. 1\n",
       "2. 3\n",
       "3. 11\n",
       "4. 8\n",
       "\n",
       "\n"
      ],
      "text/plain": [
       "[1]  1  3 11  8"
      ]
     },
     "metadata": {},
     "output_type": "display_data"
    },
    {
     "data": {
      "image/png": "[encoded data removed]",
      "text/plain": [
       "plot without title"
      ]
     },
     "metadata": {},
     "output_type": "display_data"
    }
   ],
   "source": [
    "# PCA\n",
    "states=row.names(USArrests)\n",
    "states\n",
    "names(USArrests)\n",
    "head(USArrests)\n",
    "apply(USArrests, 2, mean)\n",
    "apply(USArrests, 2, var)\n",
    "pr.out=prcomp(USArrests, scale=TRUE)\n",
    "names(pr.out)\n",
    "pr.out$center\n",
    "pr.out$scale\n",
    "pr.out$rotation\n",
    "dim(pr.out$x)\n",
    "biplot(pr.out, scale=0)\n",
    "pr.out$rotation=-pr.out$rotation\n",
    "pr.out$x=-pr.out$x\n",
    "biplot(pr.out, scale=0)\n",
    "pr.out$sdev\n",
    "pr.var=pr.out$sdev^2\n",
    "pr.var\n",
    "pve=pr.var/sum(pr.var)\n",
    "pve\n",
    "plot(pve, xlab=\"Principal Component\", ylab=\"Proportion of Variance Explained\", ylim=c(0,1),type='b')\n",
    "plot(cumsum(pve), xlab=\"Principal Component\", ylab=\"Cumulative Proportion of Variance Explained\", ylim=c(0,1),type='b')\n",
    "a=c(1,2,8,-3)\n",
    "cumsum(a)\n"
   ]
  },
  {
   "cell_type": "code",
   "execution_count": 36,
   "metadata": {},
   "outputs": [
    {
     "data": {
      "text/html": [
       "<ol class=list-inline>\n",
       "\t<li>2</li>\n",
       "\t<li>2</li>\n",
       "\t<li>2</li>\n",
       "\t<li>2</li>\n",
       "\t<li>2</li>\n",
       "\t<li>2</li>\n",
       "\t<li>2</li>\n",
       "\t<li>2</li>\n",
       "\t<li>2</li>\n",
       "\t<li>2</li>\n",
       "\t<li>2</li>\n",
       "\t<li>2</li>\n",
       "\t<li>2</li>\n",
       "\t<li>2</li>\n",
       "\t<li>2</li>\n",
       "\t<li>2</li>\n",
       "\t<li>2</li>\n",
       "\t<li>2</li>\n",
       "\t<li>2</li>\n",
       "\t<li>2</li>\n",
       "\t<li>2</li>\n",
       "\t<li>2</li>\n",
       "\t<li>2</li>\n",
       "\t<li>2</li>\n",
       "\t<li>2</li>\n",
       "\t<li>1</li>\n",
       "\t<li>1</li>\n",
       "\t<li>1</li>\n",
       "\t<li>1</li>\n",
       "\t<li>1</li>\n",
       "\t<li>1</li>\n",
       "\t<li>1</li>\n",
       "\t<li>1</li>\n",
       "\t<li>1</li>\n",
       "\t<li>1</li>\n",
       "\t<li>1</li>\n",
       "\t<li>1</li>\n",
       "\t<li>1</li>\n",
       "\t<li>1</li>\n",
       "\t<li>1</li>\n",
       "\t<li>1</li>\n",
       "\t<li>1</li>\n",
       "\t<li>1</li>\n",
       "\t<li>1</li>\n",
       "\t<li>1</li>\n",
       "\t<li>1</li>\n",
       "\t<li>1</li>\n",
       "\t<li>1</li>\n",
       "\t<li>1</li>\n",
       "\t<li>1</li>\n",
       "</ol>\n"
      ],
      "text/latex": [
       "\\begin{enumerate*}\n",
       "\\item 2\n",
       "\\item 2\n",
       "\\item 2\n",
       "\\item 2\n",
       "\\item 2\n",
       "\\item 2\n",
       "\\item 2\n",
       "\\item 2\n",
       "\\item 2\n",
       "\\item 2\n",
       "\\item 2\n",
       "\\item 2\n",
       "\\item 2\n",
       "\\item 2\n",
       "\\item 2\n",
       "\\item 2\n",
       "\\item 2\n",
       "\\item 2\n",
       "\\item 2\n",
       "\\item 2\n",
       "\\item 2\n",
       "\\item 2\n",
       "\\item 2\n",
       "\\item 2\n",
       "\\item 2\n",
       "\\item 1\n",
       "\\item 1\n",
       "\\item 1\n",
       "\\item 1\n",
       "\\item 1\n",
       "\\item 1\n",
       "\\item 1\n",
       "\\item 1\n",
       "\\item 1\n",
       "\\item 1\n",
       "\\item 1\n",
       "\\item 1\n",
       "\\item 1\n",
       "\\item 1\n",
       "\\item 1\n",
       "\\item 1\n",
       "\\item 1\n",
       "\\item 1\n",
       "\\item 1\n",
       "\\item 1\n",
       "\\item 1\n",
       "\\item 1\n",
       "\\item 1\n",
       "\\item 1\n",
       "\\item 1\n",
       "\\end{enumerate*}\n"
      ],
      "text/markdown": [
       "1. 2\n",
       "2. 2\n",
       "3. 2\n",
       "4. 2\n",
       "5. 2\n",
       "6. 2\n",
       "7. 2\n",
       "8. 2\n",
       "9. 2\n",
       "10. 2\n",
       "11. 2\n",
       "12. 2\n",
       "13. 2\n",
       "14. 2\n",
       "15. 2\n",
       "16. 2\n",
       "17. 2\n",
       "18. 2\n",
       "19. 2\n",
       "20. 2\n",
       "21. 2\n",
       "22. 2\n",
       "23. 2\n",
       "24. 2\n",
       "25. 2\n",
       "26. 1\n",
       "27. 1\n",
       "28. 1\n",
       "29. 1\n",
       "30. 1\n",
       "31. 1\n",
       "32. 1\n",
       "33. 1\n",
       "34. 1\n",
       "35. 1\n",
       "36. 1\n",
       "37. 1\n",
       "38. 1\n",
       "39. 1\n",
       "40. 1\n",
       "41. 1\n",
       "42. 1\n",
       "43. 1\n",
       "44. 1\n",
       "45. 1\n",
       "46. 1\n",
       "47. 1\n",
       "48. 1\n",
       "49. 1\n",
       "50. 1\n",
       "\n",
       "\n"
      ],
      "text/plain": [
       " [1] 2 2 2 2 2 2 2 2 2 2 2 2 2 2 2 2 2 2 2 2 2 2 2 2 2 1 1 1 1 1 1 1 1 1 1 1 1 1\n",
       "[39] 1 1 1 1 1 1 1 1 1 1 1 1"
      ]
     },
     "metadata": {},
     "output_type": "display_data"
    },
    {
     "data": {
      "text/plain": [
       "K-means clustering with 3 clusters of sizes 10, 23, 17\n",
       "\n",
       "Cluster means:\n",
       "        [,1]        [,2]\n",
       "1  2.3001545 -2.69622023\n",
       "2 -0.3820397 -0.08740753\n",
       "3  3.7789567 -4.56200798\n",
       "\n",
       "Clustering vector:\n",
       " [1] 3 1 3 1 3 3 3 1 3 1 3 1 3 1 3 1 3 3 3 3 3 1 3 3 3 2 2 2 2 2 2 2 2 2 2 2 2 2\n",
       "[39] 2 2 2 2 2 1 2 1 2 2 2 2\n",
       "\n",
       "Within cluster sum of squares by cluster:\n",
       "[1] 19.56137 52.67700 25.74089\n",
       " (between_SS / total_SS =  79.3 %)\n",
       "\n",
       "Available components:\n",
       "\n",
       "[1] \"cluster\"      \"centers\"      \"totss\"        \"withinss\"     \"tot.withinss\"\n",
       "[6] \"betweenss\"    \"size\"         \"iter\"         \"ifault\"      "
      ]
     },
     "metadata": {},
     "output_type": "display_data"
    },
    {
     "data": {
      "image/png": "[encoded data removed]",
      "text/plain": [
       "Plot with title \"K-Means Clustering Results with K=2\""
      ]
     },
     "metadata": {},
     "output_type": "display_data"
    },
    {
     "data": {
      "text/html": [
       "104.331921973392"
      ],
      "text/latex": [
       "104.331921973392"
      ],
      "text/markdown": [
       "104.331921973392"
      ],
      "text/plain": [
       "[1] 104.3319"
      ]
     },
     "metadata": {},
     "output_type": "display_data"
    },
    {
     "data": {
      "text/html": [
       "97.9792674793982"
      ],
      "text/latex": [
       "97.9792674793982"
      ],
      "text/markdown": [
       "97.9792674793982"
      ],
      "text/plain": [
       "[1] 97.97927"
      ]
     },
     "metadata": {},
     "output_type": "display_data"
    },
    {
     "data": {
      "image/png": "[encoded data removed]",
      "text/plain": [
       "Plot with title \"K-Means Clustering Results with K=3\""
      ]
     },
     "metadata": {},
     "output_type": "display_data"
    }
   ],
   "source": [
    "# Chapter 10 Lab 2: Clustering\n",
    "\n",
    "# K-Means Clustering\n",
    "\n",
    "set.seed(2)\n",
    "x=matrix(rnorm(50*2), ncol=2)\n",
    "x[1:25,1]=x[1:25,1]+3\n",
    "x[1:25,2]=x[1:25,2]-4\n",
    "km.out=kmeans(x,2,nstart=20)\n",
    "km.out$cluster\n",
    "plot(x, col=(km.out$cluster+1), main=\"K-Means Clustering Results with K=2\", xlab=\"\", ylab=\"\", pch=20, cex=2)\n",
    "set.seed(4)\n",
    "km.out=kmeans(x,3,nstart=20)\n",
    "km.out\n",
    "plot(x, col=(km.out$cluster+1), main=\"K-Means Clustering Results with K=3\", xlab=\"\", ylab=\"\", pch=20, cex=2)\n",
    "set.seed(3)\n",
    "km.out=kmeans(x,3,nstart=1)\n",
    "km.out$tot.withinss\n",
    "km.out=kmeans(x,3,nstart=20)\n",
    "km.out$tot.withinss"
   ]
  },
  {
   "cell_type": "code",
   "execution_count": 39,
   "metadata": {},
   "outputs": [
    {
     "data": {
      "text/html": [
       "<ol class=list-inline>\n",
       "\t<li>1</li>\n",
       "\t<li>1</li>\n",
       "\t<li>1</li>\n",
       "\t<li>1</li>\n",
       "\t<li>1</li>\n",
       "\t<li>1</li>\n",
       "\t<li>1</li>\n",
       "\t<li>1</li>\n",
       "\t<li>1</li>\n",
       "\t<li>1</li>\n",
       "\t<li>1</li>\n",
       "\t<li>1</li>\n",
       "\t<li>1</li>\n",
       "\t<li>1</li>\n",
       "\t<li>1</li>\n",
       "\t<li>1</li>\n",
       "\t<li>1</li>\n",
       "\t<li>1</li>\n",
       "\t<li>1</li>\n",
       "\t<li>1</li>\n",
       "\t<li>1</li>\n",
       "\t<li>1</li>\n",
       "\t<li>1</li>\n",
       "\t<li>1</li>\n",
       "\t<li>1</li>\n",
       "\t<li>2</li>\n",
       "\t<li>2</li>\n",
       "\t<li>2</li>\n",
       "\t<li>2</li>\n",
       "\t<li>2</li>\n",
       "\t<li>2</li>\n",
       "\t<li>2</li>\n",
       "\t<li>2</li>\n",
       "\t<li>2</li>\n",
       "\t<li>2</li>\n",
       "\t<li>2</li>\n",
       "\t<li>2</li>\n",
       "\t<li>2</li>\n",
       "\t<li>2</li>\n",
       "\t<li>2</li>\n",
       "\t<li>2</li>\n",
       "\t<li>2</li>\n",
       "\t<li>2</li>\n",
       "\t<li>2</li>\n",
       "\t<li>2</li>\n",
       "\t<li>2</li>\n",
       "\t<li>2</li>\n",
       "\t<li>2</li>\n",
       "\t<li>2</li>\n",
       "\t<li>2</li>\n",
       "</ol>\n"
      ],
      "text/latex": [
       "\\begin{enumerate*}\n",
       "\\item 1\n",
       "\\item 1\n",
       "\\item 1\n",
       "\\item 1\n",
       "\\item 1\n",
       "\\item 1\n",
       "\\item 1\n",
       "\\item 1\n",
       "\\item 1\n",
       "\\item 1\n",
       "\\item 1\n",
       "\\item 1\n",
       "\\item 1\n",
       "\\item 1\n",
       "\\item 1\n",
       "\\item 1\n",
       "\\item 1\n",
       "\\item 1\n",
       "\\item 1\n",
       "\\item 1\n",
       "\\item 1\n",
       "\\item 1\n",
       "\\item 1\n",
       "\\item 1\n",
       "\\item 1\n",
       "\\item 2\n",
       "\\item 2\n",
       "\\item 2\n",
       "\\item 2\n",
       "\\item 2\n",
       "\\item 2\n",
       "\\item 2\n",
       "\\item 2\n",
       "\\item 2\n",
       "\\item 2\n",
       "\\item 2\n",
       "\\item 2\n",
       "\\item 2\n",
       "\\item 2\n",
       "\\item 2\n",
       "\\item 2\n",
       "\\item 2\n",
       "\\item 2\n",
       "\\item 2\n",
       "\\item 2\n",
       "\\item 2\n",
       "\\item 2\n",
       "\\item 2\n",
       "\\item 2\n",
       "\\item 2\n",
       "\\end{enumerate*}\n"
      ],
      "text/markdown": [
       "1. 1\n",
       "2. 1\n",
       "3. 1\n",
       "4. 1\n",
       "5. 1\n",
       "6. 1\n",
       "7. 1\n",
       "8. 1\n",
       "9. 1\n",
       "10. 1\n",
       "11. 1\n",
       "12. 1\n",
       "13. 1\n",
       "14. 1\n",
       "15. 1\n",
       "16. 1\n",
       "17. 1\n",
       "18. 1\n",
       "19. 1\n",
       "20. 1\n",
       "21. 1\n",
       "22. 1\n",
       "23. 1\n",
       "24. 1\n",
       "25. 1\n",
       "26. 2\n",
       "27. 2\n",
       "28. 2\n",
       "29. 2\n",
       "30. 2\n",
       "31. 2\n",
       "32. 2\n",
       "33. 2\n",
       "34. 2\n",
       "35. 2\n",
       "36. 2\n",
       "37. 2\n",
       "38. 2\n",
       "39. 2\n",
       "40. 2\n",
       "41. 2\n",
       "42. 2\n",
       "43. 2\n",
       "44. 2\n",
       "45. 2\n",
       "46. 2\n",
       "47. 2\n",
       "48. 2\n",
       "49. 2\n",
       "50. 2\n",
       "\n",
       "\n"
      ],
      "text/plain": [
       " [1] 1 1 1 1 1 1 1 1 1 1 1 1 1 1 1 1 1 1 1 1 1 1 1 1 1 2 2 2 2 2 2 2 2 2 2 2 2 2\n",
       "[39] 2 2 2 2 2 2 2 2 2 2 2 2"
      ]
     },
     "metadata": {},
     "output_type": "display_data"
    },
    {
     "data": {
      "text/html": [
       "<ol class=list-inline>\n",
       "\t<li>1</li>\n",
       "\t<li>1</li>\n",
       "\t<li>1</li>\n",
       "\t<li>1</li>\n",
       "\t<li>1</li>\n",
       "\t<li>1</li>\n",
       "\t<li>1</li>\n",
       "\t<li>1</li>\n",
       "\t<li>1</li>\n",
       "\t<li>1</li>\n",
       "\t<li>1</li>\n",
       "\t<li>1</li>\n",
       "\t<li>1</li>\n",
       "\t<li>1</li>\n",
       "\t<li>1</li>\n",
       "\t<li>1</li>\n",
       "\t<li>1</li>\n",
       "\t<li>1</li>\n",
       "\t<li>1</li>\n",
       "\t<li>1</li>\n",
       "\t<li>1</li>\n",
       "\t<li>1</li>\n",
       "\t<li>1</li>\n",
       "\t<li>1</li>\n",
       "\t<li>1</li>\n",
       "\t<li>2</li>\n",
       "\t<li>2</li>\n",
       "\t<li>2</li>\n",
       "\t<li>2</li>\n",
       "\t<li>2</li>\n",
       "\t<li>2</li>\n",
       "\t<li>2</li>\n",
       "\t<li>1</li>\n",
       "\t<li>2</li>\n",
       "\t<li>2</li>\n",
       "\t<li>2</li>\n",
       "\t<li>2</li>\n",
       "\t<li>2</li>\n",
       "\t<li>2</li>\n",
       "\t<li>2</li>\n",
       "\t<li>2</li>\n",
       "\t<li>2</li>\n",
       "\t<li>2</li>\n",
       "\t<li>1</li>\n",
       "\t<li>2</li>\n",
       "\t<li>1</li>\n",
       "\t<li>2</li>\n",
       "\t<li>2</li>\n",
       "\t<li>2</li>\n",
       "\t<li>2</li>\n",
       "</ol>\n"
      ],
      "text/latex": [
       "\\begin{enumerate*}\n",
       "\\item 1\n",
       "\\item 1\n",
       "\\item 1\n",
       "\\item 1\n",
       "\\item 1\n",
       "\\item 1\n",
       "\\item 1\n",
       "\\item 1\n",
       "\\item 1\n",
       "\\item 1\n",
       "\\item 1\n",
       "\\item 1\n",
       "\\item 1\n",
       "\\item 1\n",
       "\\item 1\n",
       "\\item 1\n",
       "\\item 1\n",
       "\\item 1\n",
       "\\item 1\n",
       "\\item 1\n",
       "\\item 1\n",
       "\\item 1\n",
       "\\item 1\n",
       "\\item 1\n",
       "\\item 1\n",
       "\\item 2\n",
       "\\item 2\n",
       "\\item 2\n",
       "\\item 2\n",
       "\\item 2\n",
       "\\item 2\n",
       "\\item 2\n",
       "\\item 1\n",
       "\\item 2\n",
       "\\item 2\n",
       "\\item 2\n",
       "\\item 2\n",
       "\\item 2\n",
       "\\item 2\n",
       "\\item 2\n",
       "\\item 2\n",
       "\\item 2\n",
       "\\item 2\n",
       "\\item 1\n",
       "\\item 2\n",
       "\\item 1\n",
       "\\item 2\n",
       "\\item 2\n",
       "\\item 2\n",
       "\\item 2\n",
       "\\end{enumerate*}\n"
      ],
      "text/markdown": [
       "1. 1\n",
       "2. 1\n",
       "3. 1\n",
       "4. 1\n",
       "5. 1\n",
       "6. 1\n",
       "7. 1\n",
       "8. 1\n",
       "9. 1\n",
       "10. 1\n",
       "11. 1\n",
       "12. 1\n",
       "13. 1\n",
       "14. 1\n",
       "15. 1\n",
       "16. 1\n",
       "17. 1\n",
       "18. 1\n",
       "19. 1\n",
       "20. 1\n",
       "21. 1\n",
       "22. 1\n",
       "23. 1\n",
       "24. 1\n",
       "25. 1\n",
       "26. 2\n",
       "27. 2\n",
       "28. 2\n",
       "29. 2\n",
       "30. 2\n",
       "31. 2\n",
       "32. 2\n",
       "33. 1\n",
       "34. 2\n",
       "35. 2\n",
       "36. 2\n",
       "37. 2\n",
       "38. 2\n",
       "39. 2\n",
       "40. 2\n",
       "41. 2\n",
       "42. 2\n",
       "43. 2\n",
       "44. 1\n",
       "45. 2\n",
       "46. 1\n",
       "47. 2\n",
       "48. 2\n",
       "49. 2\n",
       "50. 2\n",
       "\n",
       "\n"
      ],
      "text/plain": [
       " [1] 1 1 1 1 1 1 1 1 1 1 1 1 1 1 1 1 1 1 1 1 1 1 1 1 1 2 2 2 2 2 2 2 1 2 2 2 2 2\n",
       "[39] 2 2 2 2 2 1 2 1 2 2 2 2"
      ]
     },
     "metadata": {},
     "output_type": "display_data"
    },
    {
     "data": {
      "text/html": [
       "<ol class=list-inline>\n",
       "\t<li>1</li>\n",
       "\t<li>1</li>\n",
       "\t<li>1</li>\n",
       "\t<li>1</li>\n",
       "\t<li>1</li>\n",
       "\t<li>1</li>\n",
       "\t<li>1</li>\n",
       "\t<li>1</li>\n",
       "\t<li>1</li>\n",
       "\t<li>1</li>\n",
       "\t<li>1</li>\n",
       "\t<li>1</li>\n",
       "\t<li>1</li>\n",
       "\t<li>1</li>\n",
       "\t<li>1</li>\n",
       "\t<li>2</li>\n",
       "\t<li>1</li>\n",
       "\t<li>1</li>\n",
       "\t<li>1</li>\n",
       "\t<li>1</li>\n",
       "\t<li>1</li>\n",
       "\t<li>1</li>\n",
       "\t<li>1</li>\n",
       "\t<li>1</li>\n",
       "\t<li>1</li>\n",
       "\t<li>1</li>\n",
       "\t<li>1</li>\n",
       "\t<li>1</li>\n",
       "\t<li>1</li>\n",
       "\t<li>1</li>\n",
       "\t<li>1</li>\n",
       "\t<li>1</li>\n",
       "\t<li>1</li>\n",
       "\t<li>1</li>\n",
       "\t<li>1</li>\n",
       "\t<li>1</li>\n",
       "\t<li>1</li>\n",
       "\t<li>1</li>\n",
       "\t<li>1</li>\n",
       "\t<li>1</li>\n",
       "\t<li>1</li>\n",
       "\t<li>1</li>\n",
       "\t<li>1</li>\n",
       "\t<li>1</li>\n",
       "\t<li>1</li>\n",
       "\t<li>1</li>\n",
       "\t<li>1</li>\n",
       "\t<li>1</li>\n",
       "\t<li>1</li>\n",
       "\t<li>1</li>\n",
       "</ol>\n"
      ],
      "text/latex": [
       "\\begin{enumerate*}\n",
       "\\item 1\n",
       "\\item 1\n",
       "\\item 1\n",
       "\\item 1\n",
       "\\item 1\n",
       "\\item 1\n",
       "\\item 1\n",
       "\\item 1\n",
       "\\item 1\n",
       "\\item 1\n",
       "\\item 1\n",
       "\\item 1\n",
       "\\item 1\n",
       "\\item 1\n",
       "\\item 1\n",
       "\\item 2\n",
       "\\item 1\n",
       "\\item 1\n",
       "\\item 1\n",
       "\\item 1\n",
       "\\item 1\n",
       "\\item 1\n",
       "\\item 1\n",
       "\\item 1\n",
       "\\item 1\n",
       "\\item 1\n",
       "\\item 1\n",
       "\\item 1\n",
       "\\item 1\n",
       "\\item 1\n",
       "\\item 1\n",
       "\\item 1\n",
       "\\item 1\n",
       "\\item 1\n",
       "\\item 1\n",
       "\\item 1\n",
       "\\item 1\n",
       "\\item 1\n",
       "\\item 1\n",
       "\\item 1\n",
       "\\item 1\n",
       "\\item 1\n",
       "\\item 1\n",
       "\\item 1\n",
       "\\item 1\n",
       "\\item 1\n",
       "\\item 1\n",
       "\\item 1\n",
       "\\item 1\n",
       "\\item 1\n",
       "\\end{enumerate*}\n"
      ],
      "text/markdown": [
       "1. 1\n",
       "2. 1\n",
       "3. 1\n",
       "4. 1\n",
       "5. 1\n",
       "6. 1\n",
       "7. 1\n",
       "8. 1\n",
       "9. 1\n",
       "10. 1\n",
       "11. 1\n",
       "12. 1\n",
       "13. 1\n",
       "14. 1\n",
       "15. 1\n",
       "16. 2\n",
       "17. 1\n",
       "18. 1\n",
       "19. 1\n",
       "20. 1\n",
       "21. 1\n",
       "22. 1\n",
       "23. 1\n",
       "24. 1\n",
       "25. 1\n",
       "26. 1\n",
       "27. 1\n",
       "28. 1\n",
       "29. 1\n",
       "30. 1\n",
       "31. 1\n",
       "32. 1\n",
       "33. 1\n",
       "34. 1\n",
       "35. 1\n",
       "36. 1\n",
       "37. 1\n",
       "38. 1\n",
       "39. 1\n",
       "40. 1\n",
       "41. 1\n",
       "42. 1\n",
       "43. 1\n",
       "44. 1\n",
       "45. 1\n",
       "46. 1\n",
       "47. 1\n",
       "48. 1\n",
       "49. 1\n",
       "50. 1\n",
       "\n",
       "\n"
      ],
      "text/plain": [
       " [1] 1 1 1 1 1 1 1 1 1 1 1 1 1 1 1 2 1 1 1 1 1 1 1 1 1 1 1 1 1 1 1 1 1 1 1 1 1 1\n",
       "[39] 1 1 1 1 1 1 1 1 1 1 1 1"
      ]
     },
     "metadata": {},
     "output_type": "display_data"
    },
    {
     "data": {
      "text/html": [
       "<ol class=list-inline>\n",
       "\t<li>1</li>\n",
       "\t<li>1</li>\n",
       "\t<li>1</li>\n",
       "\t<li>1</li>\n",
       "\t<li>1</li>\n",
       "\t<li>1</li>\n",
       "\t<li>1</li>\n",
       "\t<li>1</li>\n",
       "\t<li>1</li>\n",
       "\t<li>1</li>\n",
       "\t<li>1</li>\n",
       "\t<li>1</li>\n",
       "\t<li>1</li>\n",
       "\t<li>1</li>\n",
       "\t<li>1</li>\n",
       "\t<li>2</li>\n",
       "\t<li>1</li>\n",
       "\t<li>1</li>\n",
       "\t<li>1</li>\n",
       "\t<li>1</li>\n",
       "\t<li>1</li>\n",
       "\t<li>1</li>\n",
       "\t<li>1</li>\n",
       "\t<li>1</li>\n",
       "\t<li>1</li>\n",
       "\t<li>3</li>\n",
       "\t<li>3</li>\n",
       "\t<li>3</li>\n",
       "\t<li>3</li>\n",
       "\t<li>3</li>\n",
       "\t<li>3</li>\n",
       "\t<li>3</li>\n",
       "\t<li>3</li>\n",
       "\t<li>3</li>\n",
       "\t<li>3</li>\n",
       "\t<li>3</li>\n",
       "\t<li>3</li>\n",
       "\t<li>3</li>\n",
       "\t<li>3</li>\n",
       "\t<li>3</li>\n",
       "\t<li>3</li>\n",
       "\t<li>4</li>\n",
       "\t<li>3</li>\n",
       "\t<li>3</li>\n",
       "\t<li>3</li>\n",
       "\t<li>3</li>\n",
       "\t<li>3</li>\n",
       "\t<li>3</li>\n",
       "\t<li>3</li>\n",
       "\t<li>3</li>\n",
       "</ol>\n"
      ],
      "text/latex": [
       "\\begin{enumerate*}\n",
       "\\item 1\n",
       "\\item 1\n",
       "\\item 1\n",
       "\\item 1\n",
       "\\item 1\n",
       "\\item 1\n",
       "\\item 1\n",
       "\\item 1\n",
       "\\item 1\n",
       "\\item 1\n",
       "\\item 1\n",
       "\\item 1\n",
       "\\item 1\n",
       "\\item 1\n",
       "\\item 1\n",
       "\\item 2\n",
       "\\item 1\n",
       "\\item 1\n",
       "\\item 1\n",
       "\\item 1\n",
       "\\item 1\n",
       "\\item 1\n",
       "\\item 1\n",
       "\\item 1\n",
       "\\item 1\n",
       "\\item 3\n",
       "\\item 3\n",
       "\\item 3\n",
       "\\item 3\n",
       "\\item 3\n",
       "\\item 3\n",
       "\\item 3\n",
       "\\item 3\n",
       "\\item 3\n",
       "\\item 3\n",
       "\\item 3\n",
       "\\item 3\n",
       "\\item 3\n",
       "\\item 3\n",
       "\\item 3\n",
       "\\item 3\n",
       "\\item 4\n",
       "\\item 3\n",
       "\\item 3\n",
       "\\item 3\n",
       "\\item 3\n",
       "\\item 3\n",
       "\\item 3\n",
       "\\item 3\n",
       "\\item 3\n",
       "\\end{enumerate*}\n"
      ],
      "text/markdown": [
       "1. 1\n",
       "2. 1\n",
       "3. 1\n",
       "4. 1\n",
       "5. 1\n",
       "6. 1\n",
       "7. 1\n",
       "8. 1\n",
       "9. 1\n",
       "10. 1\n",
       "11. 1\n",
       "12. 1\n",
       "13. 1\n",
       "14. 1\n",
       "15. 1\n",
       "16. 2\n",
       "17. 1\n",
       "18. 1\n",
       "19. 1\n",
       "20. 1\n",
       "21. 1\n",
       "22. 1\n",
       "23. 1\n",
       "24. 1\n",
       "25. 1\n",
       "26. 3\n",
       "27. 3\n",
       "28. 3\n",
       "29. 3\n",
       "30. 3\n",
       "31. 3\n",
       "32. 3\n",
       "33. 3\n",
       "34. 3\n",
       "35. 3\n",
       "36. 3\n",
       "37. 3\n",
       "38. 3\n",
       "39. 3\n",
       "40. 3\n",
       "41. 3\n",
       "42. 4\n",
       "43. 3\n",
       "44. 3\n",
       "45. 3\n",
       "46. 3\n",
       "47. 3\n",
       "48. 3\n",
       "49. 3\n",
       "50. 3\n",
       "\n",
       "\n"
      ],
      "text/plain": [
       " [1] 1 1 1 1 1 1 1 1 1 1 1 1 1 1 1 2 1 1 1 1 1 1 1 1 1 3 3 3 3 3 3 3 3 3 3 3 3 3\n",
       "[39] 3 3 3 4 3 3 3 3 3 3 3 3"
      ]
     },
     "metadata": {},
     "output_type": "display_data"
    },
    {
     "data": {
      "image/png": "[encoded data removed]",
      "text/plain": [
       "Plot with title \"Single Linkage\""
      ]
     },
     "metadata": {},
     "output_type": "display_data"
    },
    {
     "data": {
      "image/png": "[encoded data removed]",
      "text/plain": [
       "Plot with title \"Complete Linkage with Correlation-Based Distance\""
      ]
     },
     "metadata": {},
     "output_type": "display_data"
    }
   ],
   "source": [
    "# Hierarchical Clustering\n",
    "\n",
    "hc.complete=hclust(dist(x), method=\"complete\")\n",
    "hc.average=hclust(dist(x), method=\"average\")\n",
    "hc.single=hclust(dist(x), method=\"single\")\n",
    "par(mfrow=c(1,3))\n",
    "plot(hc.complete,main=\"Complete Linkage\", xlab=\"\", sub=\"\", cex=.9)\n",
    "plot(hc.average, main=\"Average Linkage\", xlab=\"\", sub=\"\", cex=.9)\n",
    "plot(hc.single, main=\"Single Linkage\", xlab=\"\", sub=\"\", cex=.9)\n",
    "\n",
    "cutree(hc.complete, 2)\n",
    "cutree(hc.average, 2)\n",
    "cutree(hc.single, 2)\n",
    "cutree(hc.single, 4)\n",
    "\n",
    "xsc=scale(x)\n",
    "plot(hclust(dist(xsc), method=\"complete\"), main=\"Hierarchical Clustering with Scaled Features\")\n",
    "x=matrix(rnorm(30*3), ncol=3)\n",
    "dd=as.dist(1-cor(t(x)))\n",
    "plot(hclust(dd, method=\"complete\"), main=\"Complete Linkage with Correlation-Based Distance\", xlab=\"\", sub=\"\")\n",
    "\n"
   ]
  },
  {
   "cell_type": "code",
   "execution_count": null,
   "metadata": {},
   "outputs": [],
   "source": []
  }
 ],
 "metadata": {
  "kernelspec": {
   "display_name": "R",
   "language": "R",
   "name": "ir"
  },
  "language_info": {
   "codemirror_mode": "r",
   "file_extension": ".r",
   "mimetype": "text/x-r-source",
   "name": "R",
   "pygments_lexer": "r",
   "version": "3.5.1"
  }
 },
 "nbformat": 4,
 "nbformat_minor": 2
}
