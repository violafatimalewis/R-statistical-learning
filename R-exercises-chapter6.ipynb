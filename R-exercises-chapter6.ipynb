{
 "cells": [
  {
   "cell_type": "code",
   "execution_count": 5,
   "metadata": {},
   "outputs": [],
   "source": [
    "# Best Subset Selection\n",
    "Hitters=read.csv(\"Hitters.csv\",header=T)\n",
    "#fix(Hitters)\n",
    "#summary(Hitters)\n"
   ]
  },
  {
   "cell_type": "code",
   "execution_count": 6,
   "metadata": {},
   "outputs": [
    {
     "data": {
      "text/html": [
       "<ol class=list-inline>\n",
       "\t<li>322</li>\n",
       "\t<li>21</li>\n",
       "</ol>\n"
      ],
      "text/latex": [
       "\\begin{enumerate*}\n",
       "\\item 322\n",
       "\\item 21\n",
       "\\end{enumerate*}\n"
      ],
      "text/markdown": [
       "1. 322\n",
       "2. 21\n",
       "\n",
       "\n"
      ],
      "text/plain": [
       "[1] 322  21"
      ]
     },
     "metadata": {},
     "output_type": "display_data"
    },
    {
     "data": {
      "text/html": [
       "<ol class=list-inline>\n",
       "\t<li>'AtBat'</li>\n",
       "\t<li>'Hits'</li>\n",
       "\t<li>'HmRun'</li>\n",
       "\t<li>'Runs'</li>\n",
       "\t<li>'RBI'</li>\n",
       "\t<li>'Walks'</li>\n",
       "\t<li>'Years'</li>\n",
       "\t<li>'CAtBat'</li>\n",
       "\t<li>'CHits'</li>\n",
       "\t<li>'CHmRun'</li>\n",
       "\t<li>'CRuns'</li>\n",
       "\t<li>'CRBI'</li>\n",
       "\t<li>'CWalks'</li>\n",
       "\t<li>'League'</li>\n",
       "\t<li>'Division'</li>\n",
       "\t<li>'PutOuts'</li>\n",
       "\t<li>'Assists'</li>\n",
       "\t<li>'Errors'</li>\n",
       "\t<li>'Salary'</li>\n",
       "\t<li>'NewLeague'</li>\n",
       "\t<li>'X'</li>\n",
       "</ol>\n"
      ],
      "text/latex": [
       "\\begin{enumerate*}\n",
       "\\item 'AtBat'\n",
       "\\item 'Hits'\n",
       "\\item 'HmRun'\n",
       "\\item 'Runs'\n",
       "\\item 'RBI'\n",
       "\\item 'Walks'\n",
       "\\item 'Years'\n",
       "\\item 'CAtBat'\n",
       "\\item 'CHits'\n",
       "\\item 'CHmRun'\n",
       "\\item 'CRuns'\n",
       "\\item 'CRBI'\n",
       "\\item 'CWalks'\n",
       "\\item 'League'\n",
       "\\item 'Division'\n",
       "\\item 'PutOuts'\n",
       "\\item 'Assists'\n",
       "\\item 'Errors'\n",
       "\\item 'Salary'\n",
       "\\item 'NewLeague'\n",
       "\\item 'X'\n",
       "\\end{enumerate*}\n"
      ],
      "text/markdown": [
       "1. 'AtBat'\n",
       "2. 'Hits'\n",
       "3. 'HmRun'\n",
       "4. 'Runs'\n",
       "5. 'RBI'\n",
       "6. 'Walks'\n",
       "7. 'Years'\n",
       "8. 'CAtBat'\n",
       "9. 'CHits'\n",
       "10. 'CHmRun'\n",
       "11. 'CRuns'\n",
       "12. 'CRBI'\n",
       "13. 'CWalks'\n",
       "14. 'League'\n",
       "15. 'Division'\n",
       "16. 'PutOuts'\n",
       "17. 'Assists'\n",
       "18. 'Errors'\n",
       "19. 'Salary'\n",
       "20. 'NewLeague'\n",
       "21. 'X'\n",
       "\n",
       "\n"
      ],
      "text/plain": [
       " [1] \"AtBat\"     \"Hits\"      \"HmRun\"     \"Runs\"      \"RBI\"       \"Walks\"    \n",
       " [7] \"Years\"     \"CAtBat\"    \"CHits\"     \"CHmRun\"    \"CRuns\"     \"CRBI\"     \n",
       "[13] \"CWalks\"    \"League\"    \"Division\"  \"PutOuts\"   \"Assists\"   \"Errors\"   \n",
       "[19] \"Salary\"    \"NewLeague\" \"X\"        "
      ]
     },
     "metadata": {},
     "output_type": "display_data"
    },
    {
     "data": {
      "text/html": [
       "<ol class=list-inline>\n",
       "\t<li>322</li>\n",
       "\t<li>20</li>\n",
       "</ol>\n"
      ],
      "text/latex": [
       "\\begin{enumerate*}\n",
       "\\item 322\n",
       "\\item 20\n",
       "\\end{enumerate*}\n"
      ],
      "text/markdown": [
       "1. 322\n",
       "2. 20\n",
       "\n",
       "\n"
      ],
      "text/plain": [
       "[1] 322  20"
      ]
     },
     "metadata": {},
     "output_type": "display_data"
    }
   ],
   "source": [
    "dim(Hitters)\n",
    "names(Hitters)\n",
    "Hitters=Hitters[1:20]\n",
    "dim(Hitters)"
   ]
  },
  {
   "cell_type": "code",
   "execution_count": 7,
   "metadata": {},
   "outputs": [
    {
     "data": {
      "text/html": [
       "59"
      ],
      "text/latex": [
       "59"
      ],
      "text/markdown": [
       "59"
      ],
      "text/plain": [
       "[1] 59"
      ]
     },
     "metadata": {},
     "output_type": "display_data"
    },
    {
     "data": {
      "text/html": [
       "<ol class=list-inline>\n",
       "\t<li>263</li>\n",
       "\t<li>20</li>\n",
       "</ol>\n"
      ],
      "text/latex": [
       "\\begin{enumerate*}\n",
       "\\item 263\n",
       "\\item 20\n",
       "\\end{enumerate*}\n"
      ],
      "text/markdown": [
       "1. 263\n",
       "2. 20\n",
       "\n",
       "\n"
      ],
      "text/plain": [
       "[1] 263  20"
      ]
     },
     "metadata": {},
     "output_type": "display_data"
    },
    {
     "data": {
      "text/html": [
       "0"
      ],
      "text/latex": [
       "0"
      ],
      "text/markdown": [
       "0"
      ],
      "text/plain": [
       "[1] 0"
      ]
     },
     "metadata": {},
     "output_type": "display_data"
    }
   ],
   "source": [
    "sum(is.na(Hitters$Salary))\n",
    "Hitters=na.omit(Hitters)\n",
    "dim(Hitters)\n",
    "sum(is.na(Hitters$Salary))"
   ]
  },
  {
   "cell_type": "code",
   "execution_count": 10,
   "metadata": {},
   "outputs": [
    {
     "data": {
      "text/plain": [
       "Subset selection object\n",
       "Call: regsubsets.formula(Salary ~ ., Hitters, nvmax = 19)\n",
       "19 Variables  (and intercept)\n",
       "           Forced in Forced out\n",
       "AtBat          FALSE      FALSE\n",
       "Hits           FALSE      FALSE\n",
       "HmRun          FALSE      FALSE\n",
       "Runs           FALSE      FALSE\n",
       "RBI            FALSE      FALSE\n",
       "Walks          FALSE      FALSE\n",
       "Years          FALSE      FALSE\n",
       "CAtBat         FALSE      FALSE\n",
       "CHits          FALSE      FALSE\n",
       "CHmRun         FALSE      FALSE\n",
       "CRuns          FALSE      FALSE\n",
       "CRBI           FALSE      FALSE\n",
       "CWalks         FALSE      FALSE\n",
       "LeagueN        FALSE      FALSE\n",
       "DivisionW      FALSE      FALSE\n",
       "PutOuts        FALSE      FALSE\n",
       "Assists        FALSE      FALSE\n",
       "Errors         FALSE      FALSE\n",
       "NewLeagueN     FALSE      FALSE\n",
       "1 subsets of each size up to 19\n",
       "Selection Algorithm: exhaustive\n",
       "          AtBat Hits HmRun Runs RBI Walks Years CAtBat CHits CHmRun CRuns CRBI\n",
       "1  ( 1 )  \" \"   \" \"  \" \"   \" \"  \" \" \" \"   \" \"   \" \"    \" \"   \" \"    \" \"   \"*\" \n",
       "2  ( 1 )  \" \"   \"*\"  \" \"   \" \"  \" \" \" \"   \" \"   \" \"    \" \"   \" \"    \" \"   \"*\" \n",
       "3  ( 1 )  \" \"   \"*\"  \" \"   \" \"  \" \" \" \"   \" \"   \" \"    \" \"   \" \"    \" \"   \"*\" \n",
       "4  ( 1 )  \" \"   \"*\"  \" \"   \" \"  \" \" \" \"   \" \"   \" \"    \" \"   \" \"    \" \"   \"*\" \n",
       "5  ( 1 )  \"*\"   \"*\"  \" \"   \" \"  \" \" \" \"   \" \"   \" \"    \" \"   \" \"    \" \"   \"*\" \n",
       "6  ( 1 )  \"*\"   \"*\"  \" \"   \" \"  \" \" \"*\"   \" \"   \" \"    \" \"   \" \"    \" \"   \"*\" \n",
       "7  ( 1 )  \" \"   \"*\"  \" \"   \" \"  \" \" \"*\"   \" \"   \"*\"    \"*\"   \"*\"    \" \"   \" \" \n",
       "8  ( 1 )  \"*\"   \"*\"  \" \"   \" \"  \" \" \"*\"   \" \"   \" \"    \" \"   \"*\"    \"*\"   \" \" \n",
       "9  ( 1 )  \"*\"   \"*\"  \" \"   \" \"  \" \" \"*\"   \" \"   \"*\"    \" \"   \" \"    \"*\"   \"*\" \n",
       "10  ( 1 ) \"*\"   \"*\"  \" \"   \" \"  \" \" \"*\"   \" \"   \"*\"    \" \"   \" \"    \"*\"   \"*\" \n",
       "11  ( 1 ) \"*\"   \"*\"  \" \"   \" \"  \" \" \"*\"   \" \"   \"*\"    \" \"   \" \"    \"*\"   \"*\" \n",
       "12  ( 1 ) \"*\"   \"*\"  \" \"   \"*\"  \" \" \"*\"   \" \"   \"*\"    \" \"   \" \"    \"*\"   \"*\" \n",
       "13  ( 1 ) \"*\"   \"*\"  \" \"   \"*\"  \" \" \"*\"   \" \"   \"*\"    \" \"   \" \"    \"*\"   \"*\" \n",
       "14  ( 1 ) \"*\"   \"*\"  \"*\"   \"*\"  \" \" \"*\"   \" \"   \"*\"    \" \"   \" \"    \"*\"   \"*\" \n",
       "15  ( 1 ) \"*\"   \"*\"  \"*\"   \"*\"  \" \" \"*\"   \" \"   \"*\"    \"*\"   \" \"    \"*\"   \"*\" \n",
       "16  ( 1 ) \"*\"   \"*\"  \"*\"   \"*\"  \"*\" \"*\"   \" \"   \"*\"    \"*\"   \" \"    \"*\"   \"*\" \n",
       "17  ( 1 ) \"*\"   \"*\"  \"*\"   \"*\"  \"*\" \"*\"   \" \"   \"*\"    \"*\"   \" \"    \"*\"   \"*\" \n",
       "18  ( 1 ) \"*\"   \"*\"  \"*\"   \"*\"  \"*\" \"*\"   \"*\"   \"*\"    \"*\"   \" \"    \"*\"   \"*\" \n",
       "19  ( 1 ) \"*\"   \"*\"  \"*\"   \"*\"  \"*\" \"*\"   \"*\"   \"*\"    \"*\"   \"*\"    \"*\"   \"*\" \n",
       "          CWalks LeagueN DivisionW PutOuts Assists Errors NewLeagueN\n",
       "1  ( 1 )  \" \"    \" \"     \" \"       \" \"     \" \"     \" \"    \" \"       \n",
       "2  ( 1 )  \" \"    \" \"     \" \"       \" \"     \" \"     \" \"    \" \"       \n",
       "3  ( 1 )  \" \"    \" \"     \" \"       \"*\"     \" \"     \" \"    \" \"       \n",
       "4  ( 1 )  \" \"    \" \"     \"*\"       \"*\"     \" \"     \" \"    \" \"       \n",
       "5  ( 1 )  \" \"    \" \"     \"*\"       \"*\"     \" \"     \" \"    \" \"       \n",
       "6  ( 1 )  \" \"    \" \"     \"*\"       \"*\"     \" \"     \" \"    \" \"       \n",
       "7  ( 1 )  \" \"    \" \"     \"*\"       \"*\"     \" \"     \" \"    \" \"       \n",
       "8  ( 1 )  \"*\"    \" \"     \"*\"       \"*\"     \" \"     \" \"    \" \"       \n",
       "9  ( 1 )  \"*\"    \" \"     \"*\"       \"*\"     \" \"     \" \"    \" \"       \n",
       "10  ( 1 ) \"*\"    \" \"     \"*\"       \"*\"     \"*\"     \" \"    \" \"       \n",
       "11  ( 1 ) \"*\"    \"*\"     \"*\"       \"*\"     \"*\"     \" \"    \" \"       \n",
       "12  ( 1 ) \"*\"    \"*\"     \"*\"       \"*\"     \"*\"     \" \"    \" \"       \n",
       "13  ( 1 ) \"*\"    \"*\"     \"*\"       \"*\"     \"*\"     \"*\"    \" \"       \n",
       "14  ( 1 ) \"*\"    \"*\"     \"*\"       \"*\"     \"*\"     \"*\"    \" \"       \n",
       "15  ( 1 ) \"*\"    \"*\"     \"*\"       \"*\"     \"*\"     \"*\"    \" \"       \n",
       "16  ( 1 ) \"*\"    \"*\"     \"*\"       \"*\"     \"*\"     \"*\"    \" \"       \n",
       "17  ( 1 ) \"*\"    \"*\"     \"*\"       \"*\"     \"*\"     \"*\"    \"*\"       \n",
       "18  ( 1 ) \"*\"    \"*\"     \"*\"       \"*\"     \"*\"     \"*\"    \"*\"       \n",
       "19  ( 1 ) \"*\"    \"*\"     \"*\"       \"*\"     \"*\"     \"*\"    \"*\"       "
      ]
     },
     "metadata": {},
     "output_type": "display_data"
    },
    {
     "data": {
      "text/html": [
       "<ol class=list-inline>\n",
       "\t<li>'which'</li>\n",
       "\t<li>'rsq'</li>\n",
       "\t<li>'rss'</li>\n",
       "\t<li>'adjr2'</li>\n",
       "\t<li>'cp'</li>\n",
       "\t<li>'bic'</li>\n",
       "\t<li>'outmat'</li>\n",
       "\t<li>'obj'</li>\n",
       "</ol>\n"
      ],
      "text/latex": [
       "\\begin{enumerate*}\n",
       "\\item 'which'\n",
       "\\item 'rsq'\n",
       "\\item 'rss'\n",
       "\\item 'adjr2'\n",
       "\\item 'cp'\n",
       "\\item 'bic'\n",
       "\\item 'outmat'\n",
       "\\item 'obj'\n",
       "\\end{enumerate*}\n"
      ],
      "text/markdown": [
       "1. 'which'\n",
       "2. 'rsq'\n",
       "3. 'rss'\n",
       "4. 'adjr2'\n",
       "5. 'cp'\n",
       "6. 'bic'\n",
       "7. 'outmat'\n",
       "8. 'obj'\n",
       "\n",
       "\n"
      ],
      "text/plain": [
       "[1] \"which\"  \"rsq\"    \"rss\"    \"adjr2\"  \"cp\"     \"bic\"    \"outmat\" \"obj\"   "
      ]
     },
     "metadata": {},
     "output_type": "display_data"
    }
   ],
   "source": [
    "library(leaps)\n",
    "regfit.full=regsubsets(Salary~.,Hitters,nvmax=19)\n",
    "summary(regfit.full)\n",
    "names(summary(regfit.full))"
   ]
  },
  {
   "cell_type": "code",
   "execution_count": 11,
   "metadata": {},
   "outputs": [
    {
     "data": {
      "text/html": [
       "<ol class=list-inline>\n",
       "\t<li>0.321450088667895</li>\n",
       "\t<li>0.425223746466779</li>\n",
       "\t<li>0.451429415717957</li>\n",
       "\t<li>0.475406653394787</li>\n",
       "\t<li>0.490803615963518</li>\n",
       "\t<li>0.508714557358997</li>\n",
       "\t<li>0.514122682361273</li>\n",
       "\t<li>0.528556860302574</li>\n",
       "\t<li>0.534612447792431</li>\n",
       "\t<li>0.540494950940798</li>\n",
       "\t<li>0.54261532542542</li>\n",
       "\t<li>0.543630208632163</li>\n",
       "\t<li>0.544457014231977</li>\n",
       "\t<li>0.545216356301489</li>\n",
       "\t<li>0.545469230681164</li>\n",
       "\t<li>0.54576555748528</li>\n",
       "\t<li>0.545951808076699</li>\n",
       "\t<li>0.546094522341906</li>\n",
       "\t<li>0.546115861912532</li>\n",
       "</ol>\n"
      ],
      "text/latex": [
       "\\begin{enumerate*}\n",
       "\\item 0.321450088667895\n",
       "\\item 0.425223746466779\n",
       "\\item 0.451429415717957\n",
       "\\item 0.475406653394787\n",
       "\\item 0.490803615963518\n",
       "\\item 0.508714557358997\n",
       "\\item 0.514122682361273\n",
       "\\item 0.528556860302574\n",
       "\\item 0.534612447792431\n",
       "\\item 0.540494950940798\n",
       "\\item 0.54261532542542\n",
       "\\item 0.543630208632163\n",
       "\\item 0.544457014231977\n",
       "\\item 0.545216356301489\n",
       "\\item 0.545469230681164\n",
       "\\item 0.54576555748528\n",
       "\\item 0.545951808076699\n",
       "\\item 0.546094522341906\n",
       "\\item 0.546115861912532\n",
       "\\end{enumerate*}\n"
      ],
      "text/markdown": [
       "1. 0.321450088667895\n",
       "2. 0.425223746466779\n",
       "3. 0.451429415717957\n",
       "4. 0.475406653394787\n",
       "5. 0.490803615963518\n",
       "6. 0.508714557358997\n",
       "7. 0.514122682361273\n",
       "8. 0.528556860302574\n",
       "9. 0.534612447792431\n",
       "10. 0.540494950940798\n",
       "11. 0.54261532542542\n",
       "12. 0.543630208632163\n",
       "13. 0.544457014231977\n",
       "14. 0.545216356301489\n",
       "15. 0.545469230681164\n",
       "16. 0.54576555748528\n",
       "17. 0.545951808076699\n",
       "18. 0.546094522341906\n",
       "19. 0.546115861912532\n",
       "\n",
       "\n"
      ],
      "text/plain": [
       " [1] 0.3214501 0.4252237 0.4514294 0.4754067 0.4908036 0.5087146 0.5141227\n",
       " [8] 0.5285569 0.5346124 0.5404950 0.5426153 0.5436302 0.5444570 0.5452164\n",
       "[15] 0.5454692 0.5457656 0.5459518 0.5460945 0.5461159"
      ]
     },
     "metadata": {},
     "output_type": "display_data"
    }
   ],
   "source": [
    "summary(regfit.full)$rsq"
   ]
  },
  {
   "cell_type": "code",
   "execution_count": 15,
   "metadata": {},
   "outputs": [
    {
     "data": {
      "image/png": "[encoded data removed]",
      "text/plain": [
       "plot without title"
      ]
     },
     "metadata": {},
     "output_type": "display_data"
    },
    {
     "data": {
      "image/png": "[encoded data removed]",
      "text/plain": [
       "plot without title"
      ]
     },
     "metadata": {},
     "output_type": "display_data"
    },
    {
     "data": {
      "image/png": "[encoded data removed]",
      "text/plain": [
       "plot without title"
      ]
     },
     "metadata": {},
     "output_type": "display_data"
    },
    {
     "data": {
      "image/png": "[encoded data removed]",
      "text/plain": [
       "plot without title"
      ]
     },
     "metadata": {},
     "output_type": "display_data"
    }
   ],
   "source": [
    "\n",
    "plot(regfit.full ,scale =\"r2\")\n",
    "plot(regfit.full ,scale =\"adjr2\")\n",
    "plot(regfit.full ,scale =\"Cp\")\n",
    "plot(regfit.full ,scale =\"bic\")\n",
    "\n"
   ]
  },
  {
   "cell_type": "code",
   "execution_count": 30,
   "metadata": {},
   "outputs": [
    {
     "data": {
      "text/html": [
       "<ol class=list-inline>\n",
       "\t<li>20</li>\n",
       "\t<li>100</li>\n",
       "</ol>\n"
      ],
      "text/latex": [
       "\\begin{enumerate*}\n",
       "\\item 20\n",
       "\\item 100\n",
       "\\end{enumerate*}\n"
      ],
      "text/markdown": [
       "1. 20\n",
       "2. 100\n",
       "\n",
       "\n"
      ],
      "text/plain": [
       "[1]  20 100"
      ]
     },
     "metadata": {},
     "output_type": "display_data"
    },
    {
     "data": {
      "text/html": [
       "11497.5699539774"
      ],
      "text/latex": [
       "11497.5699539774"
      ],
      "text/markdown": [
       "11497.5699539774"
      ],
      "text/plain": [
       "[1] 11497.57"
      ]
     },
     "metadata": {},
     "output_type": "display_data"
    },
    {
     "data": {
      "text/html": [
       "<dl class=dl-horizontal>\n",
       "\t<dt>(Intercept)</dt>\n",
       "\t\t<dd>407.356050200417</dd>\n",
       "\t<dt>AtBat</dt>\n",
       "\t\t<dd>0.0369571817501358</dd>\n",
       "\t<dt>Hits</dt>\n",
       "\t\t<dd>0.138180343807892</dd>\n",
       "\t<dt>HmRun</dt>\n",
       "\t\t<dd>0.524629975886912</dd>\n",
       "\t<dt>Runs</dt>\n",
       "\t\t<dd>0.230701522621179</dd>\n",
       "\t<dt>RBI</dt>\n",
       "\t\t<dd>0.239841458504058</dd>\n",
       "\t<dt>Walks</dt>\n",
       "\t\t<dd>0.289618741049883</dd>\n",
       "\t<dt>Years</dt>\n",
       "\t\t<dd>1.10770292908555</dd>\n",
       "\t<dt>CAtBat</dt>\n",
       "\t\t<dd>0.00313181522151327</dd>\n",
       "\t<dt>CHits</dt>\n",
       "\t\t<dd>0.0116536373557531</dd>\n",
       "\t<dt>CHmRun</dt>\n",
       "\t\t<dd>0.0875456697555948</dd>\n",
       "\t<dt>CRuns</dt>\n",
       "\t\t<dd>0.0233798823693758</dd>\n",
       "\t<dt>CRBI</dt>\n",
       "\t\t<dd>0.0241383203685686</dd>\n",
       "\t<dt>CWalks</dt>\n",
       "\t\t<dd>0.0250154205993731</dd>\n",
       "\t<dt>LeagueN</dt>\n",
       "\t\t<dd>0.0850281135625458</dd>\n",
       "\t<dt>DivisionW</dt>\n",
       "\t\t<dd>-6.21544097273148</dd>\n",
       "\t<dt>PutOuts</dt>\n",
       "\t\t<dd>0.0164825767604547</dd>\n",
       "\t<dt>Assists</dt>\n",
       "\t\t<dd>0.00261298804528182</dd>\n",
       "\t<dt>Errors</dt>\n",
       "\t\t<dd>-0.0205026903654579</dd>\n",
       "\t<dt>NewLeagueN</dt>\n",
       "\t\t<dd>0.301433531372699</dd>\n",
       "</dl>\n"
      ],
      "text/latex": [
       "\\begin{description*}\n",
       "\\item[(Intercept)] 407.356050200417\n",
       "\\item[AtBat] 0.0369571817501358\n",
       "\\item[Hits] 0.138180343807892\n",
       "\\item[HmRun] 0.524629975886912\n",
       "\\item[Runs] 0.230701522621179\n",
       "\\item[RBI] 0.239841458504058\n",
       "\\item[Walks] 0.289618741049883\n",
       "\\item[Years] 1.10770292908555\n",
       "\\item[CAtBat] 0.00313181522151327\n",
       "\\item[CHits] 0.0116536373557531\n",
       "\\item[CHmRun] 0.0875456697555948\n",
       "\\item[CRuns] 0.0233798823693758\n",
       "\\item[CRBI] 0.0241383203685686\n",
       "\\item[CWalks] 0.0250154205993731\n",
       "\\item[LeagueN] 0.0850281135625458\n",
       "\\item[DivisionW] -6.21544097273148\n",
       "\\item[PutOuts] 0.0164825767604547\n",
       "\\item[Assists] 0.00261298804528182\n",
       "\\item[Errors] -0.0205026903654579\n",
       "\\item[NewLeagueN] 0.301433531372699\n",
       "\\end{description*}\n"
      ],
      "text/markdown": [
       "(Intercept)\n",
       ":   407.356050200417AtBat\n",
       ":   0.0369571817501358Hits\n",
       ":   0.138180343807892HmRun\n",
       ":   0.524629975886912Runs\n",
       ":   0.230701522621179RBI\n",
       ":   0.239841458504058Walks\n",
       ":   0.289618741049883Years\n",
       ":   1.10770292908555CAtBat\n",
       ":   0.00313181522151327CHits\n",
       ":   0.0116536373557531CHmRun\n",
       ":   0.0875456697555948CRuns\n",
       ":   0.0233798823693758CRBI\n",
       ":   0.0241383203685686CWalks\n",
       ":   0.0250154205993731LeagueN\n",
       ":   0.0850281135625458DivisionW\n",
       ":   -6.21544097273148PutOuts\n",
       ":   0.0164825767604547Assists\n",
       ":   0.00261298804528182Errors\n",
       ":   -0.0205026903654579NewLeagueN\n",
       ":   0.301433531372699\n",
       "\n"
      ],
      "text/plain": [
       "  (Intercept)         AtBat          Hits         HmRun          Runs \n",
       "407.356050200   0.036957182   0.138180344   0.524629976   0.230701523 \n",
       "          RBI         Walks         Years        CAtBat         CHits \n",
       "  0.239841459   0.289618741   1.107702929   0.003131815   0.011653637 \n",
       "       CHmRun         CRuns          CRBI        CWalks       LeagueN \n",
       "  0.087545670   0.023379882   0.024138320   0.025015421   0.085028114 \n",
       "    DivisionW       PutOuts       Assists        Errors    NewLeagueN \n",
       " -6.215440973   0.016482577   0.002612988  -0.020502690   0.301433531 "
      ]
     },
     "metadata": {},
     "output_type": "display_data"
    },
    {
     "data": {
      "text/html": [
       "0.01"
      ],
      "text/latex": [
       "0.01"
      ],
      "text/markdown": [
       "0.01"
      ],
      "text/plain": [
       "[1] 0.01"
      ]
     },
     "metadata": {},
     "output_type": "display_data"
    },
    {
     "data": {
      "text/html": [
       "<dl class=dl-horizontal>\n",
       "\t<dt>(Intercept)</dt>\n",
       "\t\t<dd>164.113216055414</dd>\n",
       "\t<dt>AtBat</dt>\n",
       "\t\t<dd>-1.97386151083729</dd>\n",
       "\t<dt>Hits</dt>\n",
       "\t\t<dd>7.37772270158916</dd>\n",
       "\t<dt>HmRun</dt>\n",
       "\t\t<dd>3.93660218756812</dd>\n",
       "\t<dt>Runs</dt>\n",
       "\t\t<dd>-2.19873624593067</dd>\n",
       "\t<dt>RBI</dt>\n",
       "\t\t<dd>-0.916230080143815</dd>\n",
       "\t<dt>Walks</dt>\n",
       "\t\t<dd>6.20037718243479</dd>\n",
       "\t<dt>Years</dt>\n",
       "\t\t<dd>-3.71403424169083</dd>\n",
       "\t<dt>CAtBat</dt>\n",
       "\t\t<dd>-0.175100633551428</dd>\n",
       "\t<dt>CHits</dt>\n",
       "\t\t<dd>0.211327716911</dd>\n",
       "\t<dt>CHmRun</dt>\n",
       "\t\t<dd>0.0562900372702792</dd>\n",
       "\t<dt>CRuns</dt>\n",
       "\t\t<dd>1.36605489745072</dd>\n",
       "\t<dt>CRBI</dt>\n",
       "\t\t<dd>0.709655156373971</dd>\n",
       "\t<dt>CWalks</dt>\n",
       "\t\t<dd>-0.795821725206941</dd>\n",
       "\t<dt>LeagueN</dt>\n",
       "\t\t<dd>63.4049325733441</dd>\n",
       "\t<dt>DivisionW</dt>\n",
       "\t\t<dd>-117.082437127347</dd>\n",
       "\t<dt>PutOuts</dt>\n",
       "\t\t<dd>0.282025406855762</dd>\n",
       "\t<dt>Assists</dt>\n",
       "\t\t<dd>0.373184815811622</dd>\n",
       "\t<dt>Errors</dt>\n",
       "\t\t<dd>-3.42400280950274</dd>\n",
       "\t<dt>NewLeagueN</dt>\n",
       "\t\t<dd>-25.990819276841</dd>\n",
       "</dl>\n"
      ],
      "text/latex": [
       "\\begin{description*}\n",
       "\\item[(Intercept)] 164.113216055414\n",
       "\\item[AtBat] -1.97386151083729\n",
       "\\item[Hits] 7.37772270158916\n",
       "\\item[HmRun] 3.93660218756812\n",
       "\\item[Runs] -2.19873624593067\n",
       "\\item[RBI] -0.916230080143815\n",
       "\\item[Walks] 6.20037718243479\n",
       "\\item[Years] -3.71403424169083\n",
       "\\item[CAtBat] -0.175100633551428\n",
       "\\item[CHits] 0.211327716911\n",
       "\\item[CHmRun] 0.0562900372702792\n",
       "\\item[CRuns] 1.36605489745072\n",
       "\\item[CRBI] 0.709655156373971\n",
       "\\item[CWalks] -0.795821725206941\n",
       "\\item[LeagueN] 63.4049325733441\n",
       "\\item[DivisionW] -117.082437127347\n",
       "\\item[PutOuts] 0.282025406855762\n",
       "\\item[Assists] 0.373184815811622\n",
       "\\item[Errors] -3.42400280950274\n",
       "\\item[NewLeagueN] -25.990819276841\n",
       "\\end{description*}\n"
      ],
      "text/markdown": [
       "(Intercept)\n",
       ":   164.113216055414AtBat\n",
       ":   -1.97386151083729Hits\n",
       ":   7.37772270158916HmRun\n",
       ":   3.93660218756812Runs\n",
       ":   -2.19873624593067RBI\n",
       ":   -0.916230080143815Walks\n",
       ":   6.20037718243479Years\n",
       ":   -3.71403424169083CAtBat\n",
       ":   -0.175100633551428CHits\n",
       ":   0.211327716911CHmRun\n",
       ":   0.0562900372702792CRuns\n",
       ":   1.36605489745072CRBI\n",
       ":   0.709655156373971CWalks\n",
       ":   -0.795821725206941LeagueN\n",
       ":   63.4049325733441DivisionW\n",
       ":   -117.082437127347PutOuts\n",
       ":   0.282025406855762Assists\n",
       ":   0.373184815811622Errors\n",
       ":   -3.42400280950274NewLeagueN\n",
       ":   -25.990819276841\n",
       "\n"
      ],
      "text/plain": [
       "  (Intercept)         AtBat          Hits         HmRun          Runs \n",
       " 164.11321606   -1.97386151    7.37772270    3.93660219   -2.19873625 \n",
       "          RBI         Walks         Years        CAtBat         CHits \n",
       "  -0.91623008    6.20037718   -3.71403424   -0.17510063    0.21132772 \n",
       "       CHmRun         CRuns          CRBI        CWalks       LeagueN \n",
       "   0.05629004    1.36605490    0.70965516   -0.79582173   63.40493257 \n",
       "    DivisionW       PutOuts       Assists        Errors    NewLeagueN \n",
       "-117.08243713    0.28202541    0.37318482   -3.42400281  -25.99081928 "
      ]
     },
     "metadata": {},
     "output_type": "display_data"
    },
    {
     "data": {
      "text/html": [
       "<dl class=dl-horizontal>\n",
       "\t<dt>(Intercept)</dt>\n",
       "\t\t<dd>48.7661032921615</dd>\n",
       "\t<dt>AtBat</dt>\n",
       "\t\t<dd>-0.358099859376743</dd>\n",
       "\t<dt>Hits</dt>\n",
       "\t\t<dd>1.96935928646357</dd>\n",
       "\t<dt>HmRun</dt>\n",
       "\t\t<dd>-1.27824798145674</dd>\n",
       "\t<dt>Runs</dt>\n",
       "\t\t<dd>1.14589163211966</dd>\n",
       "\t<dt>RBI</dt>\n",
       "\t\t<dd>0.803829228437657</dd>\n",
       "\t<dt>Walks</dt>\n",
       "\t\t<dd>2.71618579623369</dd>\n",
       "\t<dt>Years</dt>\n",
       "\t\t<dd>-6.21831921727847</dd>\n",
       "\t<dt>CAtBat</dt>\n",
       "\t\t<dd>0.00544783719814841</dd>\n",
       "\t<dt>CHits</dt>\n",
       "\t\t<dd>0.106489514023417</dd>\n",
       "\t<dt>CHmRun</dt>\n",
       "\t\t<dd>0.624485956082653</dd>\n",
       "\t<dt>CRuns</dt>\n",
       "\t\t<dd>0.221498463760032</dd>\n",
       "\t<dt>CRBI</dt>\n",
       "\t\t<dd>0.218691380321251</dd>\n",
       "\t<dt>CWalks</dt>\n",
       "\t\t<dd>-0.150024548516929</dd>\n",
       "\t<dt>LeagueN</dt>\n",
       "\t\t<dd>45.9258855144166</dd>\n",
       "\t<dt>DivisionW</dt>\n",
       "\t\t<dd>-118.201136816368</dd>\n",
       "\t<dt>PutOuts</dt>\n",
       "\t\t<dd>0.25023215409256</dd>\n",
       "\t<dt>Assists</dt>\n",
       "\t\t<dd>0.121566461346767</dd>\n",
       "\t<dt>Errors</dt>\n",
       "\t\t<dd>-3.27859954463554</dd>\n",
       "\t<dt>NewLeagueN</dt>\n",
       "\t\t<dd>-9.49668031002677</dd>\n",
       "</dl>\n"
      ],
      "text/latex": [
       "\\begin{description*}\n",
       "\\item[(Intercept)] 48.7661032921615\n",
       "\\item[AtBat] -0.358099859376743\n",
       "\\item[Hits] 1.96935928646357\n",
       "\\item[HmRun] -1.27824798145674\n",
       "\\item[Runs] 1.14589163211966\n",
       "\\item[RBI] 0.803829228437657\n",
       "\\item[Walks] 2.71618579623369\n",
       "\\item[Years] -6.21831921727847\n",
       "\\item[CAtBat] 0.00544783719814841\n",
       "\\item[CHits] 0.106489514023417\n",
       "\\item[CHmRun] 0.624485956082653\n",
       "\\item[CRuns] 0.221498463760032\n",
       "\\item[CRBI] 0.218691380321251\n",
       "\\item[CWalks] -0.150024548516929\n",
       "\\item[LeagueN] 45.9258855144166\n",
       "\\item[DivisionW] -118.201136816368\n",
       "\\item[PutOuts] 0.25023215409256\n",
       "\\item[Assists] 0.121566461346767\n",
       "\\item[Errors] -3.27859954463554\n",
       "\\item[NewLeagueN] -9.49668031002677\n",
       "\\end{description*}\n"
      ],
      "text/markdown": [
       "(Intercept)\n",
       ":   48.7661032921615AtBat\n",
       ":   -0.358099859376743Hits\n",
       ":   1.96935928646357HmRun\n",
       ":   -1.27824798145674Runs\n",
       ":   1.14589163211966RBI\n",
       ":   0.803829228437657Walks\n",
       ":   2.71618579623369Years\n",
       ":   -6.21831921727847CAtBat\n",
       ":   0.00544783719814841CHits\n",
       ":   0.106489514023417CHmRun\n",
       ":   0.624485956082653CRuns\n",
       ":   0.221498463760032CRBI\n",
       ":   0.218691380321251CWalks\n",
       ":   -0.150024548516929LeagueN\n",
       ":   45.9258855144166DivisionW\n",
       ":   -118.201136816368PutOuts\n",
       ":   0.25023215409256Assists\n",
       ":   0.121566461346767Errors\n",
       ":   -3.27859954463554NewLeagueN\n",
       ":   -9.49668031002677\n",
       "\n"
      ],
      "text/plain": [
       "  (Intercept)         AtBat          Hits         HmRun          Runs \n",
       " 4.876610e+01 -3.580999e-01  1.969359e+00 -1.278248e+00  1.145892e+00 \n",
       "          RBI         Walks         Years        CAtBat         CHits \n",
       " 8.038292e-01  2.716186e+00 -6.218319e+00  5.447837e-03  1.064895e-01 \n",
       "       CHmRun         CRuns          CRBI        CWalks       LeagueN \n",
       " 6.244860e-01  2.214985e-01  2.186914e-01 -1.500245e-01  4.592589e+01 \n",
       "    DivisionW       PutOuts       Assists        Errors    NewLeagueN \n",
       "-1.182011e+02  2.502322e-01  1.215665e-01 -3.278600e+00 -9.496680e+00 "
      ]
     },
     "metadata": {},
     "output_type": "display_data"
    }
   ],
   "source": [
    "# ridge regression(alpha=0) and lasso(alpha=1)\n",
    "#glmnet standardizes variables by default\n",
    "x=model.matrix(Salary~.,Hitters)[,-1]\n",
    "\n",
    "y=Hitters$Salary\n",
    "\n",
    "library(glmnet)\n",
    "grid=10^seq(10,-2,length=100)\n",
    "\n",
    "ridge.mod=glmnet(x,y,alpha=0,lambda=grid)\n",
    "dim(coef(ridge.mod))\n",
    "\n",
    "ridge.mod$lambda[50]\n",
    "coef(ridge.mod)[,50]\n",
    "\n",
    "ridge.mod$lambda[100]\n",
    "coef(ridge.mod)[,100]\n",
    "\n",
    "#predict the coef with diff values of lambda, lamba =50\n",
    "predict (ridge.mod ,s=50, type =\"coefficients\")[1:20 ,]\n",
    "\n"
   ]
  },
  {
   "cell_type": "code",
   "execution_count": 49,
   "metadata": {},
   "outputs": [
    {
     "data": {
      "text/html": [
       "131"
      ],
      "text/latex": [
       "131"
      ],
      "text/markdown": [
       "131"
      ],
      "text/plain": [
       "[1] 131"
      ]
     },
     "metadata": {},
     "output_type": "display_data"
    },
    {
     "data": {
      "text/html": [
       "101036.832669596"
      ],
      "text/latex": [
       "101036.832669596"
      ],
      "text/markdown": [
       "101036.832669596"
      ],
      "text/plain": [
       "[1] 101036.8"
      ]
     },
     "metadata": {},
     "output_type": "display_data"
    },
    {
     "data": {
      "text/html": [
       "193253.05679545"
      ],
      "text/latex": [
       "193253.05679545"
      ],
      "text/markdown": [
       "193253.05679545"
      ],
      "text/plain": [
       "[1] 193253.1"
      ]
     },
     "metadata": {},
     "output_type": "display_data"
    },
    {
     "data": {
      "text/html": [
       "193253.113067991"
      ],
      "text/latex": [
       "193253.113067991"
      ],
      "text/markdown": [
       "193253.113067991"
      ],
      "text/plain": [
       "[1] 193253.1"
      ]
     },
     "metadata": {},
     "output_type": "display_data"
    },
    {
     "data": {
      "text/html": [
       "114723.615178307"
      ],
      "text/latex": [
       "114723.615178307"
      ],
      "text/markdown": [
       "114723.615178307"
      ],
      "text/plain": [
       "[1] 114723.6"
      ]
     },
     "metadata": {},
     "output_type": "display_data"
    },
    {
     "data": {
      "text/plain": [
       "\n",
       "Call:\n",
       "lm(formula = y ~ x, subset = train)\n",
       "\n",
       "Coefficients:\n",
       "(Intercept)       xAtBat        xHits       xHmRun        xRuns         xRBI  \n",
       "  299.42849     -2.54027      8.36682     11.64512     -9.09923      2.44105  \n",
       "     xWalks       xYears      xCAtBat       xCHits      xCHmRun       xCRuns  \n",
       "    9.23440    -22.93673     -0.18154     -0.11598     -1.33888      3.32838  \n",
       "      xCRBI      xCWalks     xLeagueN   xDivisionW     xPutOuts     xAssists  \n",
       "    0.07536     -1.07841     59.76065    -98.86233      0.34087      0.34165  \n",
       "    xErrors  xNewLeagueN  \n",
       "   -0.64207     -0.67442  \n"
      ]
     },
     "metadata": {},
     "output_type": "display_data"
    },
    {
     "data": {
      "text/html": [
       "<dl class=dl-horizontal>\n",
       "\t<dt>(Intercept)</dt>\n",
       "\t\t<dd>299.444672194969</dd>\n",
       "\t<dt>AtBat</dt>\n",
       "\t\t<dd>-2.53538355064916</dd>\n",
       "\t<dt>Hits</dt>\n",
       "\t\t<dd>8.33585019104536</dd>\n",
       "\t<dt>HmRun</dt>\n",
       "\t\t<dd>11.5983081539028</dd>\n",
       "\t<dt>Runs</dt>\n",
       "\t\t<dd>-9.0597137055197</dd>\n",
       "\t<dt>RBI</dt>\n",
       "\t\t<dd>2.45326545804833</dd>\n",
       "\t<dt>Walks</dt>\n",
       "\t\t<dd>9.21776005984875</dd>\n",
       "\t<dt>Years</dt>\n",
       "\t\t<dd>-22.9823958271133</dd>\n",
       "\t<dt>CAtBat</dt>\n",
       "\t\t<dd>-0.181916507521526</dd>\n",
       "\t<dt>CHits</dt>\n",
       "\t\t<dd>-0.105656883611962</dd>\n",
       "\t<dt>CHmRun</dt>\n",
       "\t\t<dd>-1.31721357545028</dd>\n",
       "\t<dt>CRuns</dt>\n",
       "\t\t<dd>3.3115251854742</dd>\n",
       "\t<dt>CRBI</dt>\n",
       "\t\t<dd>0.0659068924791732</dd>\n",
       "\t<dt>CWalks</dt>\n",
       "\t\t<dd>-1.07244476653182</dd>\n",
       "\t<dt>LeagueN</dt>\n",
       "\t\t<dd>59.7558727255961</dd>\n",
       "\t<dt>DivisionW</dt>\n",
       "\t\t<dd>-98.9439300480573</dd>\n",
       "\t<dt>PutOuts</dt>\n",
       "\t\t<dd>0.34083275752648</dd>\n",
       "\t<dt>Assists</dt>\n",
       "\t\t<dd>0.341554453390894</dd>\n",
       "\t<dt>Errors</dt>\n",
       "\t\t<dd>-0.653124712929294</dd>\n",
       "\t<dt>NewLeagueN</dt>\n",
       "\t\t<dd>-0.658829298226505</dd>\n",
       "</dl>\n"
      ],
      "text/latex": [
       "\\begin{description*}\n",
       "\\item[(Intercept)] 299.444672194969\n",
       "\\item[AtBat] -2.53538355064916\n",
       "\\item[Hits] 8.33585019104536\n",
       "\\item[HmRun] 11.5983081539028\n",
       "\\item[Runs] -9.0597137055197\n",
       "\\item[RBI] 2.45326545804833\n",
       "\\item[Walks] 9.21776005984875\n",
       "\\item[Years] -22.9823958271133\n",
       "\\item[CAtBat] -0.181916507521526\n",
       "\\item[CHits] -0.105656883611962\n",
       "\\item[CHmRun] -1.31721357545028\n",
       "\\item[CRuns] 3.3115251854742\n",
       "\\item[CRBI] 0.0659068924791732\n",
       "\\item[CWalks] -1.07244476653182\n",
       "\\item[LeagueN] 59.7558727255961\n",
       "\\item[DivisionW] -98.9439300480573\n",
       "\\item[PutOuts] 0.34083275752648\n",
       "\\item[Assists] 0.341554453390894\n",
       "\\item[Errors] -0.653124712929294\n",
       "\\item[NewLeagueN] -0.658829298226505\n",
       "\\end{description*}\n"
      ],
      "text/markdown": [
       "(Intercept)\n",
       ":   299.444672194969AtBat\n",
       ":   -2.53538355064916Hits\n",
       ":   8.33585019104536HmRun\n",
       ":   11.5983081539028Runs\n",
       ":   -9.0597137055197RBI\n",
       ":   2.45326545804833Walks\n",
       ":   9.21776005984875Years\n",
       ":   -22.9823958271133CAtBat\n",
       ":   -0.181916507521526CHits\n",
       ":   -0.105656883611962CHmRun\n",
       ":   -1.31721357545028CRuns\n",
       ":   3.3115251854742CRBI\n",
       ":   0.0659068924791732CWalks\n",
       ":   -1.07244476653182LeagueN\n",
       ":   59.7558727255961DivisionW\n",
       ":   -98.9439300480573PutOuts\n",
       ":   0.34083275752648Assists\n",
       ":   0.341554453390894Errors\n",
       ":   -0.653124712929294NewLeagueN\n",
       ":   -0.658829298226505\n",
       "\n"
      ],
      "text/plain": [
       " (Intercept)        AtBat         Hits        HmRun         Runs          RBI \n",
       "299.44467219  -2.53538355   8.33585019  11.59830815  -9.05971371   2.45326546 \n",
       "       Walks        Years       CAtBat        CHits       CHmRun        CRuns \n",
       "  9.21776006 -22.98239583  -0.18191651  -0.10565688  -1.31721358   3.31152519 \n",
       "        CRBI       CWalks      LeagueN    DivisionW      PutOuts      Assists \n",
       "  0.06590689  -1.07244477  59.75587273 -98.94393005   0.34083276   0.34155445 \n",
       "      Errors   NewLeagueN \n",
       " -0.65312471  -0.65882930 "
      ]
     },
     "metadata": {},
     "output_type": "display_data"
    }
   ],
   "source": [
    "# calculate test error\n",
    "set.seed(1)\n",
    "train=sample(1:nrow(x),nrow(x)/2)\n",
    "length(train)\n",
    "test=(-train)\n",
    "\n",
    "y.test=y[test]\n",
    "\n",
    "# lambda = 4\n",
    "ridge.mod =glmnet (x[train ,],y[train],alpha =0, lambda =grid ,thresh =1e-12)\n",
    "ridge.pred=predict (ridge.mod ,s=4, newx=x[test ,])\n",
    "mean(( ridge.pred -y.test)^2)\n",
    "\n",
    "#lambda = 1e10\n",
    "\n",
    "ridge.pred=predict (ridge.mod ,s=1e10, newx=x[test ,])\n",
    "mean(( ridge.pred -y.test)^2)\n",
    "\n",
    "#mse with only the intercept = mean of the training observations\n",
    "mean(( mean(y[train ])-y.test)^2)\n",
    "\n",
    "#if lambda=0 then its equivalent to linear regression\n",
    "ridge.pred=predict (ridge.mod ,s=0, newx=x[test ,])\n",
    "mean(( ridge.pred -y.test)^2)\n",
    "\n",
    "lm(y~x, subset=train)\n",
    "predict (ridge.mod ,s=0,type=\"coefficients\") [1:20 ,]"
   ]
  },
  {
   "cell_type": "code",
   "execution_count": 55,
   "metadata": {},
   "outputs": [
    {
     "data": {
      "text/html": [
       "211.741584781282"
      ],
      "text/latex": [
       "211.741584781282"
      ],
      "text/markdown": [
       "211.741584781282"
      ],
      "text/plain": [
       "[1] 211.7416"
      ]
     },
     "metadata": {},
     "output_type": "display_data"
    },
    {
     "data": {
      "text/html": [
       "96015.5127255327"
      ],
      "text/latex": [
       "96015.5127255327"
      ],
      "text/markdown": [
       "96015.5127255327"
      ],
      "text/plain": [
       "[1] 96015.51"
      ]
     },
     "metadata": {},
     "output_type": "display_data"
    },
    {
     "data": {
      "text/html": [
       "<dl class=dl-horizontal>\n",
       "\t<dt>(Intercept)</dt>\n",
       "\t\t<dd>9.88487156523885</dd>\n",
       "\t<dt>AtBat</dt>\n",
       "\t\t<dd>0.0314399123075984</dd>\n",
       "\t<dt>Hits</dt>\n",
       "\t\t<dd>1.00882875071524</dd>\n",
       "\t<dt>HmRun</dt>\n",
       "\t\t<dd>0.139276236015294</dd>\n",
       "\t<dt>Runs</dt>\n",
       "\t\t<dd>1.11320780992504</dd>\n",
       "\t<dt>RBI</dt>\n",
       "\t\t<dd>0.873189900643768</dd>\n",
       "\t<dt>Walks</dt>\n",
       "\t\t<dd>1.80410229199678</dd>\n",
       "\t<dt>Years</dt>\n",
       "\t\t<dd>0.130743811114521</dd>\n",
       "\t<dt>CAtBat</dt>\n",
       "\t\t<dd>0.0111397797786966</dd>\n",
       "\t<dt>CHits</dt>\n",
       "\t\t<dd>0.0648984331610166</dd>\n",
       "\t<dt>CHmRun</dt>\n",
       "\t\t<dd>0.4515854620806</dd>\n",
       "\t<dt>CRuns</dt>\n",
       "\t\t<dd>0.129000490457749</dd>\n",
       "\t<dt>CRBI</dt>\n",
       "\t\t<dd>0.137377116333051</dd>\n",
       "\t<dt>CWalks</dt>\n",
       "\t\t<dd>0.0290857160383185</dd>\n",
       "\t<dt>LeagueN</dt>\n",
       "\t\t<dd>27.1822753486271</dd>\n",
       "\t<dt>DivisionW</dt>\n",
       "\t\t<dd>-91.634112994314</dd>\n",
       "\t<dt>PutOuts</dt>\n",
       "\t\t<dd>0.191492519898057</dd>\n",
       "\t<dt>Assists</dt>\n",
       "\t\t<dd>0.042545362372645</dd>\n",
       "\t<dt>Errors</dt>\n",
       "\t\t<dd>-1.81244470270311</dd>\n",
       "\t<dt>NewLeagueN</dt>\n",
       "\t\t<dd>7.21208389965216</dd>\n",
       "</dl>\n"
      ],
      "text/latex": [
       "\\begin{description*}\n",
       "\\item[(Intercept)] 9.88487156523885\n",
       "\\item[AtBat] 0.0314399123075984\n",
       "\\item[Hits] 1.00882875071524\n",
       "\\item[HmRun] 0.139276236015294\n",
       "\\item[Runs] 1.11320780992504\n",
       "\\item[RBI] 0.873189900643768\n",
       "\\item[Walks] 1.80410229199678\n",
       "\\item[Years] 0.130743811114521\n",
       "\\item[CAtBat] 0.0111397797786966\n",
       "\\item[CHits] 0.0648984331610166\n",
       "\\item[CHmRun] 0.4515854620806\n",
       "\\item[CRuns] 0.129000490457749\n",
       "\\item[CRBI] 0.137377116333051\n",
       "\\item[CWalks] 0.0290857160383185\n",
       "\\item[LeagueN] 27.1822753486271\n",
       "\\item[DivisionW] -91.634112994314\n",
       "\\item[PutOuts] 0.191492519898057\n",
       "\\item[Assists] 0.042545362372645\n",
       "\\item[Errors] -1.81244470270311\n",
       "\\item[NewLeagueN] 7.21208389965216\n",
       "\\end{description*}\n"
      ],
      "text/markdown": [
       "(Intercept)\n",
       ":   9.88487156523885AtBat\n",
       ":   0.0314399123075984Hits\n",
       ":   1.00882875071524HmRun\n",
       ":   0.139276236015294Runs\n",
       ":   1.11320780992504RBI\n",
       ":   0.873189900643768Walks\n",
       ":   1.80410229199678Years\n",
       ":   0.130743811114521CAtBat\n",
       ":   0.0111397797786966CHits\n",
       ":   0.0648984331610166CHmRun\n",
       ":   0.4515854620806CRuns\n",
       ":   0.129000490457749CRBI\n",
       ":   0.137377116333051CWalks\n",
       ":   0.0290857160383185LeagueN\n",
       ":   27.1822753486271DivisionW\n",
       ":   -91.634112994314PutOuts\n",
       ":   0.191492519898057Assists\n",
       ":   0.042545362372645Errors\n",
       ":   -1.81244470270311NewLeagueN\n",
       ":   7.21208389965216\n",
       "\n"
      ],
      "text/plain": [
       " (Intercept)        AtBat         Hits        HmRun         Runs          RBI \n",
       "  9.88487157   0.03143991   1.00882875   0.13927624   1.11320781   0.87318990 \n",
       "       Walks        Years       CAtBat        CHits       CHmRun        CRuns \n",
       "  1.80410229   0.13074381   0.01113978   0.06489843   0.45158546   0.12900049 \n",
       "        CRBI       CWalks      LeagueN    DivisionW      PutOuts      Assists \n",
       "  0.13737712   0.02908572  27.18227535 -91.63411299   0.19149252   0.04254536 \n",
       "      Errors   NewLeagueN \n",
       " -1.81244470   7.21208390 "
      ]
     },
     "metadata": {},
     "output_type": "display_data"
    },
    {
     "data": {
      "image/png": "[encoded data removed]",
      "text/plain": [
       "plot without title"
      ]
     },
     "metadata": {},
     "output_type": "display_data"
    }
   ],
   "source": [
    "#cross validation to select the optimal value of lambda\n",
    "#by default cv.glmnet does 10 fold cross validation\n",
    "\n",
    "set.seed(1)\n",
    "cv.out =cv.glmnet (x[train ,],y[train],alpha =0)\n",
    "plot(cv.out)\n",
    "bestlam =cv.out$lambda.min\n",
    "bestlam\n",
    "\n",
    "#what is the test mse with this lambda\n",
    "ridge.pred=predict (ridge.mod ,s=bestlam ,newx=x[test ,])\n",
    "mean(( ridge.pred -y.test)^2)\n",
    "\n",
    "#finally refit our regression model with chosen lambda and find coef\n",
    "out=glmnet(x,y,alpha=0)\n",
    "predict (out ,type=\"coefficients\",s=bestlam )[1:20 ,]"
   ]
  },
  {
   "cell_type": "code",
   "execution_count": 64,
   "metadata": {},
   "outputs": [
    {
     "name": "stdout",
     "output_type": "stream",
     "text": [
      "Data: \tX dimension: 263 19 \n",
      "\tY dimension: 263 1\n",
      "Fit method: svdpc\n",
      "Number of components considered: 19\n",
      "\n",
      "VALIDATION: RMSEP\n",
      "Cross-validated using 10 random segments.\n",
      "       (Intercept)  1 comps  2 comps  3 comps  4 comps  5 comps  6 comps\n",
      "CV             452    348.9    352.2    353.5    352.8    350.1    349.1\n",
      "adjCV          452    348.7    351.8    352.9    352.1    349.3    348.0\n",
      "       7 comps  8 comps  9 comps  10 comps  11 comps  12 comps  13 comps\n",
      "CV       349.6    350.9    352.9     353.8     355.0     356.2     363.5\n",
      "adjCV    348.5    349.8    351.6     352.3     353.4     354.5     361.6\n",
      "       14 comps  15 comps  16 comps  17 comps  18 comps  19 comps\n",
      "CV        355.2     357.4     347.6     350.1     349.2     352.6\n",
      "adjCV     352.8     355.2     345.5     347.6     346.7     349.8\n",
      "\n",
      "TRAINING: % variance explained\n",
      "        1 comps  2 comps  3 comps  4 comps  5 comps  6 comps  7 comps  8 comps\n",
      "X         38.31    60.16    70.84    79.03    84.29    88.63    92.26    94.96\n",
      "Salary    40.63    41.58    42.17    43.22    44.90    46.48    46.69    46.75\n",
      "        9 comps  10 comps  11 comps  12 comps  13 comps  14 comps  15 comps\n",
      "X         96.28     97.26     97.98     98.65     99.15     99.47     99.75\n",
      "Salary    46.86     47.76     47.82     47.85     48.10     50.40     50.55\n",
      "        16 comps  17 comps  18 comps  19 comps\n",
      "X          99.89     99.97     99.99    100.00\n",
      "Salary     53.01     53.85     54.61     54.61\n"
     ]
    },
    {
     "data": {
      "image/png": "[encoded data removed]",
      "text/plain": [
       "Plot with title \"Salary\""
      ]
     },
     "metadata": {},
     "output_type": "display_data"
    }
   ],
   "source": [
    "#pca \n",
    "library (pls)\n",
    "set.seed(2)\n",
    "pcr.fit=pcr(Salary~.,data=Hitters,scale=TRUE,validation='CV')\n",
    "summary(pcr.fit)\n",
    "validationplot(pcr.fit,val.type='MSEP')"
   ]
  },
  {
   "cell_type": "code",
   "execution_count": 69,
   "metadata": {},
   "outputs": [
    {
     "name": "stdout",
     "output_type": "stream",
     "text": [
      "Data: \tX dimension: 131 19 \n",
      "\tY dimension: 131 1\n",
      "Fit method: svdpc\n",
      "Number of components considered: 19\n",
      "\n",
      "VALIDATION: RMSEP\n",
      "Cross-validated using 10 random segments.\n",
      "       (Intercept)  1 comps  2 comps  3 comps  4 comps  5 comps  6 comps\n",
      "CV           464.6    399.3    400.5    402.3    407.0    396.6    397.6\n",
      "adjCV        464.6    398.8    399.6    401.2    405.4    395.9    394.4\n",
      "       7 comps  8 comps  9 comps  10 comps  11 comps  12 comps  13 comps\n",
      "CV       395.3    396.3    400.1     413.3     413.9     417.0     416.9\n",
      "adjCV    393.3    394.0    397.6     410.2     410.7     413.7     413.2\n",
      "       14 comps  15 comps  16 comps  17 comps  18 comps  19 comps\n",
      "CV        413.1     414.6       414     402.3     396.8     399.2\n",
      "adjCV     409.4     410.9       410     398.3     392.7     395.0\n",
      "\n",
      "TRAINING: % variance explained\n",
      "        1 comps  2 comps  3 comps  4 comps  5 comps  6 comps  7 comps  8 comps\n",
      "X         38.89    60.25    70.85    79.06    84.01    88.51    92.61    95.20\n",
      "Salary    28.44    31.33    32.53    33.69    36.64    40.28    40.41    41.07\n",
      "        9 comps  10 comps  11 comps  12 comps  13 comps  14 comps  15 comps\n",
      "X         96.78     97.63     98.27     98.89     99.27     99.56     99.78\n",
      "Salary    41.25     41.27     41.41     41.44     43.20     44.24     44.30\n",
      "        16 comps  17 comps  18 comps  19 comps\n",
      "X          99.91     99.97    100.00    100.00\n",
      "Salary     45.50     49.66     51.13     51.18\n"
     ]
    },
    {
     "data": {
      "text/html": [
       "96556.2191395342"
      ],
      "text/latex": [
       "96556.2191395342"
      ],
      "text/markdown": [
       "96556.2191395342"
      ],
      "text/plain": [
       "[1] 96556.22"
      ]
     },
     "metadata": {},
     "output_type": "display_data"
    },
    {
     "name": "stdout",
     "output_type": "stream",
     "text": [
      "Data: \tX dimension: 263 19 \n",
      "\tY dimension: 263 1\n",
      "Fit method: svdpc\n",
      "Number of components considered: 7\n",
      "TRAINING: % variance explained\n",
      "   1 comps  2 comps  3 comps  4 comps  5 comps  6 comps  7 comps\n",
      "X    38.31    60.16    70.84    79.03    84.29    88.63    92.26\n",
      "y    40.63    41.58    42.17    43.22    44.90    46.48    46.69\n"
     ]
    },
    {
     "data": {
      "image/png": "[encoded data removed]",
      "text/plain": [
       "Plot with title \"Salary\""
      ]
     },
     "metadata": {},
     "output_type": "display_data"
    },
    {
     "data": {
      "image/png": "[encoded data removed]",
      "text/plain": [
       "Plot with title \"y\""
      ]
     },
     "metadata": {},
     "output_type": "display_data"
    }
   ],
   "source": [
    "# pca on training subset\n",
    "set.seed(2)\n",
    "pcr.fit=pcr(Salary~.,data=Hitters,scale=TRUE,subset=train,validation='CV')\n",
    "summary(pcr.fit)\n",
    "validationplot(pcr.fit,val.type='MSEP')\n",
    "\n",
    "pcr.pred=predict (pcr.fit ,x[test ,], ncomp =7)\n",
    "mean((pcr.pred-y.test)^2)\n",
    "\n",
    "#pcr on the full dataset\n",
    "pcr.fit=pcr(y∼x,scale =TRUE ,ncomp =7)\n",
    "summary(pcr.fit)\n",
    "validationplot(pcr.fit,val.type='MSEP')"
   ]
  },
  {
   "cell_type": "code",
   "execution_count": 74,
   "metadata": {},
   "outputs": [
    {
     "name": "stdout",
     "output_type": "stream",
     "text": [
      "Data: \tX dimension: 131 19 \n",
      "\tY dimension: 131 1\n",
      "Fit method: kernelpls\n",
      "Number of components considered: 19\n",
      "\n",
      "VALIDATION: RMSEP\n",
      "Cross-validated using 10 random segments.\n",
      "       (Intercept)  1 comps  2 comps  3 comps  4 comps  5 comps  6 comps\n",
      "CV           464.6    394.2    391.5    393.1    395.0    415.0    424.0\n",
      "adjCV        464.6    393.4    390.2    391.1    392.9    411.5    418.8\n",
      "       7 comps  8 comps  9 comps  10 comps  11 comps  12 comps  13 comps\n",
      "CV       424.5    415.8    404.6     407.1     412.0     414.4     410.3\n",
      "adjCV    418.9    411.4    400.7     402.2     407.2     409.3     405.6\n",
      "       14 comps  15 comps  16 comps  17 comps  18 comps  19 comps\n",
      "CV        406.2     408.6     410.5     408.8     407.8     410.2\n",
      "adjCV     401.8     403.9     405.6     404.1     403.2     405.5\n",
      "\n",
      "TRAINING: % variance explained\n",
      "        1 comps  2 comps  3 comps  4 comps  5 comps  6 comps  7 comps  8 comps\n",
      "X         38.12    53.46    66.05    74.49    79.33    84.56    87.09    90.74\n",
      "Salary    33.58    38.96    41.57    42.43    44.04    45.59    47.05    47.53\n",
      "        9 comps  10 comps  11 comps  12 comps  13 comps  14 comps  15 comps\n",
      "X         92.55     93.94     97.23     97.88     98.35     98.85     99.11\n",
      "Salary    48.42     49.68     50.04     50.54     50.78     50.92     51.04\n",
      "        16 comps  17 comps  18 comps  19 comps\n",
      "X          99.43     99.78     99.99    100.00\n",
      "Salary     51.11     51.15     51.16     51.18\n"
     ]
    },
    {
     "data": {
      "text/html": [
       "101417.461024104"
      ],
      "text/latex": [
       "101417.461024104"
      ],
      "text/markdown": [
       "101417.461024104"
      ],
      "text/plain": [
       "[1] 101417.5"
      ]
     },
     "metadata": {},
     "output_type": "display_data"
    },
    {
     "name": "stdout",
     "output_type": "stream",
     "text": [
      "Data: \tX dimension: 263 19 \n",
      "\tY dimension: 263 1\n",
      "Fit method: kernelpls\n",
      "Number of components considered: 2\n",
      "\n",
      "VALIDATION: RMSEP\n",
      "Cross-validated using 10 random segments.\n",
      "       (Intercept)  1 comps  2 comps\n",
      "CV             452    349.0    346.4\n",
      "adjCV          452    348.6    345.7\n",
      "\n",
      "TRAINING: % variance explained\n",
      "        1 comps  2 comps\n",
      "X         38.08    51.03\n",
      "Salary    43.05    46.40\n"
     ]
    },
    {
     "data": {
      "image/png": "[encoded data removed]",
      "text/plain": [
       "Plot with title \"Salary\""
      ]
     },
     "metadata": {},
     "output_type": "display_data"
    },
    {
     "data": {
      "image/png": "[encoded data removed]",
      "text/plain": [
       "Plot with title \"Salary\""
      ]
     },
     "metadata": {},
     "output_type": "display_data"
    }
   ],
   "source": [
    "#pls - Achieves lowest CV Error with M=2 itself\n",
    "\n",
    "set.seed(1)\n",
    "pls.fit=plsr(Salary~.,data=Hitters,subset=train,scale=TRUE,validation='CV')\n",
    "summary(pls.fit)\n",
    "validationplot(pls.fit,val.type='MSEP')\n",
    "\n",
    "#test set MSE is slightly higher than that of PCA\n",
    "pls.pred=predict (pls.fit ,x[test ,], ncomp =2)\n",
    "mean((pls.pred -y.test)^2)\n",
    "\n",
    "#pls on the full dataset\n",
    "pls.fit=plsr(Salary~.,data=Hitters,scale=TRUE,validation='CV',ncomp=2)\n",
    "summary(pls.fit)\n",
    "validationplot(pls.fit,val.type='MSEP')"
   ]
  },
  {
   "cell_type": "code",
   "execution_count": null,
   "metadata": {},
   "outputs": [],
   "source": []
  }
 ],
 "metadata": {
  "kernelspec": {
   "display_name": "R",
   "language": "R",
   "name": "ir"
  },
  "language_info": {
   "codemirror_mode": "r",
   "file_extension": ".r",
   "mimetype": "text/x-r-source",
   "name": "R",
   "pygments_lexer": "r",
   "version": "3.5.1"
  }
 },
 "nbformat": 4,
 "nbformat_minor": 2
}
