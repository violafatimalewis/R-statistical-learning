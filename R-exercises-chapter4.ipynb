{
 "cells": [
  {
   "cell_type": "code",
   "execution_count": 21,
   "metadata": {},
   "outputs": [
    {
     "data": {
      "text/html": [
       "<table>\n",
       "<thead><tr><th scope=col>Year</th><th scope=col>Lag1</th><th scope=col>Lag2</th><th scope=col>Lag3</th><th scope=col>Lag4</th><th scope=col>Lag5</th><th scope=col>Volume</th><th scope=col>Today</th><th scope=col>Direction</th></tr></thead>\n",
       "<tbody>\n",
       "\t<tr><td>2001  </td><td> 0.381</td><td>-0.192</td><td>-2.624</td><td>-1.055</td><td> 5.010</td><td>1.1913</td><td> 0.959</td><td>Up    </td></tr>\n",
       "\t<tr><td>2001  </td><td> 0.959</td><td> 0.381</td><td>-0.192</td><td>-2.624</td><td>-1.055</td><td>1.2965</td><td> 1.032</td><td>Up    </td></tr>\n",
       "\t<tr><td>2001  </td><td> 1.032</td><td> 0.959</td><td> 0.381</td><td>-0.192</td><td>-2.624</td><td>1.4112</td><td>-0.623</td><td>Down  </td></tr>\n",
       "\t<tr><td>2001  </td><td>-0.623</td><td> 1.032</td><td> 0.959</td><td> 0.381</td><td>-0.192</td><td>1.2760</td><td> 0.614</td><td>Up    </td></tr>\n",
       "\t<tr><td>2001  </td><td> 0.614</td><td>-0.623</td><td> 1.032</td><td> 0.959</td><td> 0.381</td><td>1.2057</td><td> 0.213</td><td>Up    </td></tr>\n",
       "\t<tr><td>2001  </td><td> 0.213</td><td> 0.614</td><td>-0.623</td><td> 1.032</td><td> 0.959</td><td>1.3491</td><td> 1.392</td><td>Up    </td></tr>\n",
       "</tbody>\n",
       "</table>\n"
      ],
      "text/latex": [
       "\\begin{tabular}{r|lllllllll}\n",
       " Year & Lag1 & Lag2 & Lag3 & Lag4 & Lag5 & Volume & Today & Direction\\\\\n",
       "\\hline\n",
       "\t 2001   &  0.381 & -0.192 & -2.624 & -1.055 &  5.010 & 1.1913 &  0.959 & Up    \\\\\n",
       "\t 2001   &  0.959 &  0.381 & -0.192 & -2.624 & -1.055 & 1.2965 &  1.032 & Up    \\\\\n",
       "\t 2001   &  1.032 &  0.959 &  0.381 & -0.192 & -2.624 & 1.4112 & -0.623 & Down  \\\\\n",
       "\t 2001   & -0.623 &  1.032 &  0.959 &  0.381 & -0.192 & 1.2760 &  0.614 & Up    \\\\\n",
       "\t 2001   &  0.614 & -0.623 &  1.032 &  0.959 &  0.381 & 1.2057 &  0.213 & Up    \\\\\n",
       "\t 2001   &  0.213 &  0.614 & -0.623 &  1.032 &  0.959 & 1.3491 &  1.392 & Up    \\\\\n",
       "\\end{tabular}\n"
      ],
      "text/markdown": [
       "\n",
       "Year | Lag1 | Lag2 | Lag3 | Lag4 | Lag5 | Volume | Today | Direction | \n",
       "|---|---|---|---|---|---|\n",
       "| 2001   |  0.381 | -0.192 | -2.624 | -1.055 |  5.010 | 1.1913 |  0.959 | Up     | \n",
       "| 2001   |  0.959 |  0.381 | -0.192 | -2.624 | -1.055 | 1.2965 |  1.032 | Up     | \n",
       "| 2001   |  1.032 |  0.959 |  0.381 | -0.192 | -2.624 | 1.4112 | -0.623 | Down   | \n",
       "| 2001   | -0.623 |  1.032 |  0.959 |  0.381 | -0.192 | 1.2760 |  0.614 | Up     | \n",
       "| 2001   |  0.614 | -0.623 |  1.032 |  0.959 |  0.381 | 1.2057 |  0.213 | Up     | \n",
       "| 2001   |  0.213 |  0.614 | -0.623 |  1.032 |  0.959 | 1.3491 |  1.392 | Up     | \n",
       "\n",
       "\n"
      ],
      "text/plain": [
       "  Year Lag1   Lag2   Lag3   Lag4   Lag5   Volume Today  Direction\n",
       "1 2001  0.381 -0.192 -2.624 -1.055  5.010 1.1913  0.959 Up       \n",
       "2 2001  0.959  0.381 -0.192 -2.624 -1.055 1.2965  1.032 Up       \n",
       "3 2001  1.032  0.959  0.381 -0.192 -2.624 1.4112 -0.623 Down     \n",
       "4 2001 -0.623  1.032  0.959  0.381 -0.192 1.2760  0.614 Up       \n",
       "5 2001  0.614 -0.623  1.032  0.959  0.381 1.2057  0.213 Up       \n",
       "6 2001  0.213  0.614 -0.623  1.032  0.959 1.3491  1.392 Up       "
      ]
     },
     "metadata": {},
     "output_type": "display_data"
    }
   ],
   "source": [
    "Smarket = read.csv(\"Smarket.csv\",header=T) \n",
    "head(Smarket)"
   ]
  },
  {
   "cell_type": "code",
   "execution_count": 53,
   "metadata": {},
   "outputs": [
    {
     "data": {
      "text/plain": [
       "      Year           Lag1                Lag2                Lag3          \n",
       " Min.   :2001   Min.   :-4.922000   Min.   :-4.922000   Min.   :-4.922000  \n",
       " 1st Qu.:2002   1st Qu.:-0.639500   1st Qu.:-0.639500   1st Qu.:-0.640000  \n",
       " Median :2003   Median : 0.039000   Median : 0.039000   Median : 0.038500  \n",
       " Mean   :2003   Mean   : 0.003834   Mean   : 0.003919   Mean   : 0.001716  \n",
       " 3rd Qu.:2004   3rd Qu.: 0.596750   3rd Qu.: 0.596750   3rd Qu.: 0.596750  \n",
       " Max.   :2005   Max.   : 5.733000   Max.   : 5.733000   Max.   : 5.733000  \n",
       "      Lag4                Lag5              Volume           Today          \n",
       " Min.   :-4.922000   Min.   :-4.92200   Min.   :0.3561   Min.   :-4.922000  \n",
       " 1st Qu.:-0.640000   1st Qu.:-0.64000   1st Qu.:1.2574   1st Qu.:-0.639500  \n",
       " Median : 0.038500   Median : 0.03850   Median :1.4229   Median : 0.038500  \n",
       " Mean   : 0.001636   Mean   : 0.00561   Mean   :1.4783   Mean   : 0.003138  \n",
       " 3rd Qu.: 0.596750   3rd Qu.: 0.59700   3rd Qu.:1.6417   3rd Qu.: 0.596750  \n",
       " Max.   : 5.733000   Max.   : 5.73300   Max.   :3.1525   Max.   : 5.733000  \n",
       " Direction \n",
       " Down:602  \n",
       " Up  :648  \n",
       "           \n",
       "           \n",
       "           \n",
       "           "
      ]
     },
     "metadata": {},
     "output_type": "display_data"
    }
   ],
   "source": [
    "summary(Smarket)"
   ]
  },
  {
   "cell_type": "code",
   "execution_count": 54,
   "metadata": {},
   "outputs": [
    {
     "data": {
      "text/html": [
       "<table>\n",
       "<thead><tr><th></th><th scope=col>Year</th><th scope=col>Lag1</th><th scope=col>Lag2</th><th scope=col>Lag3</th><th scope=col>Lag4</th><th scope=col>Lag5</th><th scope=col>Volume</th><th scope=col>Today</th></tr></thead>\n",
       "<tbody>\n",
       "\t<tr><th scope=row>Year</th><td>1.00000000  </td><td> 0.029699649</td><td> 0.030596422</td><td> 0.033194581</td><td> 0.035688718</td><td> 0.029787995</td><td> 0.53900647 </td><td> 0.030095229</td></tr>\n",
       "\t<tr><th scope=row>Lag1</th><td>0.02969965  </td><td> 1.000000000</td><td>-0.026294328</td><td>-0.010803402</td><td>-0.002985911</td><td>-0.005674606</td><td> 0.04090991 </td><td>-0.026155045</td></tr>\n",
       "\t<tr><th scope=row>Lag2</th><td>0.03059642  </td><td>-0.026294328</td><td> 1.000000000</td><td>-0.025896670</td><td>-0.010853533</td><td>-0.003557949</td><td>-0.04338321 </td><td>-0.010250033</td></tr>\n",
       "\t<tr><th scope=row>Lag3</th><td>0.03319458  </td><td>-0.010803402</td><td>-0.025896670</td><td> 1.000000000</td><td>-0.024051036</td><td>-0.018808338</td><td>-0.04182369 </td><td>-0.002447647</td></tr>\n",
       "\t<tr><th scope=row>Lag4</th><td>0.03568872  </td><td>-0.002985911</td><td>-0.010853533</td><td>-0.024051036</td><td> 1.000000000</td><td>-0.027083641</td><td>-0.04841425 </td><td>-0.006899527</td></tr>\n",
       "\t<tr><th scope=row>Lag5</th><td>0.02978799  </td><td>-0.005674606</td><td>-0.003557949</td><td>-0.018808338</td><td>-0.027083641</td><td> 1.000000000</td><td>-0.02200231 </td><td>-0.034860083</td></tr>\n",
       "\t<tr><th scope=row>Volume</th><td>0.53900647  </td><td> 0.040909908</td><td>-0.043383215</td><td>-0.041823686</td><td>-0.048414246</td><td>-0.022002315</td><td> 1.00000000 </td><td> 0.014591823</td></tr>\n",
       "\t<tr><th scope=row>Today</th><td>0.03009523  </td><td>-0.026155045</td><td>-0.010250033</td><td>-0.002447647</td><td>-0.006899527</td><td>-0.034860083</td><td> 0.01459182 </td><td> 1.000000000</td></tr>\n",
       "</tbody>\n",
       "</table>\n"
      ],
      "text/latex": [
       "\\begin{tabular}{r|llllllll}\n",
       "  & Year & Lag1 & Lag2 & Lag3 & Lag4 & Lag5 & Volume & Today\\\\\n",
       "\\hline\n",
       "\tYear & 1.00000000   &  0.029699649 &  0.030596422 &  0.033194581 &  0.035688718 &  0.029787995 &  0.53900647  &  0.030095229\\\\\n",
       "\tLag1 & 0.02969965   &  1.000000000 & -0.026294328 & -0.010803402 & -0.002985911 & -0.005674606 &  0.04090991  & -0.026155045\\\\\n",
       "\tLag2 & 0.03059642   & -0.026294328 &  1.000000000 & -0.025896670 & -0.010853533 & -0.003557949 & -0.04338321  & -0.010250033\\\\\n",
       "\tLag3 & 0.03319458   & -0.010803402 & -0.025896670 &  1.000000000 & -0.024051036 & -0.018808338 & -0.04182369  & -0.002447647\\\\\n",
       "\tLag4 & 0.03568872   & -0.002985911 & -0.010853533 & -0.024051036 &  1.000000000 & -0.027083641 & -0.04841425  & -0.006899527\\\\\n",
       "\tLag5 & 0.02978799   & -0.005674606 & -0.003557949 & -0.018808338 & -0.027083641 &  1.000000000 & -0.02200231  & -0.034860083\\\\\n",
       "\tVolume & 0.53900647   &  0.040909908 & -0.043383215 & -0.041823686 & -0.048414246 & -0.022002315 &  1.00000000  &  0.014591823\\\\\n",
       "\tToday & 0.03009523   & -0.026155045 & -0.010250033 & -0.002447647 & -0.006899527 & -0.034860083 &  0.01459182  &  1.000000000\\\\\n",
       "\\end{tabular}\n"
      ],
      "text/markdown": [
       "\n",
       "| <!--/--> | Year | Lag1 | Lag2 | Lag3 | Lag4 | Lag5 | Volume | Today | \n",
       "|---|---|---|---|---|---|---|---|\n",
       "| Year | 1.00000000   |  0.029699649 |  0.030596422 |  0.033194581 |  0.035688718 |  0.029787995 |  0.53900647  |  0.030095229 | \n",
       "| Lag1 | 0.02969965   |  1.000000000 | -0.026294328 | -0.010803402 | -0.002985911 | -0.005674606 |  0.04090991  | -0.026155045 | \n",
       "| Lag2 | 0.03059642   | -0.026294328 |  1.000000000 | -0.025896670 | -0.010853533 | -0.003557949 | -0.04338321  | -0.010250033 | \n",
       "| Lag3 | 0.03319458   | -0.010803402 | -0.025896670 |  1.000000000 | -0.024051036 | -0.018808338 | -0.04182369  | -0.002447647 | \n",
       "| Lag4 | 0.03568872   | -0.002985911 | -0.010853533 | -0.024051036 |  1.000000000 | -0.027083641 | -0.04841425  | -0.006899527 | \n",
       "| Lag5 | 0.02978799   | -0.005674606 | -0.003557949 | -0.018808338 | -0.027083641 |  1.000000000 | -0.02200231  | -0.034860083 | \n",
       "| Volume | 0.53900647   |  0.040909908 | -0.043383215 | -0.041823686 | -0.048414246 | -0.022002315 |  1.00000000  |  0.014591823 | \n",
       "| Today | 0.03009523   | -0.026155045 | -0.010250033 | -0.002447647 | -0.006899527 | -0.034860083 |  0.01459182  |  1.000000000 | \n",
       "\n",
       "\n"
      ],
      "text/plain": [
       "       Year       Lag1         Lag2         Lag3         Lag4        \n",
       "Year   1.00000000  0.029699649  0.030596422  0.033194581  0.035688718\n",
       "Lag1   0.02969965  1.000000000 -0.026294328 -0.010803402 -0.002985911\n",
       "Lag2   0.03059642 -0.026294328  1.000000000 -0.025896670 -0.010853533\n",
       "Lag3   0.03319458 -0.010803402 -0.025896670  1.000000000 -0.024051036\n",
       "Lag4   0.03568872 -0.002985911 -0.010853533 -0.024051036  1.000000000\n",
       "Lag5   0.02978799 -0.005674606 -0.003557949 -0.018808338 -0.027083641\n",
       "Volume 0.53900647  0.040909908 -0.043383215 -0.041823686 -0.048414246\n",
       "Today  0.03009523 -0.026155045 -0.010250033 -0.002447647 -0.006899527\n",
       "       Lag5         Volume      Today       \n",
       "Year    0.029787995  0.53900647  0.030095229\n",
       "Lag1   -0.005674606  0.04090991 -0.026155045\n",
       "Lag2   -0.003557949 -0.04338321 -0.010250033\n",
       "Lag3   -0.018808338 -0.04182369 -0.002447647\n",
       "Lag4   -0.027083641 -0.04841425 -0.006899527\n",
       "Lag5    1.000000000 -0.02200231 -0.034860083\n",
       "Volume -0.022002315  1.00000000  0.014591823\n",
       "Today  -0.034860083  0.01459182  1.000000000"
      ]
     },
     "metadata": {},
     "output_type": "display_data"
    }
   ],
   "source": [
    "cor(Smarket[,-9])"
   ]
  },
  {
   "cell_type": "code",
   "execution_count": 55,
   "metadata": {},
   "outputs": [
    {
     "name": "stderr",
     "output_type": "stream",
     "text": [
      "The following objects are masked from Smarket.2005 (pos = 3):\n",
      "\n",
      "    Direction, Lag1, Lag2, Lag3, Lag4, Lag5, Today, Volume, Year\n",
      "\n",
      "The following objects are masked from Smarket.2005 (pos = 4):\n",
      "\n",
      "    Direction, Lag1, Lag2, Lag3, Lag4, Lag5, Today, Volume, Year\n",
      "\n",
      "The following objects are masked from Smarket.2005 (pos = 5):\n",
      "\n",
      "    Direction, Lag1, Lag2, Lag3, Lag4, Lag5, Today, Volume, Year\n",
      "\n",
      "The following objects are masked from Smarket (pos = 6):\n",
      "\n",
      "    Direction, Lag1, Lag2, Lag3, Lag4, Lag5, Today, Volume, Year\n",
      "\n",
      "The following objects are masked from Smarket (pos = 7):\n",
      "\n",
      "    Direction, Lag1, Lag2, Lag3, Lag4, Lag5, Today, Volume\n",
      "\n",
      "The following objects are masked from Smarket (pos = 8):\n",
      "\n",
      "    Direction, Lag1, Lag2, Lag3, Lag4, Lag5, Today, Volume\n",
      "\n",
      "The following objects are masked from Smarket (pos = 9):\n",
      "\n",
      "    Direction, Lag1, Lag2, Lag3, Lag4, Lag5, Today, Volume\n",
      "\n"
     ]
    },
    {
     "data": {
      "image/png": "[encoded data removed]",
      "text/plain": [
       "plot without title"
      ]
     },
     "metadata": {},
     "output_type": "display_data"
    }
   ],
   "source": [
    "attach(Smarket)\n",
    "plot(Volume,Year)"
   ]
  },
  {
   "cell_type": "code",
   "execution_count": 56,
   "metadata": {},
   "outputs": [
    {
     "data": {
      "text/plain": [
       "\n",
       "Call:\n",
       "glm(formula = Direction ~ Lag1 + Lag2 + Lag3 + Lag4 + Lag5 + \n",
       "    Volume, family = binomial, data = Smarket)\n",
       "\n",
       "Deviance Residuals: \n",
       "   Min      1Q  Median      3Q     Max  \n",
       "-1.446  -1.203   1.065   1.145   1.326  \n",
       "\n",
       "Coefficients:\n",
       "             Estimate Std. Error z value Pr(>|z|)\n",
       "(Intercept) -0.126000   0.240736  -0.523    0.601\n",
       "Lag1        -0.073074   0.050167  -1.457    0.145\n",
       "Lag2        -0.042301   0.050086  -0.845    0.398\n",
       "Lag3         0.011085   0.049939   0.222    0.824\n",
       "Lag4         0.009359   0.049974   0.187    0.851\n",
       "Lag5         0.010313   0.049511   0.208    0.835\n",
       "Volume       0.135441   0.158360   0.855    0.392\n",
       "\n",
       "(Dispersion parameter for binomial family taken to be 1)\n",
       "\n",
       "    Null deviance: 1731.2  on 1249  degrees of freedom\n",
       "Residual deviance: 1727.6  on 1243  degrees of freedom\n",
       "AIC: 1741.6\n",
       "\n",
       "Number of Fisher Scoring iterations: 3\n"
      ]
     },
     "metadata": {},
     "output_type": "display_data"
    }
   ],
   "source": [
    "glm.fit1=glm(Direction~Lag1+Lag2+Lag3+Lag4+Lag5+Volume,data=Smarket,family=binomial)\n",
    "summary(glm.fit1)"
   ]
  },
  {
   "cell_type": "code",
   "execution_count": 57,
   "metadata": {},
   "outputs": [
    {
     "data": {
      "text/html": [
       "<dl class=dl-horizontal>\n",
       "\t<dt>(Intercept)</dt>\n",
       "\t\t<dd>-0.126000256559266</dd>\n",
       "\t<dt>Lag1</dt>\n",
       "\t\t<dd>-0.0730737458900261</dd>\n",
       "\t<dt>Lag2</dt>\n",
       "\t\t<dd>-0.0423013440073083</dd>\n",
       "\t<dt>Lag3</dt>\n",
       "\t\t<dd>0.0110851083796762</dd>\n",
       "\t<dt>Lag4</dt>\n",
       "\t\t<dd>0.00935893837027876</dd>\n",
       "\t<dt>Lag5</dt>\n",
       "\t\t<dd>0.0103130684758179</dd>\n",
       "\t<dt>Volume</dt>\n",
       "\t\t<dd>0.13544065885916</dd>\n",
       "</dl>\n"
      ],
      "text/latex": [
       "\\begin{description*}\n",
       "\\item[(Intercept)] -0.126000256559266\n",
       "\\item[Lag1] -0.0730737458900261\n",
       "\\item[Lag2] -0.0423013440073083\n",
       "\\item[Lag3] 0.0110851083796762\n",
       "\\item[Lag4] 0.00935893837027876\n",
       "\\item[Lag5] 0.0103130684758179\n",
       "\\item[Volume] 0.13544065885916\n",
       "\\end{description*}\n"
      ],
      "text/markdown": [
       "(Intercept)\n",
       ":   -0.126000256559266Lag1\n",
       ":   -0.0730737458900261Lag2\n",
       ":   -0.0423013440073083Lag3\n",
       ":   0.0110851083796762Lag4\n",
       ":   0.00935893837027876Lag5\n",
       ":   0.0103130684758179Volume\n",
       ":   0.13544065885916\n",
       "\n"
      ],
      "text/plain": [
       " (Intercept)         Lag1         Lag2         Lag3         Lag4         Lag5 \n",
       "-0.126000257 -0.073073746 -0.042301344  0.011085108  0.009358938  0.010313068 \n",
       "      Volume \n",
       " 0.135440659 "
      ]
     },
     "metadata": {},
     "output_type": "display_data"
    }
   ],
   "source": [
    "coef(glm.fit1)"
   ]
  },
  {
   "cell_type": "code",
   "execution_count": 58,
   "metadata": {},
   "outputs": [
    {
     "data": {
      "text/html": [
       "<table>\n",
       "<thead><tr><th></th><th scope=col>Estimate</th><th scope=col>Std. Error</th><th scope=col>z value</th><th scope=col>Pr(&gt;|z|)</th></tr></thead>\n",
       "<tbody>\n",
       "\t<tr><th scope=row>(Intercept)</th><td>-0.126000257</td><td>0.24073574  </td><td>-0.5233966  </td><td>0.6006983   </td></tr>\n",
       "\t<tr><th scope=row>Lag1</th><td>-0.073073746</td><td>0.05016739  </td><td>-1.4565986  </td><td>0.1452272   </td></tr>\n",
       "\t<tr><th scope=row>Lag2</th><td>-0.042301344</td><td>0.05008605  </td><td>-0.8445733  </td><td>0.3983491   </td></tr>\n",
       "\t<tr><th scope=row>Lag3</th><td> 0.011085108</td><td>0.04993854  </td><td> 0.2219750  </td><td>0.8243333   </td></tr>\n",
       "\t<tr><th scope=row>Lag4</th><td> 0.009358938</td><td>0.04997413  </td><td> 0.1872757  </td><td>0.8514445   </td></tr>\n",
       "\t<tr><th scope=row>Lag5</th><td> 0.010313068</td><td>0.04951146  </td><td> 0.2082966  </td><td>0.8349974   </td></tr>\n",
       "\t<tr><th scope=row>Volume</th><td> 0.135440659</td><td>0.15835970  </td><td> 0.8552723  </td><td>0.3924004   </td></tr>\n",
       "</tbody>\n",
       "</table>\n"
      ],
      "text/latex": [
       "\\begin{tabular}{r|llll}\n",
       "  & Estimate & Std. Error & z value & Pr(>\\textbar{}z\\textbar{})\\\\\n",
       "\\hline\n",
       "\t(Intercept) & -0.126000257 & 0.24073574   & -0.5233966   & 0.6006983   \\\\\n",
       "\tLag1 & -0.073073746 & 0.05016739   & -1.4565986   & 0.1452272   \\\\\n",
       "\tLag2 & -0.042301344 & 0.05008605   & -0.8445733   & 0.3983491   \\\\\n",
       "\tLag3 &  0.011085108 & 0.04993854   &  0.2219750   & 0.8243333   \\\\\n",
       "\tLag4 &  0.009358938 & 0.04997413   &  0.1872757   & 0.8514445   \\\\\n",
       "\tLag5 &  0.010313068 & 0.04951146   &  0.2082966   & 0.8349974   \\\\\n",
       "\tVolume &  0.135440659 & 0.15835970   &  0.8552723   & 0.3924004   \\\\\n",
       "\\end{tabular}\n"
      ],
      "text/markdown": [
       "\n",
       "| <!--/--> | Estimate | Std. Error | z value | Pr(>|z|) | \n",
       "|---|---|---|---|---|---|---|\n",
       "| (Intercept) | -0.126000257 | 0.24073574   | -0.5233966   | 0.6006983    | \n",
       "| Lag1 | -0.073073746 | 0.05016739   | -1.4565986   | 0.1452272    | \n",
       "| Lag2 | -0.042301344 | 0.05008605   | -0.8445733   | 0.3983491    | \n",
       "| Lag3 |  0.011085108 | 0.04993854   |  0.2219750   | 0.8243333    | \n",
       "| Lag4 |  0.009358938 | 0.04997413   |  0.1872757   | 0.8514445    | \n",
       "| Lag5 |  0.010313068 | 0.04951146   |  0.2082966   | 0.8349974    | \n",
       "| Volume |  0.135440659 | 0.15835970   |  0.8552723   | 0.3924004    | \n",
       "\n",
       "\n"
      ],
      "text/plain": [
       "            Estimate     Std. Error z value    Pr(>|z|) \n",
       "(Intercept) -0.126000257 0.24073574 -0.5233966 0.6006983\n",
       "Lag1        -0.073073746 0.05016739 -1.4565986 0.1452272\n",
       "Lag2        -0.042301344 0.05008605 -0.8445733 0.3983491\n",
       "Lag3         0.011085108 0.04993854  0.2219750 0.8243333\n",
       "Lag4         0.009358938 0.04997413  0.1872757 0.8514445\n",
       "Lag5         0.010313068 0.04951146  0.2082966 0.8349974\n",
       "Volume       0.135440659 0.15835970  0.8552723 0.3924004"
      ]
     },
     "metadata": {},
     "output_type": "display_data"
    }
   ],
   "source": [
    "summary(glm.fit1)$coef"
   ]
  },
  {
   "cell_type": "code",
   "execution_count": 59,
   "metadata": {},
   "outputs": [
    {
     "data": {
      "text/html": [
       "<table>\n",
       "<thead><tr><th></th><th scope=col>Up</th></tr></thead>\n",
       "<tbody>\n",
       "\t<tr><th scope=row>Down</th><td>0</td></tr>\n",
       "\t<tr><th scope=row>Up</th><td>1</td></tr>\n",
       "</tbody>\n",
       "</table>\n"
      ],
      "text/latex": [
       "\\begin{tabular}{r|l}\n",
       "  & Up\\\\\n",
       "\\hline\n",
       "\tDown & 0\\\\\n",
       "\tUp & 1\\\\\n",
       "\\end{tabular}\n"
      ],
      "text/markdown": [
       "\n",
       "| <!--/--> | Up | \n",
       "|---|---|\n",
       "| Down | 0 | \n",
       "| Up | 1 | \n",
       "\n",
       "\n"
      ],
      "text/plain": [
       "     Up\n",
       "Down 0 \n",
       "Up   1 "
      ]
     },
     "metadata": {},
     "output_type": "display_data"
    }
   ],
   "source": [
    "contrasts(Direction)"
   ]
  },
  {
   "cell_type": "code",
   "execution_count": 60,
   "metadata": {},
   "outputs": [
    {
     "data": {
      "text/html": [
       "<dl class=dl-horizontal>\n",
       "\t<dt>1</dt>\n",
       "\t\t<dd>0.507084133395402</dd>\n",
       "\t<dt>2</dt>\n",
       "\t\t<dd>0.481467878454591</dd>\n",
       "\t<dt>3</dt>\n",
       "\t\t<dd>0.481138835214201</dd>\n",
       "\t<dt>4</dt>\n",
       "\t\t<dd>0.515222355813022</dd>\n",
       "\t<dt>5</dt>\n",
       "\t\t<dd>0.510781162691538</dd>\n",
       "\t<dt>6</dt>\n",
       "\t\t<dd>0.506956460534911</dd>\n",
       "\t<dt>7</dt>\n",
       "\t\t<dd>0.492650874187038</dd>\n",
       "\t<dt>8</dt>\n",
       "\t\t<dd>0.509229158207377</dd>\n",
       "\t<dt>9</dt>\n",
       "\t\t<dd>0.517613526170958</dd>\n",
       "\t<dt>10</dt>\n",
       "\t\t<dd>0.488837779771376</dd>\n",
       "</dl>\n"
      ],
      "text/latex": [
       "\\begin{description*}\n",
       "\\item[1] 0.507084133395402\n",
       "\\item[2] 0.481467878454591\n",
       "\\item[3] 0.481138835214201\n",
       "\\item[4] 0.515222355813022\n",
       "\\item[5] 0.510781162691538\n",
       "\\item[6] 0.506956460534911\n",
       "\\item[7] 0.492650874187038\n",
       "\\item[8] 0.509229158207377\n",
       "\\item[9] 0.517613526170958\n",
       "\\item[10] 0.488837779771376\n",
       "\\end{description*}\n"
      ],
      "text/markdown": [
       "1\n",
       ":   0.5070841333954022\n",
       ":   0.4814678784545913\n",
       ":   0.4811388352142014\n",
       ":   0.5152223558130225\n",
       ":   0.5107811626915386\n",
       ":   0.5069564605349117\n",
       ":   0.4926508741870388\n",
       ":   0.5092291582073779\n",
       ":   0.51761352617095810\n",
       ":   0.488837779771376\n",
       "\n"
      ],
      "text/plain": [
       "        1         2         3         4         5         6         7         8 \n",
       "0.5070841 0.4814679 0.4811388 0.5152224 0.5107812 0.5069565 0.4926509 0.5092292 \n",
       "        9        10 \n",
       "0.5176135 0.4888378 "
      ]
     },
     "metadata": {},
     "output_type": "display_data"
    }
   ],
   "source": [
    "glm.probs=predict(glm.fit1,type=\"response\")\n",
    "glm.probs[1:10]"
   ]
  },
  {
   "cell_type": "code",
   "execution_count": 61,
   "metadata": {},
   "outputs": [
    {
     "data": {
      "text/plain": [
       "        Direction\n",
       "glm.pred Down  Up\n",
       "    Down  145 141\n",
       "    Up    457 507"
      ]
     },
     "metadata": {},
     "output_type": "display_data"
    }
   ],
   "source": [
    "glm.pred=rep(\"Down\",1250)\n",
    "glm.pred[glm.probs>.5]=\"Up\"\n",
    "table(glm.pred,Direction)"
   ]
  },
  {
   "cell_type": "code",
   "execution_count": 62,
   "metadata": {},
   "outputs": [
    {
     "data": {
      "text/html": [
       "0.5216"
      ],
      "text/latex": [
       "0.5216"
      ],
      "text/markdown": [
       "0.5216"
      ],
      "text/plain": [
       "[1] 0.5216"
      ]
     },
     "metadata": {},
     "output_type": "display_data"
    }
   ],
   "source": [
    "(507+145)/1250"
   ]
  },
  {
   "cell_type": "code",
   "execution_count": 63,
   "metadata": {},
   "outputs": [
    {
     "data": {
      "text/html": [
       "0.5216"
      ],
      "text/latex": [
       "0.5216"
      ],
      "text/markdown": [
       "0.5216"
      ],
      "text/plain": [
       "[1] 0.5216"
      ]
     },
     "metadata": {},
     "output_type": "display_data"
    }
   ],
   "source": [
    "mean(glm.pred==Direction)"
   ]
  },
  {
   "cell_type": "code",
   "execution_count": 64,
   "metadata": {},
   "outputs": [
    {
     "data": {
      "text/plain": [
       "\n",
       "Call:\n",
       "glm(formula = Direction ~ Lag1 + Lag2 + Lag3 + Lag4 + Lag5 + \n",
       "    Volume, family = binomial, data = Smarket, subset = train)\n",
       "\n",
       "Deviance Residuals: \n",
       "   Min      1Q  Median      3Q     Max  \n",
       "-1.302  -1.190   1.079   1.160   1.350  \n",
       "\n",
       "Coefficients:\n",
       "             Estimate Std. Error z value Pr(>|z|)\n",
       "(Intercept)  0.191213   0.333690   0.573    0.567\n",
       "Lag1        -0.054178   0.051785  -1.046    0.295\n",
       "Lag2        -0.045805   0.051797  -0.884    0.377\n",
       "Lag3         0.007200   0.051644   0.139    0.889\n",
       "Lag4         0.006441   0.051706   0.125    0.901\n",
       "Lag5        -0.004223   0.051138  -0.083    0.934\n",
       "Volume      -0.116257   0.239618  -0.485    0.628\n",
       "\n",
       "(Dispersion parameter for binomial family taken to be 1)\n",
       "\n",
       "    Null deviance: 1383.3  on 997  degrees of freedom\n",
       "Residual deviance: 1381.1  on 991  degrees of freedom\n",
       "AIC: 1395.1\n",
       "\n",
       "Number of Fisher Scoring iterations: 3\n"
      ]
     },
     "metadata": {},
     "output_type": "display_data"
    }
   ],
   "source": [
    "train =(Year <2005)\n",
    "Smarket.2005= Smarket [! train, ]\n",
    "Direction.2005= Direction [! train]\n",
    "glm.fit2=glm(Direction~Lag1+Lag2+Lag3+Lag4+Lag5+Volume,data=Smarket,family=binomial,subset=train)\n",
    "summary(glm.fit2)"
   ]
  },
  {
   "cell_type": "code",
   "execution_count": 65,
   "metadata": {},
   "outputs": [],
   "source": [
    "glm.probs =predict(glm.fit2,data=Smarket.2005 , type=\"response\")"
   ]
  },
  {
   "cell_type": "code",
   "execution_count": 73,
   "metadata": {},
   "outputs": [
    {
     "ename": "ERROR",
     "evalue": "Error in table(glm.pred, Direction.2005): all arguments must have the same length\n",
     "output_type": "error",
     "traceback": [
      "Error in table(glm.pred, Direction.2005): all arguments must have the same length\nTraceback:\n",
      "1. table(glm.pred, Direction.2005)",
      "2. stop(\"all arguments must have the same length\")"
     ]
    }
   ],
   "source": [
    "\n",
    "glm.pred=rep(\"Down\",252)\n",
    "glm.pred[glm.probs>.5]=\"Up\"\n",
    "table(glm.pred,Direction.2005)"
   ]
  },
  {
   "cell_type": "code",
   "execution_count": 74,
   "metadata": {},
   "outputs": [
    {
     "name": "stderr",
     "output_type": "stream",
     "text": [
      "Warning message:\n",
      "\"'newdata' had 2 rows but variables found have 1250 rows\""
     ]
    },
    {
     "ename": "ERROR",
     "evalue": "Error in model.frame.default(Terms, newdata, na.action = na.action, xlev = object$xlevels): variable lengths differ (found for 'Lag3')\n",
     "output_type": "error",
     "traceback": [
      "Error in model.frame.default(Terms, newdata, na.action = na.action, xlev = object$xlevels): variable lengths differ (found for 'Lag3')\nTraceback:\n",
      "1. predict(glm.fit2, newdata = data.frame(Lag1 = c(1.2, 1.5), Lag2 = c(1.1, \n .     -0.8)), type = \"response\")",
      "2. predict.glm(glm.fit2, newdata = data.frame(Lag1 = c(1.2, 1.5), \n .     Lag2 = c(1.1, -0.8)), type = \"response\")",
      "3. predict.lm(object, newdata, se.fit, scale = 1, type = ifelse(type == \n .     \"link\", \"response\", type), terms = terms, na.action = na.action)",
      "4. model.frame(Terms, newdata, na.action = na.action, xlev = object$xlevels)",
      "5. model.frame.default(Terms, newdata, na.action = na.action, xlev = object$xlevels)"
     ]
    }
   ],
   "source": [
    "predict(glm.fit2,newdata=data.frame(Lag1=c(1.2 ,1.5) ,Lag2=c(1.1 , -0.8) ),type =\"response\")\n"
   ]
  },
  {
   "cell_type": "code",
   "execution_count": 75,
   "metadata": {},
   "outputs": [
    {
     "data": {
      "text/html": [
       "<table>\n",
       "<thead><tr><th scope=col>Lag1</th><th scope=col>Lag2</th></tr></thead>\n",
       "<tbody>\n",
       "\t<tr><td>1.2 </td><td> 1.1</td></tr>\n",
       "\t<tr><td>1.5 </td><td>-0.8</td></tr>\n",
       "</tbody>\n",
       "</table>\n"
      ],
      "text/latex": [
       "\\begin{tabular}{r|ll}\n",
       " Lag1 & Lag2\\\\\n",
       "\\hline\n",
       "\t 1.2  &  1.1\\\\\n",
       "\t 1.5  & -0.8\\\\\n",
       "\\end{tabular}\n"
      ],
      "text/markdown": [
       "\n",
       "Lag1 | Lag2 | \n",
       "|---|---|\n",
       "| 1.2  |  1.1 | \n",
       "| 1.5  | -0.8 | \n",
       "\n",
       "\n"
      ],
      "text/plain": [
       "  Lag1 Lag2\n",
       "1 1.2   1.1\n",
       "2 1.5  -0.8"
      ]
     },
     "metadata": {},
     "output_type": "display_data"
    }
   ],
   "source": [
    "newdata =data.frame(Lag1=c(1.2 ,1.5),Lag2=c(1.1 , -0.8) )\n",
    "newdata"
   ]
  },
  {
   "cell_type": "code",
   "execution_count": 77,
   "metadata": {},
   "outputs": [
    {
     "data": {
      "text/plain": [
       "Call:\n",
       "lda(Direction ~ Lag1 + Lag2, data = Smarket, subset = train)\n",
       "\n",
       "Prior probabilities of groups:\n",
       "    Down       Up \n",
       "0.491984 0.508016 \n",
       "\n",
       "Group means:\n",
       "            Lag1        Lag2\n",
       "Down  0.04279022  0.03389409\n",
       "Up   -0.03954635 -0.03132544\n",
       "\n",
       "Coefficients of linear discriminants:\n",
       "            LD1\n",
       "Lag1 -0.6420190\n",
       "Lag2 -0.5135293"
      ]
     },
     "metadata": {},
     "output_type": "display_data"
    }
   ],
   "source": [
    "library (MASS)\n",
    "lda.fit=lda(Direction~Lag1+Lag2,data=Smarket,subset=train)\n",
    "lda.fit"
   ]
  },
  {
   "cell_type": "code",
   "execution_count": 78,
   "metadata": {},
   "outputs": [
    {
     "data": {
      "text/plain": [
       "Call:\n",
       "qda(Direction ~ Lag1 + Lag2, data = Smarket, subset = train)\n",
       "\n",
       "Prior probabilities of groups:\n",
       "    Down       Up \n",
       "0.491984 0.508016 \n",
       "\n",
       "Group means:\n",
       "            Lag1        Lag2\n",
       "Down  0.04279022  0.03389409\n",
       "Up   -0.03954635 -0.03132544"
      ]
     },
     "metadata": {},
     "output_type": "display_data"
    }
   ],
   "source": [
    "qda.fit=qda(Direction∼Lag1+Lag2 ,data=Smarket ,subset =train)\n",
    "qda.fit"
   ]
  },
  {
   "cell_type": "code",
   "execution_count": 81,
   "metadata": {},
   "outputs": [
    {
     "data": {
      "text/html": [
       "<table>\n",
       "<thead><tr><th scope=col>Year</th><th scope=col>Lag1</th><th scope=col>Lag2</th><th scope=col>Lag3</th><th scope=col>Lag4</th><th scope=col>Lag5</th><th scope=col>Volume</th><th scope=col>Today</th><th scope=col>Direction</th></tr></thead>\n",
       "<tbody>\n",
       "\t<tr><td>1990     </td><td> 0.816   </td><td> 1.572   </td><td>-3.936   </td><td>-0.229   </td><td>-3.484   </td><td>0.1549760</td><td>-0.270   </td><td>Down     </td></tr>\n",
       "\t<tr><td>1990     </td><td>-0.270   </td><td> 0.816   </td><td> 1.572   </td><td>-3.936   </td><td>-0.229   </td><td>0.1485740</td><td>-2.576   </td><td>Down     </td></tr>\n",
       "\t<tr><td>1990     </td><td>-2.576   </td><td>-0.270   </td><td> 0.816   </td><td> 1.572   </td><td>-3.936   </td><td>0.1598375</td><td> 3.514   </td><td>Up       </td></tr>\n",
       "\t<tr><td>1990     </td><td> 3.514   </td><td>-2.576   </td><td>-0.270   </td><td> 0.816   </td><td> 1.572   </td><td>0.1616300</td><td> 0.712   </td><td>Up       </td></tr>\n",
       "\t<tr><td>1990     </td><td> 0.712   </td><td> 3.514   </td><td>-2.576   </td><td>-0.270   </td><td> 0.816   </td><td>0.1537280</td><td> 1.178   </td><td>Up       </td></tr>\n",
       "\t<tr><td>1990     </td><td> 1.178   </td><td> 0.712   </td><td> 3.514   </td><td>-2.576   </td><td>-0.270   </td><td>0.1544440</td><td>-1.372   </td><td>Down     </td></tr>\n",
       "</tbody>\n",
       "</table>\n"
      ],
      "text/latex": [
       "\\begin{tabular}{r|lllllllll}\n",
       " Year & Lag1 & Lag2 & Lag3 & Lag4 & Lag5 & Volume & Today & Direction\\\\\n",
       "\\hline\n",
       "\t 1990      &  0.816    &  1.572    & -3.936    & -0.229    & -3.484    & 0.1549760 & -0.270    & Down     \\\\\n",
       "\t 1990      & -0.270    &  0.816    &  1.572    & -3.936    & -0.229    & 0.1485740 & -2.576    & Down     \\\\\n",
       "\t 1990      & -2.576    & -0.270    &  0.816    &  1.572    & -3.936    & 0.1598375 &  3.514    & Up       \\\\\n",
       "\t 1990      &  3.514    & -2.576    & -0.270    &  0.816    &  1.572    & 0.1616300 &  0.712    & Up       \\\\\n",
       "\t 1990      &  0.712    &  3.514    & -2.576    & -0.270    &  0.816    & 0.1537280 &  1.178    & Up       \\\\\n",
       "\t 1990      &  1.178    &  0.712    &  3.514    & -2.576    & -0.270    & 0.1544440 & -1.372    & Down     \\\\\n",
       "\\end{tabular}\n"
      ],
      "text/markdown": [
       "\n",
       "Year | Lag1 | Lag2 | Lag3 | Lag4 | Lag5 | Volume | Today | Direction | \n",
       "|---|---|---|---|---|---|\n",
       "| 1990      |  0.816    |  1.572    | -3.936    | -0.229    | -3.484    | 0.1549760 | -0.270    | Down      | \n",
       "| 1990      | -0.270    |  0.816    |  1.572    | -3.936    | -0.229    | 0.1485740 | -2.576    | Down      | \n",
       "| 1990      | -2.576    | -0.270    |  0.816    |  1.572    | -3.936    | 0.1598375 |  3.514    | Up        | \n",
       "| 1990      |  3.514    | -2.576    | -0.270    |  0.816    |  1.572    | 0.1616300 |  0.712    | Up        | \n",
       "| 1990      |  0.712    |  3.514    | -2.576    | -0.270    |  0.816    | 0.1537280 |  1.178    | Up        | \n",
       "| 1990      |  1.178    |  0.712    |  3.514    | -2.576    | -0.270    | 0.1544440 | -1.372    | Down      | \n",
       "\n",
       "\n"
      ],
      "text/plain": [
       "  Year Lag1   Lag2   Lag3   Lag4   Lag5   Volume    Today  Direction\n",
       "1 1990  0.816  1.572 -3.936 -0.229 -3.484 0.1549760 -0.270 Down     \n",
       "2 1990 -0.270  0.816  1.572 -3.936 -0.229 0.1485740 -2.576 Down     \n",
       "3 1990 -2.576 -0.270  0.816  1.572 -3.936 0.1598375  3.514 Up       \n",
       "4 1990  3.514 -2.576 -0.270  0.816  1.572 0.1616300  0.712 Up       \n",
       "5 1990  0.712  3.514 -2.576 -0.270  0.816 0.1537280  1.178 Up       \n",
       "6 1990  1.178  0.712  3.514 -2.576 -0.270 0.1544440 -1.372 Down     "
      ]
     },
     "metadata": {},
     "output_type": "display_data"
    }
   ],
   "source": [
    "Weekly=read.csv(\"Weekly.csv\",header=T)\n",
    "head(Weekly)"
   ]
  },
  {
   "cell_type": "code",
   "execution_count": 85,
   "metadata": {},
   "outputs": [
    {
     "data": {
      "text/plain": [
       "      Year           Lag1               Lag2               Lag3         \n",
       " Min.   :1990   Min.   :-18.1950   Min.   :-18.1950   Min.   :-18.1950  \n",
       " 1st Qu.:1995   1st Qu.: -1.1540   1st Qu.: -1.1540   1st Qu.: -1.1580  \n",
       " Median :2000   Median :  0.2410   Median :  0.2410   Median :  0.2410  \n",
       " Mean   :2000   Mean   :  0.1506   Mean   :  0.1511   Mean   :  0.1472  \n",
       " 3rd Qu.:2005   3rd Qu.:  1.4050   3rd Qu.:  1.4090   3rd Qu.:  1.4090  \n",
       " Max.   :2010   Max.   : 12.0260   Max.   : 12.0260   Max.   : 12.0260  \n",
       "      Lag4               Lag5              Volume            Today         \n",
       " Min.   :-18.1950   Min.   :-18.1950   Min.   :0.08747   Min.   :-18.1950  \n",
       " 1st Qu.: -1.1580   1st Qu.: -1.1660   1st Qu.:0.33202   1st Qu.: -1.1540  \n",
       " Median :  0.2380   Median :  0.2340   Median :1.00268   Median :  0.2410  \n",
       " Mean   :  0.1458   Mean   :  0.1399   Mean   :1.57462   Mean   :  0.1499  \n",
       " 3rd Qu.:  1.4090   3rd Qu.:  1.4050   3rd Qu.:2.05373   3rd Qu.:  1.4050  \n",
       " Max.   : 12.0260   Max.   : 12.0260   Max.   :9.32821   Max.   : 12.0260  \n",
       " Direction \n",
       " Down:484  \n",
       " Up  :605  \n",
       "           \n",
       "           \n",
       "           \n",
       "           "
      ]
     },
     "metadata": {},
     "output_type": "display_data"
    }
   ],
   "source": [
    "summary(Weekly)\n"
   ]
  },
  {
   "cell_type": "code",
   "execution_count": 86,
   "metadata": {},
   "outputs": [
    {
     "data": {
      "text/html": [
       "<table>\n",
       "<thead><tr><th></th><th scope=col>Year</th><th scope=col>Lag1</th><th scope=col>Lag2</th><th scope=col>Lag3</th><th scope=col>Lag4</th><th scope=col>Lag5</th><th scope=col>Volume</th><th scope=col>Today</th></tr></thead>\n",
       "<tbody>\n",
       "\t<tr><th scope=row>Year</th><td> 1.00000000 </td><td>-0.032289274</td><td>-0.03339001 </td><td>-0.03000649 </td><td>-0.031127923</td><td>-0.030519101</td><td> 0.84194162 </td><td>-0.032459894</td></tr>\n",
       "\t<tr><th scope=row>Lag1</th><td>-0.03228927 </td><td> 1.000000000</td><td>-0.07485305 </td><td> 0.05863568 </td><td>-0.071273876</td><td>-0.008183096</td><td>-0.06495131 </td><td>-0.075031842</td></tr>\n",
       "\t<tr><th scope=row>Lag2</th><td>-0.03339001 </td><td>-0.074853051</td><td> 1.00000000 </td><td>-0.07572091 </td><td> 0.058381535</td><td>-0.072499482</td><td>-0.08551314 </td><td> 0.059166717</td></tr>\n",
       "\t<tr><th scope=row>Lag3</th><td>-0.03000649 </td><td> 0.058635682</td><td>-0.07572091 </td><td> 1.00000000 </td><td>-0.075395865</td><td> 0.060657175</td><td>-0.06928771 </td><td>-0.071243639</td></tr>\n",
       "\t<tr><th scope=row>Lag4</th><td>-0.03112792 </td><td>-0.071273876</td><td> 0.05838153 </td><td>-0.07539587 </td><td> 1.000000000</td><td>-0.075675027</td><td>-0.06107462 </td><td>-0.007825873</td></tr>\n",
       "\t<tr><th scope=row>Lag5</th><td>-0.03051910 </td><td>-0.008183096</td><td>-0.07249948 </td><td> 0.06065717 </td><td>-0.075675027</td><td> 1.000000000</td><td>-0.05851741 </td><td> 0.011012698</td></tr>\n",
       "\t<tr><th scope=row>Volume</th><td> 0.84194162 </td><td>-0.064951313</td><td>-0.08551314 </td><td>-0.06928771 </td><td>-0.061074617</td><td>-0.058517414</td><td> 1.00000000 </td><td>-0.033077783</td></tr>\n",
       "\t<tr><th scope=row>Today</th><td>-0.03245989 </td><td>-0.075031842</td><td> 0.05916672 </td><td>-0.07124364 </td><td>-0.007825873</td><td> 0.011012698</td><td>-0.03307778 </td><td> 1.000000000</td></tr>\n",
       "</tbody>\n",
       "</table>\n"
      ],
      "text/latex": [
       "\\begin{tabular}{r|llllllll}\n",
       "  & Year & Lag1 & Lag2 & Lag3 & Lag4 & Lag5 & Volume & Today\\\\\n",
       "\\hline\n",
       "\tYear &  1.00000000  & -0.032289274 & -0.03339001  & -0.03000649  & -0.031127923 & -0.030519101 &  0.84194162  & -0.032459894\\\\\n",
       "\tLag1 & -0.03228927  &  1.000000000 & -0.07485305  &  0.05863568  & -0.071273876 & -0.008183096 & -0.06495131  & -0.075031842\\\\\n",
       "\tLag2 & -0.03339001  & -0.074853051 &  1.00000000  & -0.07572091  &  0.058381535 & -0.072499482 & -0.08551314  &  0.059166717\\\\\n",
       "\tLag3 & -0.03000649  &  0.058635682 & -0.07572091  &  1.00000000  & -0.075395865 &  0.060657175 & -0.06928771  & -0.071243639\\\\\n",
       "\tLag4 & -0.03112792  & -0.071273876 &  0.05838153  & -0.07539587  &  1.000000000 & -0.075675027 & -0.06107462  & -0.007825873\\\\\n",
       "\tLag5 & -0.03051910  & -0.008183096 & -0.07249948  &  0.06065717  & -0.075675027 &  1.000000000 & -0.05851741  &  0.011012698\\\\\n",
       "\tVolume &  0.84194162  & -0.064951313 & -0.08551314  & -0.06928771  & -0.061074617 & -0.058517414 &  1.00000000  & -0.033077783\\\\\n",
       "\tToday & -0.03245989  & -0.075031842 &  0.05916672  & -0.07124364  & -0.007825873 &  0.011012698 & -0.03307778  &  1.000000000\\\\\n",
       "\\end{tabular}\n"
      ],
      "text/markdown": [
       "\n",
       "| <!--/--> | Year | Lag1 | Lag2 | Lag3 | Lag4 | Lag5 | Volume | Today | \n",
       "|---|---|---|---|---|---|---|---|\n",
       "| Year |  1.00000000  | -0.032289274 | -0.03339001  | -0.03000649  | -0.031127923 | -0.030519101 |  0.84194162  | -0.032459894 | \n",
       "| Lag1 | -0.03228927  |  1.000000000 | -0.07485305  |  0.05863568  | -0.071273876 | -0.008183096 | -0.06495131  | -0.075031842 | \n",
       "| Lag2 | -0.03339001  | -0.074853051 |  1.00000000  | -0.07572091  |  0.058381535 | -0.072499482 | -0.08551314  |  0.059166717 | \n",
       "| Lag3 | -0.03000649  |  0.058635682 | -0.07572091  |  1.00000000  | -0.075395865 |  0.060657175 | -0.06928771  | -0.071243639 | \n",
       "| Lag4 | -0.03112792  | -0.071273876 |  0.05838153  | -0.07539587  |  1.000000000 | -0.075675027 | -0.06107462  | -0.007825873 | \n",
       "| Lag5 | -0.03051910  | -0.008183096 | -0.07249948  |  0.06065717  | -0.075675027 |  1.000000000 | -0.05851741  |  0.011012698 | \n",
       "| Volume |  0.84194162  | -0.064951313 | -0.08551314  | -0.06928771  | -0.061074617 | -0.058517414 |  1.00000000  | -0.033077783 | \n",
       "| Today | -0.03245989  | -0.075031842 |  0.05916672  | -0.07124364  | -0.007825873 |  0.011012698 | -0.03307778  |  1.000000000 | \n",
       "\n",
       "\n"
      ],
      "text/plain": [
       "       Year        Lag1         Lag2        Lag3        Lag4        \n",
       "Year    1.00000000 -0.032289274 -0.03339001 -0.03000649 -0.031127923\n",
       "Lag1   -0.03228927  1.000000000 -0.07485305  0.05863568 -0.071273876\n",
       "Lag2   -0.03339001 -0.074853051  1.00000000 -0.07572091  0.058381535\n",
       "Lag3   -0.03000649  0.058635682 -0.07572091  1.00000000 -0.075395865\n",
       "Lag4   -0.03112792 -0.071273876  0.05838153 -0.07539587  1.000000000\n",
       "Lag5   -0.03051910 -0.008183096 -0.07249948  0.06065717 -0.075675027\n",
       "Volume  0.84194162 -0.064951313 -0.08551314 -0.06928771 -0.061074617\n",
       "Today  -0.03245989 -0.075031842  0.05916672 -0.07124364 -0.007825873\n",
       "       Lag5         Volume      Today       \n",
       "Year   -0.030519101  0.84194162 -0.032459894\n",
       "Lag1   -0.008183096 -0.06495131 -0.075031842\n",
       "Lag2   -0.072499482 -0.08551314  0.059166717\n",
       "Lag3    0.060657175 -0.06928771 -0.071243639\n",
       "Lag4   -0.075675027 -0.06107462 -0.007825873\n",
       "Lag5    1.000000000 -0.05851741  0.011012698\n",
       "Volume -0.058517414  1.00000000 -0.033077783\n",
       "Today   0.011012698 -0.03307778  1.000000000"
      ]
     },
     "metadata": {},
     "output_type": "display_data"
    }
   ],
   "source": [
    "cor(Weekly[,1:8])"
   ]
  },
  {
   "cell_type": "code",
   "execution_count": 87,
   "metadata": {},
   "outputs": [
    {
     "data": {
      "image/png": "[encoded data removed]",
      "text/plain": [
       "plot without title"
      ]
     },
     "metadata": {},
     "output_type": "display_data"
    }
   ],
   "source": [
    "plot(Volume,Year)"
   ]
  },
  {
   "cell_type": "code",
   "execution_count": 88,
   "metadata": {},
   "outputs": [
    {
     "data": {
      "image/png": "[encoded data removed]",
      "text/plain": [
       "plot without title"
      ]
     },
     "metadata": {},
     "output_type": "display_data"
    }
   ],
   "source": [
    "pairs(Weekly)"
   ]
  },
  {
   "cell_type": "code",
   "execution_count": 98,
   "metadata": {},
   "outputs": [
    {
     "data": {
      "text/plain": [
       "\n",
       "Call:\n",
       "glm(formula = Direction ~ Lag1 + Lag2 + Lag3 + Lag4 + Lag5 + \n",
       "    Volume, family = binomial, data = Weekly)\n",
       "\n",
       "Deviance Residuals: \n",
       "    Min       1Q   Median       3Q      Max  \n",
       "-1.6949  -1.2565   0.9913   1.0849   1.4579  \n",
       "\n",
       "Coefficients:\n",
       "            Estimate Std. Error z value Pr(>|z|)   \n",
       "(Intercept)  0.26686    0.08593   3.106   0.0019 **\n",
       "Lag1        -0.04127    0.02641  -1.563   0.1181   \n",
       "Lag2         0.05844    0.02686   2.175   0.0296 * \n",
       "Lag3        -0.01606    0.02666  -0.602   0.5469   \n",
       "Lag4        -0.02779    0.02646  -1.050   0.2937   \n",
       "Lag5        -0.01447    0.02638  -0.549   0.5833   \n",
       "Volume      -0.02274    0.03690  -0.616   0.5377   \n",
       "---\n",
       "Signif. codes:  0 '***' 0.001 '**' 0.01 '*' 0.05 '.' 0.1 ' ' 1\n",
       "\n",
       "(Dispersion parameter for binomial family taken to be 1)\n",
       "\n",
       "    Null deviance: 1496.2  on 1088  degrees of freedom\n",
       "Residual deviance: 1486.4  on 1082  degrees of freedom\n",
       "AIC: 1500.4\n",
       "\n",
       "Number of Fisher Scoring iterations: 4\n"
      ]
     },
     "metadata": {},
     "output_type": "display_data"
    }
   ],
   "source": [
    "glm.fit1=glm(Direction~Lag1+Lag2+Lag3+Lag4+Lag5+Volume,data=Weekly,family=binomial)\n",
    "summary(glm.fit1)"
   ]
  },
  {
   "cell_type": "code",
   "execution_count": 100,
   "metadata": {},
   "outputs": [
    {
     "name": "stderr",
     "output_type": "stream",
     "text": [
      "The following objects are masked from Smarket (pos = 4):\n",
      "\n",
      "    Direction, Lag1, Lag2, Lag3, Lag4, Lag5, Today, Volume, Year\n",
      "\n",
      "The following objects are masked from Smarket.2005 (pos = 5):\n",
      "\n",
      "    Direction, Lag1, Lag2, Lag3, Lag4, Lag5, Today, Volume, Year\n",
      "\n",
      "The following objects are masked from Smarket.2005 (pos = 6):\n",
      "\n",
      "    Direction, Lag1, Lag2, Lag3, Lag4, Lag5, Today, Volume, Year\n",
      "\n",
      "The following objects are masked from Smarket.2005 (pos = 7):\n",
      "\n",
      "    Direction, Lag1, Lag2, Lag3, Lag4, Lag5, Today, Volume, Year\n",
      "\n",
      "The following objects are masked from Smarket (pos = 8):\n",
      "\n",
      "    Direction, Lag1, Lag2, Lag3, Lag4, Lag5, Today, Volume, Year\n",
      "\n",
      "The following objects are masked from Smarket (pos = 9):\n",
      "\n",
      "    Direction, Lag1, Lag2, Lag3, Lag4, Lag5, Today, Volume\n",
      "\n",
      "The following objects are masked from Smarket (pos = 10):\n",
      "\n",
      "    Direction, Lag1, Lag2, Lag3, Lag4, Lag5, Today, Volume\n",
      "\n",
      "The following objects are masked from Smarket (pos = 11):\n",
      "\n",
      "    Direction, Lag1, Lag2, Lag3, Lag4, Lag5, Today, Volume\n",
      "\n"
     ]
    },
    {
     "data": {
      "text/plain": [
       "        Direction\n",
       "pred.glm Down  Up\n",
       "    Down   54  48\n",
       "    Up    430 557"
      ]
     },
     "metadata": {},
     "output_type": "display_data"
    }
   ],
   "source": [
    "attach(Weekly)\n",
    "probs=predict(glm.fit1,type=\"response\")\n",
    "pred.glm=(rep(\"Down\",length(probs)))\n",
    "pred.glm[probs>0.5]=\"Up\"\n",
    "table(pred.glm,Direction)"
   ]
  },
  {
   "cell_type": "code",
   "execution_count": 97,
   "metadata": {},
   "outputs": [
    {
     "data": {
      "text/html": [
       "1089"
      ],
      "text/latex": [
       "1089"
      ],
      "text/markdown": [
       "1089"
      ],
      "text/plain": [
       "[1] 1089"
      ]
     },
     "metadata": {},
     "output_type": "display_data"
    },
    {
     "data": {
      "text/html": [
       "1089"
      ],
      "text/latex": [
       "1089"
      ],
      "text/markdown": [
       "1089"
      ],
      "text/plain": [
       "[1] 1089"
      ]
     },
     "metadata": {},
     "output_type": "display_data"
    }
   ],
   "source": [
    "length(probs)\n",
    "length(pred.glm)"
   ]
  },
  {
   "cell_type": "code",
   "execution_count": 101,
   "metadata": {},
   "outputs": [
    {
     "data": {
      "text/html": [
       "0.561065197428834"
      ],
      "text/latex": [
       "0.561065197428834"
      ],
      "text/markdown": [
       "0.561065197428834"
      ],
      "text/plain": [
       "[1] 0.5610652"
      ]
     },
     "metadata": {},
     "output_type": "display_data"
    }
   ],
   "source": [
    "(54+557)/1089"
   ]
  },
  {
   "cell_type": "code",
   "execution_count": 86,
   "metadata": {},
   "outputs": [
    {
     "data": {
      "text/html": [
       "<table>\n",
       "<thead><tr><th scope=col>Region</th><th scope=col>Product</th><th scope=col>Vol.Tot.18</th><th scope=col>Val.Tot.18</th><th scope=col>Spend.Tot.18</th><th scope=col>S2Sales.Tot.18</th><th scope=col>SP.Tot.18</th><th scope=col>Bud.Tot.18</th><th scope=col>BudV.Tot.18</th><th scope=col>Vol.Apr.18</th><th scope=col>...</th><th scope=col>Bud.Oct.18</th><th scope=col>Bud.Nov.18</th><th scope=col>BudV.Apr.18</th><th scope=col>BudV.May.18</th><th scope=col>BudV.Jun.18</th><th scope=col>BudV.Jul.18</th><th scope=col>BudV.Aug.18</th><th scope=col>BudV.Sep.18</th><th scope=col>BudV.Oct.18</th><th scope=col>BudV.Nov.18</th></tr></thead>\n",
       "<tbody>\n",
       "\t<tr><td>KNK       </td><td>Ghee      </td><td>14882.0   </td><td> 5642108  </td><td> 289873.8 </td><td>0.05      </td><td>359.64    </td><td>234643.3  </td><td>  -7768.38</td><td>2382.0    </td><td>...       </td><td> 36959.33 </td><td> 47462.09 </td><td>  17573.61</td><td> 33185.98 </td><td> -6003.24 </td><td> -8868.31 </td><td> -3408.81 </td><td> -6362.26 </td><td> -10325.44</td><td>-23559.91 </td></tr>\n",
       "\t<tr><td>KSK       </td><td>Ghee      </td><td>26091.0   </td><td>10506210  </td><td> 896322.8 </td><td>0.09      </td><td>368.32    </td><td>467667.4  </td><td>-371012.33</td><td>4541.0    </td><td>...       </td><td> 59756.14 </td><td> 57643.06 </td><td>-104179.85</td><td>-68939.06 </td><td> -2509.91 </td><td>-63863.87 </td><td>-29100.81 </td><td>-43583.90 </td><td> -29545.00</td><td>-29289.94 </td></tr>\n",
       "\t<tr><td>KTOT      </td><td>Ghee      </td><td>40973.0   </td><td>16148318  </td><td>1186196.6 </td><td>0.07      </td><td>365.17    </td><td>702310.8  </td><td>-378780.71</td><td>6923.0    </td><td>...       </td><td> 96715.46 </td><td>105105.16 </td><td> -86606.23</td><td>-35753.08 </td><td> -8513.15 </td><td>-72732.18 </td><td>-32509.62 </td><td>-49946.16 </td><td> -39870.45</td><td>-52849.84 </td></tr>\n",
       "\t<tr><td>TNCBE     </td><td>Ghee      </td><td>30882.3   </td><td>12416522  </td><td> 883410.1 </td><td>0.07      </td><td>373.45    </td><td>562095.1  </td><td>-262583.96</td><td>4087.3    </td><td>...       </td><td>105778.34 </td><td> 58731.03 </td><td> -38891.89</td><td>  7458.96 </td><td>  6039.15 </td><td>-25529.87 </td><td>-31527.07 </td><td>-35010.57 </td><td>-116461.21</td><td>-28661.46 </td></tr>\n",
       "\t<tr><td>TNMAD     </td><td>Ghee      </td><td>24818.0   </td><td> 9760731  </td><td> 534338.6 </td><td>0.05      </td><td>371.76    </td><td>440319.7  </td><td> -46302.03</td><td>3912.0    </td><td>...       </td><td> 69522.24 </td><td> 47716.87 </td><td>  76346.72</td><td> 57973.14 </td><td>-18384.32 </td><td>-17452.04 </td><td>-28368.82 </td><td>-31314.57 </td><td> -38156.75</td><td>-46945.38 </td></tr>\n",
       "\t<tr><td>TNTR      </td><td>Ghee      </td><td> 7663.0   </td><td> 3154620  </td><td> 506872.4 </td><td>0.16      </td><td>345.52    </td><td>144173.5  </td><td>-349141.36</td><td> 821.0    </td><td>...       </td><td> 29443.24 </td><td> 13557.54 </td><td>-184854.21</td><td>-63420.15 </td><td> -7689.37 </td><td> -6690.66 </td><td> -8658.27 </td><td>-13818.11 </td><td> -24836.90</td><td>-39173.69 </td></tr>\n",
       "</tbody>\n",
       "</table>\n"
      ],
      "text/latex": [
       "\\begin{tabular}{r|lllllllllllllllllllllllllllllllllllllllllllllllllllllllllllllllll}\n",
       " Region & Product & Vol.Tot.18 & Val.Tot.18 & Spend.Tot.18 & S2Sales.Tot.18 & SP.Tot.18 & Bud.Tot.18 & BudV.Tot.18 & Vol.Apr.18 & ... & Bud.Oct.18 & Bud.Nov.18 & BudV.Apr.18 & BudV.May.18 & BudV.Jun.18 & BudV.Jul.18 & BudV.Aug.18 & BudV.Sep.18 & BudV.Oct.18 & BudV.Nov.18\\\\\n",
       "\\hline\n",
       "\t KNK        & Ghee       & 14882.0    &  5642108   &  289873.8  & 0.05       & 359.64     & 234643.3   &   -7768.38 & 2382.0     & ...        &  36959.33  &  47462.09  &   17573.61 &  33185.98  &  -6003.24  &  -8868.31  &  -3408.81  &  -6362.26  &  -10325.44 & -23559.91 \\\\\n",
       "\t KSK        & Ghee       & 26091.0    & 10506210   &  896322.8  & 0.09       & 368.32     & 467667.4   & -371012.33 & 4541.0     & ...        &  59756.14  &  57643.06  & -104179.85 & -68939.06  &  -2509.91  & -63863.87  & -29100.81  & -43583.90  &  -29545.00 & -29289.94 \\\\\n",
       "\t KTOT       & Ghee       & 40973.0    & 16148318   & 1186196.6  & 0.07       & 365.17     & 702310.8   & -378780.71 & 6923.0     & ...        &  96715.46  & 105105.16  &  -86606.23 & -35753.08  &  -8513.15  & -72732.18  & -32509.62  & -49946.16  &  -39870.45 & -52849.84 \\\\\n",
       "\t TNCBE      & Ghee       & 30882.3    & 12416522   &  883410.1  & 0.07       & 373.45     & 562095.1   & -262583.96 & 4087.3     & ...        & 105778.34  &  58731.03  &  -38891.89 &   7458.96  &   6039.15  & -25529.87  & -31527.07  & -35010.57  & -116461.21 & -28661.46 \\\\\n",
       "\t TNMAD      & Ghee       & 24818.0    &  9760731   &  534338.6  & 0.05       & 371.76     & 440319.7   &  -46302.03 & 3912.0     & ...        &  69522.24  &  47716.87  &   76346.72 &  57973.14  & -18384.32  & -17452.04  & -28368.82  & -31314.57  &  -38156.75 & -46945.38 \\\\\n",
       "\t TNTR       & Ghee       &  7663.0    &  3154620   &  506872.4  & 0.16       & 345.52     & 144173.5   & -349141.36 &  821.0     & ...        &  29443.24  &  13557.54  & -184854.21 & -63420.15  &  -7689.37  &  -6690.66  &  -8658.27  & -13818.11  &  -24836.90 & -39173.69 \\\\\n",
       "\\end{tabular}\n"
      ],
      "text/markdown": [
       "\n",
       "Region | Product | Vol.Tot.18 | Val.Tot.18 | Spend.Tot.18 | S2Sales.Tot.18 | SP.Tot.18 | Bud.Tot.18 | BudV.Tot.18 | Vol.Apr.18 | ... | Bud.Oct.18 | Bud.Nov.18 | BudV.Apr.18 | BudV.May.18 | BudV.Jun.18 | BudV.Jul.18 | BudV.Aug.18 | BudV.Sep.18 | BudV.Oct.18 | BudV.Nov.18 | \n",
       "|---|---|---|---|---|---|\n",
       "| KNK        | Ghee       | 14882.0    |  5642108   |  289873.8  | 0.05       | 359.64     | 234643.3   |   -7768.38 | 2382.0     | ...        |  36959.33  |  47462.09  |   17573.61 |  33185.98  |  -6003.24  |  -8868.31  |  -3408.81  |  -6362.26  |  -10325.44 | -23559.91  | \n",
       "| KSK        | Ghee       | 26091.0    | 10506210   |  896322.8  | 0.09       | 368.32     | 467667.4   | -371012.33 | 4541.0     | ...        |  59756.14  |  57643.06  | -104179.85 | -68939.06  |  -2509.91  | -63863.87  | -29100.81  | -43583.90  |  -29545.00 | -29289.94  | \n",
       "| KTOT       | Ghee       | 40973.0    | 16148318   | 1186196.6  | 0.07       | 365.17     | 702310.8   | -378780.71 | 6923.0     | ...        |  96715.46  | 105105.16  |  -86606.23 | -35753.08  |  -8513.15  | -72732.18  | -32509.62  | -49946.16  |  -39870.45 | -52849.84  | \n",
       "| TNCBE      | Ghee       | 30882.3    | 12416522   |  883410.1  | 0.07       | 373.45     | 562095.1   | -262583.96 | 4087.3     | ...        | 105778.34  |  58731.03  |  -38891.89 |   7458.96  |   6039.15  | -25529.87  | -31527.07  | -35010.57  | -116461.21 | -28661.46  | \n",
       "| TNMAD      | Ghee       | 24818.0    |  9760731   |  534338.6  | 0.05       | 371.76     | 440319.7   |  -46302.03 | 3912.0     | ...        |  69522.24  |  47716.87  |   76346.72 |  57973.14  | -18384.32  | -17452.04  | -28368.82  | -31314.57  |  -38156.75 | -46945.38  | \n",
       "| TNTR       | Ghee       |  7663.0    |  3154620   |  506872.4  | 0.16       | 345.52     | 144173.5   | -349141.36 |  821.0     | ...        |  29443.24  |  13557.54  | -184854.21 | -63420.15  |  -7689.37  |  -6690.66  |  -8658.27  | -13818.11  |  -24836.90 | -39173.69  | \n",
       "\n",
       "\n"
      ],
      "text/plain": [
       "  Region Product Vol.Tot.18 Val.Tot.18 Spend.Tot.18 S2Sales.Tot.18 SP.Tot.18\n",
       "1 KNK    Ghee    14882.0     5642108    289873.8    0.05           359.64   \n",
       "2 KSK    Ghee    26091.0    10506210    896322.8    0.09           368.32   \n",
       "3 KTOT   Ghee    40973.0    16148318   1186196.6    0.07           365.17   \n",
       "4 TNCBE  Ghee    30882.3    12416522    883410.1    0.07           373.45   \n",
       "5 TNMAD  Ghee    24818.0     9760731    534338.6    0.05           371.76   \n",
       "6 TNTR   Ghee     7663.0     3154620    506872.4    0.16           345.52   \n",
       "  Bud.Tot.18 BudV.Tot.18 Vol.Apr.18 ... Bud.Oct.18 Bud.Nov.18 BudV.Apr.18\n",
       "1 234643.3     -7768.38  2382.0     ...  36959.33   47462.09    17573.61 \n",
       "2 467667.4   -371012.33  4541.0     ...  59756.14   57643.06  -104179.85 \n",
       "3 702310.8   -378780.71  6923.0     ...  96715.46  105105.16   -86606.23 \n",
       "4 562095.1   -262583.96  4087.3     ... 105778.34   58731.03   -38891.89 \n",
       "5 440319.7    -46302.03  3912.0     ...  69522.24   47716.87    76346.72 \n",
       "6 144173.5   -349141.36   821.0     ...  29443.24   13557.54  -184854.21 \n",
       "  BudV.May.18 BudV.Jun.18 BudV.Jul.18 BudV.Aug.18 BudV.Sep.18 BudV.Oct.18\n",
       "1  33185.98    -6003.24    -8868.31    -3408.81    -6362.26    -10325.44 \n",
       "2 -68939.06    -2509.91   -63863.87   -29100.81   -43583.90    -29545.00 \n",
       "3 -35753.08    -8513.15   -72732.18   -32509.62   -49946.16    -39870.45 \n",
       "4   7458.96     6039.15   -25529.87   -31527.07   -35010.57   -116461.21 \n",
       "5  57973.14   -18384.32   -17452.04   -28368.82   -31314.57    -38156.75 \n",
       "6 -63420.15    -7689.37    -6690.66    -8658.27   -13818.11    -24836.90 \n",
       "  BudV.Nov.18\n",
       "1 -23559.91  \n",
       "2 -29289.94  \n",
       "3 -52849.84  \n",
       "4 -28661.46  \n",
       "5 -46945.38  \n",
       "6 -39173.69  "
      ]
     },
     "metadata": {},
     "output_type": "display_data"
    }
   ],
   "source": [
    "Sales = read.csv(\"Product Sales.csv\",header=T) \n",
    "head(Sales)"
   ]
  },
  {
   "cell_type": "code",
   "execution_count": 119,
   "metadata": {},
   "outputs": [
    {
     "data": {
      "image/png": "[encoded data removed]",
      "text/plain": [
       "Plot with title \" Spend/Sales Vs Product\""
      ]
     },
     "metadata": {},
     "output_type": "display_data"
    }
   ],
   "source": [
    "par(mfrow=c(2,2))\n",
    "plot(Product,Val.Tot.18/1000, col =\"red\", varwidth =T, main=\" Value/1000 vs Product\",xlab=\"Product\",\n",
    "ylab =\"Value in 1000 Rs. \",las=2)\n",
    "\n",
    "plot(Product,Spend.Tot.18/1000, col =\"red\", main=\" Spend/1000 vs Product\",xlab=\"Product\",\n",
    "ylab =\"Spend in 1000 Rs. \",las=2)\n",
    "\n",
    "plot(Spend.Tot.18/1000,Val.Tot.18/1000, col =\"red\", main=\" Value/1000 vs Spend/1000\",xlab=\"Spend in 1000Rs.\",\n",
    "ylab =\"Value in 1000 Rs. \")\n",
    "\n",
    "plot(Product,S2Sales.Tot.18, col =\"red\", main=\" Spend/Sales Vs Product\",xlab=\"Product\",\n",
    "ylab =\"Value in 1000 Rs. \",las=2)\n",
    "\n"
   ]
  },
  {
   "cell_type": "code",
   "execution_count": 121,
   "metadata": {},
   "outputs": [
    {
     "data": {
      "image/png": "[encoded data removed]",
      "text/plain": [
       "plot without title"
      ]
     },
     "metadata": {},
     "output_type": "display_data"
    }
   ],
   "source": [
    "pairs(Sales[1:8])"
   ]
  },
  {
   "cell_type": "code",
   "execution_count": 133,
   "metadata": {},
   "outputs": [
    {
     "data": {
      "text/html": [
       "<table>\n",
       "<thead><tr><th></th><th scope=col>Vol.Tot.18</th><th scope=col>Val.Tot.18</th><th scope=col>Spend.Tot.18</th><th scope=col>S2Sales.Tot.18</th><th scope=col>SP.Tot.18</th><th scope=col>Bud.Tot.18</th></tr></thead>\n",
       "<tbody>\n",
       "\t<tr><th scope=row>Vol.Tot.18</th><td> 1.0000000 </td><td> 0.9259272 </td><td> 0.82409902</td><td>-0.20530615</td><td> 0.5776624 </td><td> 0.93314167</td></tr>\n",
       "\t<tr><th scope=row>Val.Tot.18</th><td> 0.9259272 </td><td> 1.0000000 </td><td> 0.91972047</td><td>-0.24963521</td><td> 0.4745936 </td><td> 0.96904113</td></tr>\n",
       "\t<tr><th scope=row>Spend.Tot.18</th><td> 0.8240990 </td><td> 0.9197205 </td><td> 1.00000000</td><td>-0.05244756</td><td> 0.3865914 </td><td> 0.95427022</td></tr>\n",
       "\t<tr><th scope=row>S2Sales.Tot.18</th><td>-0.2053061 </td><td>-0.2496352 </td><td>-0.05244756</td><td> 1.00000000</td><td>-0.4753637 </td><td>-0.09408218</td></tr>\n",
       "\t<tr><th scope=row>SP.Tot.18</th><td> 0.5776624 </td><td> 0.4745936 </td><td> 0.38659139</td><td>-0.47536366</td><td> 1.0000000 </td><td> 0.46578718</td></tr>\n",
       "\t<tr><th scope=row>Bud.Tot.18</th><td> 0.9331417 </td><td> 0.9690411 </td><td> 0.95427022</td><td>-0.09408218</td><td> 0.4657872 </td><td> 1.00000000</td></tr>\n",
       "</tbody>\n",
       "</table>\n"
      ],
      "text/latex": [
       "\\begin{tabular}{r|llllll}\n",
       "  & Vol.Tot.18 & Val.Tot.18 & Spend.Tot.18 & S2Sales.Tot.18 & SP.Tot.18 & Bud.Tot.18\\\\\n",
       "\\hline\n",
       "\tVol.Tot.18 &  1.0000000  &  0.9259272  &  0.82409902 & -0.20530615 &  0.5776624  &  0.93314167\\\\\n",
       "\tVal.Tot.18 &  0.9259272  &  1.0000000  &  0.91972047 & -0.24963521 &  0.4745936  &  0.96904113\\\\\n",
       "\tSpend.Tot.18 &  0.8240990  &  0.9197205  &  1.00000000 & -0.05244756 &  0.3865914  &  0.95427022\\\\\n",
       "\tS2Sales.Tot.18 & -0.2053061  & -0.2496352  & -0.05244756 &  1.00000000 & -0.4753637  & -0.09408218\\\\\n",
       "\tSP.Tot.18 &  0.5776624  &  0.4745936  &  0.38659139 & -0.47536366 &  1.0000000  &  0.46578718\\\\\n",
       "\tBud.Tot.18 &  0.9331417  &  0.9690411  &  0.95427022 & -0.09408218 &  0.4657872  &  1.00000000\\\\\n",
       "\\end{tabular}\n"
      ],
      "text/markdown": [
       "\n",
       "| <!--/--> | Vol.Tot.18 | Val.Tot.18 | Spend.Tot.18 | S2Sales.Tot.18 | SP.Tot.18 | Bud.Tot.18 | \n",
       "|---|---|---|---|---|---|\n",
       "| Vol.Tot.18 |  1.0000000  |  0.9259272  |  0.82409902 | -0.20530615 |  0.5776624  |  0.93314167 | \n",
       "| Val.Tot.18 |  0.9259272  |  1.0000000  |  0.91972047 | -0.24963521 |  0.4745936  |  0.96904113 | \n",
       "| Spend.Tot.18 |  0.8240990  |  0.9197205  |  1.00000000 | -0.05244756 |  0.3865914  |  0.95427022 | \n",
       "| S2Sales.Tot.18 | -0.2053061  | -0.2496352  | -0.05244756 |  1.00000000 | -0.4753637  | -0.09408218 | \n",
       "| SP.Tot.18 |  0.5776624  |  0.4745936  |  0.38659139 | -0.47536366 |  1.0000000  |  0.46578718 | \n",
       "| Bud.Tot.18 |  0.9331417  |  0.9690411  |  0.95427022 | -0.09408218 |  0.4657872  |  1.00000000 | \n",
       "\n",
       "\n"
      ],
      "text/plain": [
       "               Vol.Tot.18 Val.Tot.18 Spend.Tot.18 S2Sales.Tot.18 SP.Tot.18 \n",
       "Vol.Tot.18      1.0000000  0.9259272  0.82409902  -0.20530615     0.5776624\n",
       "Val.Tot.18      0.9259272  1.0000000  0.91972047  -0.24963521     0.4745936\n",
       "Spend.Tot.18    0.8240990  0.9197205  1.00000000  -0.05244756     0.3865914\n",
       "S2Sales.Tot.18 -0.2053061 -0.2496352 -0.05244756   1.00000000    -0.4753637\n",
       "SP.Tot.18       0.5776624  0.4745936  0.38659139  -0.47536366     1.0000000\n",
       "Bud.Tot.18      0.9331417  0.9690411  0.95427022  -0.09408218     0.4657872\n",
       "               Bud.Tot.18 \n",
       "Vol.Tot.18      0.93314167\n",
       "Val.Tot.18      0.96904113\n",
       "Spend.Tot.18    0.95427022\n",
       "S2Sales.Tot.18 -0.09408218\n",
       "SP.Tot.18       0.46578718\n",
       "Bud.Tot.18      1.00000000"
      ]
     },
     "metadata": {},
     "output_type": "display_data"
    }
   ],
   "source": [
    "cor(Sales[3:8])"
   ]
  },
  {
   "cell_type": "code",
   "execution_count": 135,
   "metadata": {},
   "outputs": [
    {
     "data": {
      "image/png": "[encoded data removed]",
      "text/plain": [
       "Plot with title \"Ghee  - Volume vs Spend\""
      ]
     },
     "metadata": {},
     "output_type": "display_data"
    },
    {
     "data": {
      "image/png": "[encoded data removed]",
      "text/plain": [
       "Plot with title \"Pouch Curd  - Volume vs Spend\""
      ]
     },
     "metadata": {},
     "output_type": "display_data"
    },
    {
     "data": {
      "image/png": "[encoded data removed]",
      "text/plain": [
       "Plot with title \"Cup Curd  - Volume vs Spend\""
      ]
     },
     "metadata": {},
     "output_type": "display_data"
    },
    {
     "data": {
      "image/png": "[encoded data removed]",
      "text/plain": [
       "Plot with title \"Paneer  - Volume vs Spend\""
      ]
     },
     "metadata": {},
     "output_type": "display_data"
    },
    {
     "data": {
      "image/png": "[encoded data removed]",
      "text/plain": [
       "Plot with title \"Butter  - Volume vs Spend\""
      ]
     },
     "metadata": {},
     "output_type": "display_data"
    },
    {
     "data": {
      "image/png": "[encoded data removed]",
      "text/plain": [
       "Plot with title \"DW  - Volume vs Spend\""
      ]
     },
     "metadata": {},
     "output_type": "display_data"
    }
   ],
   "source": [
    "\n",
    "par(mfrow =c(2,2))\n",
    "data=subset(Sales, Product==\"Ghee\")\n",
    "data=droplevels(data)\n",
    "plot(data$Region, data$Val.Tot.18/1000, col =\"red\", varwidth =T,main=\" Ghee - Value/1000 vs Region\",xlab=\"Region\",ylab =\"Value in 1000 Rs. \",las=2)\n",
    "plot(data$Spend.Tot.18/1000, data$Val.Tot.18/1000, col =\"red\", main=\" Ghee - Value/1000 vs Spend/1000\",xlab=\"Spend\",ylab =\"Value in 1000 Rs. \",las=2)\n",
    "plot(data$SP.Tot.18, data$Vol.Tot.18, col =\"red\", main=\"Ghee  - Volume vs Price\",xlab=\"Price\",ylab =\"Volume in number of units\",las=2)\n",
    "plot(data$Spend.Tot.18, data$Vol.Tot.18, col =\"red\", main=\"Ghee  - Volume vs Spend\",xlab=\"Spend\",ylab =\"Volume in number of units\",las=2)\n",
    "\n",
    "par(mfrow =c(2,2))\n",
    "data=subset(Sales, Product==\"Pouch Curd\")\n",
    "data=droplevels(data)\n",
    "plot(data$Region, data$Val.Tot.18/1000, col =\"red\", main=\" Pouch Curd - Value/1000 vs Region\",xlab=\"Region\",ylab =\"Value in 1000 Rs. \",las=2)\n",
    "plot(data$Spend.Tot.18/1000, data$Val.Tot.18/1000, col =\"red\", main=\" Pouch Curd - Value/1000 vs Spend/1000\",xlab=\"Spend\",ylab =\"Value in 1000 Rs. \",las=2)\n",
    "plot(data$SP.Tot.18, data$Vol.Tot.18, col =\"red\", main=\"Pouch Curd  - Volume vs Price\",xlab=\"Price\",ylab =\"Volume in number of units\",las=2)\n",
    "plot(data$Spend.Tot.18, data$Vol.Tot.18, col =\"red\", main=\"Pouch Curd  - Volume vs Spend\",xlab=\"Spend\",ylab =\"Volume in number of units\",las=2)\n",
    "\n",
    "\n",
    "par(mfrow =c(2,2))\n",
    "data=subset(Sales, Product==\"Cup Curd\")\n",
    "data=droplevels(data)\n",
    "plot(data$Region, data$Val.Tot.18/1000, col =\"red\", main=\" Cup Curd - Value/1000 vs Region\",xlab=\"Region\",ylab =\"Value in 1000 Rs. \",las=2)\n",
    "plot(data$Spend.Tot.18/1000, data$Val.Tot.18/1000, col =\"red\", main=\" Cup Curd - Value/1000 vs Spend/1000\",xlab=\"Spend\",ylab =\"Value in 1000 Rs. \",las=2)\n",
    "plot(data$SP.Tot.18, data$Vol.Tot.18, col =\"red\", main=\"Cup Curd  - Volume vs Price\",xlab=\"Price\",ylab =\"Volume in number of units\",las=2)\n",
    "plot(data$Spend.Tot.18, data$Vol.Tot.18, col =\"red\", main=\"Cup Curd  - Volume vs Spend\",xlab=\"Spend\",ylab =\"Volume in number of units\",las=2)\n",
    "\n",
    "par(mfrow =c(2,2))\n",
    "data=subset(Sales, Product==\"Paneer\")\n",
    "data=droplevels(data)\n",
    "plot(data$Region, data$Val.Tot.18/1000, col =\"red\", main=\" Paneer - Value/1000 vs Region\",xlab=\"Region\",ylab =\"Value in 1000 Rs. \",las=2)\n",
    "plot(data$Spend.Tot.18/1000, data$Val.Tot.18/1000, col =\"red\", main=\" Paneer - Value/1000 vs Spend/1000\",xlab=\"Spend\",ylab =\"Value in 1000 Rs. \",las=2)\n",
    "plot(data$SP.Tot.18, data$Vol.Tot.18, col =\"red\", main=\"Paneer  - Volume vs Price\",xlab=\"Price\",ylab =\"Volume in number of units\",las=2)\n",
    "plot(data$Spend.Tot.18, data$Vol.Tot.18, col =\"red\", main=\"Paneer  - Volume vs Spend\",xlab=\"Spend\",ylab =\"Volume in number of units\",las=2)\n",
    "\n",
    "par(mfrow =c(2,2))\n",
    "data=subset(Sales, Product==\"Butter\")\n",
    "data=droplevels(data)\n",
    "plot(data$Region, data$Val.Tot.18/1000, col =\"red\", main=\" Butter - Value/1000 vs Region\",xlab=\"Region\",ylab =\"Value in 1000 Rs. \",las=2)\n",
    "plot(data$Spend.Tot.18/1000, data$Val.Tot.18/1000, col =\"red\", main=\" Butter - Value/1000 vs Spend/1000\",xlab=\"Spend\",ylab =\"Value in 1000 Rs. \",las=2)\n",
    "plot(data$SP.Tot.18, data$Vol.Tot.18, col =\"red\", main=\"Butter  - Volume vs Price\",xlab=\"Price\",ylab =\"Volume in number of units\",las=2)\n",
    "plot(data$Spend.Tot.18, data$Vol.Tot.18, col =\"red\", main=\"Butter  - Volume vs Spend\",xlab=\"Spend\",ylab =\"Volume in number of units\",las=2)\n",
    "\n",
    "par(mfrow =c(2,2))\n",
    "data=subset(Sales, Product==\"DW\")\n",
    "data=droplevels(data)\n",
    "plot(data$Region, data$Val.Tot.18/1000, col =\"red\", main=\" DW - Value/1000 vs Region\",xlab=\"Region\",ylab =\"Value in 1000 Rs. \",las=2)\n",
    "plot(data$Spend.Tot.18/1000, data$Val.Tot.18/1000, col =\"red\", main=\" DW - Value/1000 vs Spend/1000\",xlab=\"Spend\",ylab =\"Value in 1000 Rs. \",las=2)\n",
    "plot(data$SP.Tot.18, data$Vol.Tot.18, col =\"red\", main=\"DW  - Volume vs Price\",xlab=\"Price\",ylab =\"Volume in number of units\",las=2)\n",
    "plot(data$Spend.Tot.18, data$Vol.Tot.18, col =\"red\", main=\"DW  - Volume vs Spend\",xlab=\"Spend\",ylab =\"Volume in number of units\",las=2)"
   ]
  },
  {
   "cell_type": "code",
   "execution_count": 148,
   "metadata": {},
   "outputs": [
    {
     "data": {
      "text/html": [
       "<table>\n",
       "<thead><tr><th scope=col>Region</th><th scope=col>Product</th><th scope=col>Vol.Tot.18</th><th scope=col>Val.Tot.18</th><th scope=col>Spend.Tot.18</th><th scope=col>S2Sales.Tot.18</th><th scope=col>SP.Tot.18</th><th scope=col>Bud.Tot.18</th><th scope=col>BudV.Tot.18</th><th scope=col>Vol.Apr.18</th><th scope=col>...</th><th scope=col>Bud.Oct.18</th><th scope=col>Bud.Nov.18</th><th scope=col>BudV.Apr.18</th><th scope=col>BudV.May.18</th><th scope=col>BudV.Jun.18</th><th scope=col>BudV.Jul.18</th><th scope=col>BudV.Aug.18</th><th scope=col>BudV.Sep.18</th><th scope=col>BudV.Oct.18</th><th scope=col>BudV.Nov.18</th></tr></thead>\n",
       "<tbody>\n",
       "\t<tr><td>KNK       </td><td>Ghee      </td><td>14882.0   </td><td> 5642108  </td><td> 289873.8 </td><td>0.05      </td><td>359.64    </td><td>234643.3  </td><td>  -7768.38</td><td>2382.0    </td><td>...       </td><td> 36959.33 </td><td> 47462.09 </td><td>  17573.61</td><td> 33185.98 </td><td> -6003.24 </td><td> -8868.31 </td><td> -3408.81 </td><td> -6362.26 </td><td> -10325.44</td><td>-23559.91 </td></tr>\n",
       "\t<tr><td>KSK       </td><td>Ghee      </td><td>26091.0   </td><td>10506210  </td><td> 896322.8 </td><td>0.09      </td><td>368.32    </td><td>467667.4  </td><td>-371012.33</td><td>4541.0    </td><td>...       </td><td> 59756.14 </td><td> 57643.06 </td><td>-104179.85</td><td>-68939.06 </td><td> -2509.91 </td><td>-63863.87 </td><td>-29100.81 </td><td>-43583.90 </td><td> -29545.00</td><td>-29289.94 </td></tr>\n",
       "\t<tr><td>KTOT      </td><td>Ghee      </td><td>40973.0   </td><td>16148318  </td><td>1186196.6 </td><td>0.07      </td><td>365.17    </td><td>702310.8  </td><td>-378780.71</td><td>6923.0    </td><td>...       </td><td> 96715.46 </td><td>105105.16 </td><td> -86606.23</td><td>-35753.08 </td><td> -8513.15 </td><td>-72732.18 </td><td>-32509.62 </td><td>-49946.16 </td><td> -39870.45</td><td>-52849.84 </td></tr>\n",
       "\t<tr><td>TNCBE     </td><td>Ghee      </td><td>30882.3   </td><td>12416522  </td><td> 883410.1 </td><td>0.07      </td><td>373.45    </td><td>562095.1  </td><td>-262583.96</td><td>4087.3    </td><td>...       </td><td>105778.34 </td><td> 58731.03 </td><td> -38891.89</td><td>  7458.96 </td><td>  6039.15 </td><td>-25529.87 </td><td>-31527.07 </td><td>-35010.57 </td><td>-116461.21</td><td>-28661.46 </td></tr>\n",
       "\t<tr><td>TNMAD     </td><td>Ghee      </td><td>24818.0   </td><td> 9760731  </td><td> 534338.6 </td><td>0.05      </td><td>371.76    </td><td>440319.7  </td><td> -46302.03</td><td>3912.0    </td><td>...       </td><td> 69522.24 </td><td> 47716.87 </td><td>  76346.72</td><td> 57973.14 </td><td>-18384.32 </td><td>-17452.04 </td><td>-28368.82 </td><td>-31314.57 </td><td> -38156.75</td><td>-46945.38 </td></tr>\n",
       "\t<tr><td>TNTR      </td><td>Ghee      </td><td> 7663.0   </td><td> 3154620  </td><td> 506872.4 </td><td>0.16      </td><td>345.52    </td><td>144173.5  </td><td>-349141.36</td><td> 821.0    </td><td>...       </td><td> 29443.24 </td><td> 13557.54 </td><td>-184854.21</td><td>-63420.15 </td><td> -7689.37 </td><td> -6690.66 </td><td> -8658.27 </td><td>-13818.11 </td><td> -24836.90</td><td>-39173.69 </td></tr>\n",
       "</tbody>\n",
       "</table>\n"
      ],
      "text/latex": [
       "\\begin{tabular}{r|lllllllllllllllllllllllllllllllllllllllllllllllllllllllllllllllll}\n",
       " Region & Product & Vol.Tot.18 & Val.Tot.18 & Spend.Tot.18 & S2Sales.Tot.18 & SP.Tot.18 & Bud.Tot.18 & BudV.Tot.18 & Vol.Apr.18 & ... & Bud.Oct.18 & Bud.Nov.18 & BudV.Apr.18 & BudV.May.18 & BudV.Jun.18 & BudV.Jul.18 & BudV.Aug.18 & BudV.Sep.18 & BudV.Oct.18 & BudV.Nov.18\\\\\n",
       "\\hline\n",
       "\t KNK        & Ghee       & 14882.0    &  5642108   &  289873.8  & 0.05       & 359.64     & 234643.3   &   -7768.38 & 2382.0     & ...        &  36959.33  &  47462.09  &   17573.61 &  33185.98  &  -6003.24  &  -8868.31  &  -3408.81  &  -6362.26  &  -10325.44 & -23559.91 \\\\\n",
       "\t KSK        & Ghee       & 26091.0    & 10506210   &  896322.8  & 0.09       & 368.32     & 467667.4   & -371012.33 & 4541.0     & ...        &  59756.14  &  57643.06  & -104179.85 & -68939.06  &  -2509.91  & -63863.87  & -29100.81  & -43583.90  &  -29545.00 & -29289.94 \\\\\n",
       "\t KTOT       & Ghee       & 40973.0    & 16148318   & 1186196.6  & 0.07       & 365.17     & 702310.8   & -378780.71 & 6923.0     & ...        &  96715.46  & 105105.16  &  -86606.23 & -35753.08  &  -8513.15  & -72732.18  & -32509.62  & -49946.16  &  -39870.45 & -52849.84 \\\\\n",
       "\t TNCBE      & Ghee       & 30882.3    & 12416522   &  883410.1  & 0.07       & 373.45     & 562095.1   & -262583.96 & 4087.3     & ...        & 105778.34  &  58731.03  &  -38891.89 &   7458.96  &   6039.15  & -25529.87  & -31527.07  & -35010.57  & -116461.21 & -28661.46 \\\\\n",
       "\t TNMAD      & Ghee       & 24818.0    &  9760731   &  534338.6  & 0.05       & 371.76     & 440319.7   &  -46302.03 & 3912.0     & ...        &  69522.24  &  47716.87  &   76346.72 &  57973.14  & -18384.32  & -17452.04  & -28368.82  & -31314.57  &  -38156.75 & -46945.38 \\\\\n",
       "\t TNTR       & Ghee       &  7663.0    &  3154620   &  506872.4  & 0.16       & 345.52     & 144173.5   & -349141.36 &  821.0     & ...        &  29443.24  &  13557.54  & -184854.21 & -63420.15  &  -7689.37  &  -6690.66  &  -8658.27  & -13818.11  &  -24836.90 & -39173.69 \\\\\n",
       "\\end{tabular}\n"
      ],
      "text/markdown": [
       "\n",
       "Region | Product | Vol.Tot.18 | Val.Tot.18 | Spend.Tot.18 | S2Sales.Tot.18 | SP.Tot.18 | Bud.Tot.18 | BudV.Tot.18 | Vol.Apr.18 | ... | Bud.Oct.18 | Bud.Nov.18 | BudV.Apr.18 | BudV.May.18 | BudV.Jun.18 | BudV.Jul.18 | BudV.Aug.18 | BudV.Sep.18 | BudV.Oct.18 | BudV.Nov.18 | \n",
       "|---|---|---|---|---|---|\n",
       "| KNK        | Ghee       | 14882.0    |  5642108   |  289873.8  | 0.05       | 359.64     | 234643.3   |   -7768.38 | 2382.0     | ...        |  36959.33  |  47462.09  |   17573.61 |  33185.98  |  -6003.24  |  -8868.31  |  -3408.81  |  -6362.26  |  -10325.44 | -23559.91  | \n",
       "| KSK        | Ghee       | 26091.0    | 10506210   |  896322.8  | 0.09       | 368.32     | 467667.4   | -371012.33 | 4541.0     | ...        |  59756.14  |  57643.06  | -104179.85 | -68939.06  |  -2509.91  | -63863.87  | -29100.81  | -43583.90  |  -29545.00 | -29289.94  | \n",
       "| KTOT       | Ghee       | 40973.0    | 16148318   | 1186196.6  | 0.07       | 365.17     | 702310.8   | -378780.71 | 6923.0     | ...        |  96715.46  | 105105.16  |  -86606.23 | -35753.08  |  -8513.15  | -72732.18  | -32509.62  | -49946.16  |  -39870.45 | -52849.84  | \n",
       "| TNCBE      | Ghee       | 30882.3    | 12416522   |  883410.1  | 0.07       | 373.45     | 562095.1   | -262583.96 | 4087.3     | ...        | 105778.34  |  58731.03  |  -38891.89 |   7458.96  |   6039.15  | -25529.87  | -31527.07  | -35010.57  | -116461.21 | -28661.46  | \n",
       "| TNMAD      | Ghee       | 24818.0    |  9760731   |  534338.6  | 0.05       | 371.76     | 440319.7   |  -46302.03 | 3912.0     | ...        |  69522.24  |  47716.87  |   76346.72 |  57973.14  | -18384.32  | -17452.04  | -28368.82  | -31314.57  |  -38156.75 | -46945.38  | \n",
       "| TNTR       | Ghee       |  7663.0    |  3154620   |  506872.4  | 0.16       | 345.52     | 144173.5   | -349141.36 |  821.0     | ...        |  29443.24  |  13557.54  | -184854.21 | -63420.15  |  -7689.37  |  -6690.66  |  -8658.27  | -13818.11  |  -24836.90 | -39173.69  | \n",
       "\n",
       "\n"
      ],
      "text/plain": [
       "  Region Product Vol.Tot.18 Val.Tot.18 Spend.Tot.18 S2Sales.Tot.18 SP.Tot.18\n",
       "1 KNK    Ghee    14882.0     5642108    289873.8    0.05           359.64   \n",
       "2 KSK    Ghee    26091.0    10506210    896322.8    0.09           368.32   \n",
       "3 KTOT   Ghee    40973.0    16148318   1186196.6    0.07           365.17   \n",
       "4 TNCBE  Ghee    30882.3    12416522    883410.1    0.07           373.45   \n",
       "5 TNMAD  Ghee    24818.0     9760731    534338.6    0.05           371.76   \n",
       "6 TNTR   Ghee     7663.0     3154620    506872.4    0.16           345.52   \n",
       "  Bud.Tot.18 BudV.Tot.18 Vol.Apr.18 ... Bud.Oct.18 Bud.Nov.18 BudV.Apr.18\n",
       "1 234643.3     -7768.38  2382.0     ...  36959.33   47462.09    17573.61 \n",
       "2 467667.4   -371012.33  4541.0     ...  59756.14   57643.06  -104179.85 \n",
       "3 702310.8   -378780.71  6923.0     ...  96715.46  105105.16   -86606.23 \n",
       "4 562095.1   -262583.96  4087.3     ... 105778.34   58731.03   -38891.89 \n",
       "5 440319.7    -46302.03  3912.0     ...  69522.24   47716.87    76346.72 \n",
       "6 144173.5   -349141.36   821.0     ...  29443.24   13557.54  -184854.21 \n",
       "  BudV.May.18 BudV.Jun.18 BudV.Jul.18 BudV.Aug.18 BudV.Sep.18 BudV.Oct.18\n",
       "1  33185.98    -6003.24    -8868.31    -3408.81    -6362.26    -10325.44 \n",
       "2 -68939.06    -2509.91   -63863.87   -29100.81   -43583.90    -29545.00 \n",
       "3 -35753.08    -8513.15   -72732.18   -32509.62   -49946.16    -39870.45 \n",
       "4   7458.96     6039.15   -25529.87   -31527.07   -35010.57   -116461.21 \n",
       "5  57973.14   -18384.32   -17452.04   -28368.82   -31314.57    -38156.75 \n",
       "6 -63420.15    -7689.37    -6690.66    -8658.27   -13818.11    -24836.90 \n",
       "  BudV.Nov.18\n",
       "1 -23559.91  \n",
       "2 -29289.94  \n",
       "3 -52849.84  \n",
       "4 -28661.46  \n",
       "5 -46945.38  \n",
       "6 -39173.69  "
      ]
     },
     "metadata": {},
     "output_type": "display_data"
    }
   ],
   "source": [
    "Sales=read.csv(\"Product Sales.csv\",header=T)\n",
    "head(Sales)"
   ]
  },
  {
   "cell_type": "code",
   "execution_count": 141,
   "metadata": {},
   "outputs": [
    {
     "data": {
      "text/plain": [
       "     Region         Product     Vol.Tot.18         Val.Tot.18      \n",
       " KAR    : 6   Butter    : 9   Min.   :    3.95   Min.   :    6507  \n",
       " KNK    : 6   Cup Curd  : 9   1st Qu.:  134.82   1st Qu.:  349106  \n",
       " KSK    : 6   DW        : 8   Median :  624.27   Median :  929250  \n",
       " KTOT   : 6   Ghee      :10   Mean   : 7403.31   Mean   : 4147503  \n",
       " TNCBE  : 6   Paneer    : 9   3rd Qu.: 5263.28   3rd Qu.: 5296092  \n",
       " TNMAD  : 6   Pouch Curd: 9   Max.   :80854.30   Max.   :32053886  \n",
       " (Other):18                                                        \n",
       "  Spend.Tot.18     S2Sales.Tot.18     SP.Tot.18        Bud.Tot.18     \n",
       " Min.   :      0   Min.   :0.0000   Min.   : -3.64   Min.   :      0  \n",
       " 1st Qu.:  49047   1st Qu.:0.0725   1st Qu.: 43.12   1st Qu.:  16999  \n",
       " Median : 133550   Median :0.1150   Median :215.56   Median :  62131  \n",
       " Mean   : 372821   Mean   :0.1878   Mean   :168.42   Mean   : 182070  \n",
       " 3rd Qu.: 552624   3rd Qu.:0.1700   3rd Qu.:239.71   3rd Qu.: 251282  \n",
       " Max.   :2588822   Max.   :1.1200   Max.   :396.18   Max.   :1455638  \n",
       "                                                                      \n",
       "  BudV.Tot.18        Vol.Apr.18         Vol.May.18        Vol.Jun.18      \n",
       " Min.   :-986128   Min.   :    0.30   Min.   :   0.47   Min.   :    0.90  \n",
       " 1st Qu.:-321926   1st Qu.:   21.14   1st Qu.:  13.91   1st Qu.:   17.38  \n",
       " Median : -54347   Median :   88.72   Median :  89.18   Median :   77.21  \n",
       " Mean   :-165300   Mean   : 1074.91   Mean   : 827.96   Mean   : 1069.09  \n",
       " 3rd Qu.: -10377   3rd Qu.:  876.03   3rd Qu.: 598.60   3rd Qu.:  563.14  \n",
       " Max.   : 136067   Max.   :10843.30   Max.   :8528.75   Max.   :15448.90  \n",
       "                   NA's   :2          NA's   :3         NA's   :3         \n",
       "   Vol.Jul.18        Vol.Aug.18         Vol.Sep.18         Vol.Oct18       \n",
       " Min.   :   0.13   Min.   :    0.05   Min.   :    0.20   Min.   :    0.19  \n",
       " 1st Qu.:  17.77   1st Qu.:   14.68   1st Qu.:   24.20   1st Qu.:   24.34  \n",
       " Median :  75.19   Median :   73.63   Median :   62.19   Median :   77.84  \n",
       " Mean   : 868.31   Mean   :  861.37   Mean   : 1062.08   Mean   : 1089.44  \n",
       " 3rd Qu.: 734.73   3rd Qu.:  867.35   3rd Qu.: 1081.59   3rd Qu.:  922.62  \n",
       " Max.   :9061.45   Max.   :10517.00   Max.   :10846.40   Max.   :11399.10  \n",
       " NA's   :4         NA's   :3          NA's   :7          NA's   :6         \n",
       "   Vol.Nov18          Val.Apr.18        Val.May.18        Val.Jun.18     \n",
       " Min.   :    0.50   Min.   :   2044   Min.   :   3950   Min.   :   1260  \n",
       " 1st Qu.:   27.23   1st Qu.:  65849   1st Qu.:  61375   1st Qu.:  56038  \n",
       " Median :   89.14   Median : 194628   Median : 162835   Median : 201595  \n",
       " Mean   : 1175.06   Mean   : 707760   Mean   : 564889   Mean   : 633018  \n",
       " 3rd Qu.: 1070.27   3rd Qu.: 903055   3rd Qu.: 831718   3rd Qu.: 737640  \n",
       " Max.   :19828.00   Max.   :4289319   Max.   :3412195   Max.   :5967519  \n",
       " NA's   :5          NA's   :2         NA's   :3         NA's   :3        \n",
       "   Val.Jul.18        Val.Aug.18        Val.Sep.18        Val.Oct.18     \n",
       " Min.   :   1205   Min.   :    422   Min.   :   1363   Min.   :   1363  \n",
       " 1st Qu.:  60998   1st Qu.:  49036   1st Qu.:  74466   1st Qu.:  71716  \n",
       " Median : 163742   Median : 168809   Median : 186727   Median : 189329  \n",
       " Mean   : 552273   Mean   : 509904   Mean   : 602764   Mean   : 617054  \n",
       " 3rd Qu.: 806829   3rd Qu.: 522327   3rd Qu.: 795867   3rd Qu.: 757890  \n",
       " Max.   :3574535   Max.   :4418076   Max.   :4342695   Max.   :4547182  \n",
       " NA's   :4         NA's   :3         NA's   :7         NA's   :6        \n",
       "   Val.Nov.18       Spend.Apr.18       Spend.May.18       Spend.Jun.18     \n",
       " Min.   :   4520   Min.   :   254.4   Min.   :   191.6   Min.   :    85.2  \n",
       " 1st Qu.: 106322   1st Qu.:  6433.8   1st Qu.:  5020.1   1st Qu.:  4997.1  \n",
       " Median : 271151   Median : 23258.7   Median : 10343.6   Median : 17946.9  \n",
       " Mean   : 643701   Mean   : 77668.9   Mean   : 49920.2   Mean   : 46140.9  \n",
       " 3rd Qu.: 688727   3rd Qu.: 98621.2   3rd Qu.: 85954.8   3rd Qu.: 56313.2  \n",
       " Max.   :8301395   Max.   :519112.6   Max.   :258203.2   Max.   :424120.8  \n",
       " NA's   :5         NA's   :9          NA's   :7          NA's   :6         \n",
       "  Spend.Jul.18     Spend.Aug.18        Spend.Sep.18       Spend.Oct.18     \n",
       " Min.   :   709   Min.   :    63.29   Min.   :   238.5   Min.   :   238.5  \n",
       " 1st Qu.:  6720   1st Qu.:  6455.16   1st Qu.:  7671.0   1st Qu.:  6768.6  \n",
       " Median : 24794   Median : 15726.63   Median : 24480.0   Median : 22670.1  \n",
       " Mean   : 57715   Mean   : 37026.70   Mean   : 52811.7   Mean   : 57734.8  \n",
       " 3rd Qu.: 64462   3rd Qu.: 61329.56   3rd Qu.: 85995.7   3rd Qu.: 83724.4  \n",
       " Max.   :523464   Max.   :219734.93   Max.   :341095.0   Max.   :405824.0  \n",
       " NA's   :12       NA's   :8           NA's   :7          NA's   :8         \n",
       "  Spend.Nov.18    S2Sales.Apr.18   S2Sales.May.18   S2Sales.Jun.18   \n",
       " Min.   :    39   Min.   :0.0000   Min.   :0.0000   Min.   :0.00000  \n",
       " 1st Qu.:  6254   1st Qu.:0.0650   1st Qu.:0.0650   1st Qu.:0.05000  \n",
       " Median : 41071   Median :0.0950   Median :0.1000   Median :0.08000  \n",
       " Mean   : 57367   Mean   :0.1179   Mean   :0.1135   Mean   :0.08412  \n",
       " 3rd Qu.: 82837   3rd Qu.:0.1500   3rd Qu.:0.1300   3rd Qu.:0.11500  \n",
       " Max.   :415000   Max.   :0.6100   Max.   :0.3800   Max.   :0.25000  \n",
       " NA's   :5        NA's   :2        NA's   :3        NA's   :3        \n",
       " S2Sales.Jul.18   S2Sales.Aug.18    S2Sales.Sep.18   S2Sales.Oct.18  \n",
       " Min.   :0.0000   Min.   :0.00000   Min.   :0.0100   Min.   :0.0000  \n",
       " 1st Qu.:0.0425   1st Qu.:0.05000   1st Qu.:0.0800   1st Qu.:0.0675  \n",
       " Median :0.0700   Median :0.08000   Median :0.1000   Median :0.1000  \n",
       " Mean   :0.0896   Mean   :0.08373   Mean   :0.1019   Mean   :0.1029  \n",
       " 3rd Qu.:0.1100   3rd Qu.:0.10000   3rd Qu.:0.1350   3rd Qu.:0.1325  \n",
       " Max.   :0.7100   Max.   :0.42000   Max.   :0.1900   Max.   :0.3800  \n",
       " NA's   :4        NA's   :3         NA's   :7        NA's   :6       \n",
       " S2Sales.Nov.18     SP.Apr.18        SP.May.18        SP.Jun.18     \n",
       " Min.   :0.0000   Min.   : 33.78   Min.   : 36.55   Min.   : 40.26  \n",
       " 1st Qu.:0.0800   1st Qu.: 71.75   1st Qu.: 67.00   1st Qu.: 81.01  \n",
       " Median :0.1200   Median :239.15   Median :242.47   Median :232.23  \n",
       " Mean   :0.1278   Mean   :212.41   Mean   :209.26   Mean   :208.44  \n",
       " 3rd Qu.:0.1600   3rd Qu.:309.78   3rd Qu.:308.10   3rd Qu.:297.12  \n",
       " Max.   :0.4200   Max.   :410.23   Max.   :424.85   Max.   :397.37  \n",
       " NA's   :5        NA's   :2        NA's   :3        NA's   :3       \n",
       "   SP.Jul.18        SP.Aug.18        SP.Sep.18    SP.Oct.18    SP.Nov.18 \n",
       " Min.   : 13.28   Min.   : 41.53          : 4          : 3   #DIV/0!: 3  \n",
       " 1st Qu.: 81.60   1st Qu.: 81.64   #DIV/0!: 3   #DIV/0!: 3          : 2  \n",
       " Median :237.48   Median :233.50   238.47 : 2   187.36 : 1   185.24 : 1  \n",
       " Mean   :212.03   Mean   :213.07   187.36 : 1   204.76 : 1   199.55 : 1  \n",
       " 3rd Qu.:314.70   3rd Qu.:320.77   197.39 : 1   214.76 : 1   211.00 : 1  \n",
       " Max.   :409.97   Max.   :414.66   209.22 : 1   225.87 : 1   219.25 : 1  \n",
       " NA's   :4        NA's   :3        (Other):42   (Other):44   (Other):45  \n",
       "   Bud.Apr.18       Bud.May.18       Bud.Jun.18       Bud.Jul.18    \n",
       " Min.   :     0   Min.   :     0   Min.   :     0   Min.   :     0  \n",
       " 1st Qu.:  2306   1st Qu.:  2011   1st Qu.:  2232   1st Qu.:  2185  \n",
       " Median :  7793   Median :  6495   Median :  6570   Median :  7392  \n",
       " Mean   : 30588   Mean   : 23991   Mean   : 27915   Mean   : 23778  \n",
       " 3rd Qu.: 44593   3rd Qu.: 35452   3rd Qu.: 32458   3rd Qu.: 29358  \n",
       " Max.   :214466   Max.   :168006   Max.   :298376   Max.   :178727  \n",
       "                                                                    \n",
       "   Bud.Aug.18       Bud.Sep.18       Bud.Oct.18       Bud.Nov.18    \n",
       " Min.   :     0   Min.   :     0   Min.   :     0   Min.   :     0  \n",
       " 1st Qu.:  1738   1st Qu.:  1045   1st Qu.:  1799   1st Qu.:  2304  \n",
       " Median :  7463   Median :  7316   Median :  7018   Median :  9987  \n",
       " Mean   : 22508   Mean   : 24731   Mean   : 26093   Mean   : 27916  \n",
       " 3rd Qu.: 23968   3rd Qu.: 26152   3rd Qu.: 29673   3rd Qu.: 31029  \n",
       " Max.   :220904   Max.   :217135   Max.   :227359   Max.   :415070  \n",
       "                                                                    \n",
       "  BudV.Apr.18       BudV.May.18         BudV.Jun.18       BudV.Jul.18       \n",
       " Min.   :-381311   Min.   :-146713.2   Min.   :-125745   Min.   :-344736.8  \n",
       " 1st Qu.: -38669   1st Qu.: -35283.0   1st Qu.: -13078   1st Qu.: -21492.9  \n",
       " Median :  -9739   Median :  -3744.8   Median :  -2961   Median :  -3911.2  \n",
       " Mean   : -34137   Mean   : -19457.6   Mean   : -13099   Mean   : -21111.5  \n",
       " 3rd Qu.:    -38   3rd Qu.:   -408.9   3rd Qu.:      0   3rd Qu.:     54.3  \n",
       " Max.   : 107604   Max.   :  57973.1   Max.   :  30339   Max.   :  45741.4  \n",
       "                                                                            \n",
       "  BudV.Aug.18        BudV.Sep.18         BudV.Oct.18         BudV.Nov.18     \n",
       " Min.   :-68165.0   Min.   :-135151.6   Min.   :-178464.9   Min.   :-115045  \n",
       " 1st Qu.:-19436.3   1st Qu.: -38801.7   1st Qu.: -29632.9   1st Qu.: -41311  \n",
       " Median : -4187.4   Median :  -7811.4   Median :  -7868.4   Median : -16275  \n",
       " Mean   : -9033.0   Mean   : -21234.7   Mean   : -23088.3   Mean   : -24139  \n",
       " 3rd Qu.:   170.4   3rd Qu.:   -191.8   3rd Qu.:   -236.9   3rd Qu.:   -649  \n",
       " Max.   :163774.2   Max.   :  26656.2   Max.   :   4604.6   Max.   :   8500  \n",
       "                                                                             "
      ]
     },
     "metadata": {},
     "output_type": "display_data"
    }
   ],
   "source": [
    "summary(Sales)"
   ]
  },
  {
   "cell_type": "code",
   "execution_count": 142,
   "metadata": {},
   "outputs": [
    {
     "data": {
      "text/html": [
       "<ol class=list-inline>\n",
       "\t<li>54</li>\n",
       "\t<li>65</li>\n",
       "</ol>\n"
      ],
      "text/latex": [
       "\\begin{enumerate*}\n",
       "\\item 54\n",
       "\\item 65\n",
       "\\end{enumerate*}\n"
      ],
      "text/markdown": [
       "1. 54\n",
       "2. 65\n",
       "\n",
       "\n"
      ],
      "text/plain": [
       "[1] 54 65"
      ]
     },
     "metadata": {},
     "output_type": "display_data"
    }
   ],
   "source": [
    "dim(Sales)"
   ]
  },
  {
   "cell_type": "code",
   "execution_count": 169,
   "metadata": {},
   "outputs": [],
   "source": [
    "SalesGhee=read.csv(\"Product Sales Ghee.csv\",header=T)\n",
    "fix(SalesGhee)"
   ]
  },
  {
   "cell_type": "code",
   "execution_count": 150,
   "metadata": {},
   "outputs": [
    {
     "data": {
      "text/html": [
       "<ol class=list-inline>\n",
       "\t<li>80</li>\n",
       "\t<li>4</li>\n",
       "</ol>\n"
      ],
      "text/latex": [
       "\\begin{enumerate*}\n",
       "\\item 80\n",
       "\\item 4\n",
       "\\end{enumerate*}\n"
      ],
      "text/markdown": [
       "1. 80\n",
       "2. 4\n",
       "\n",
       "\n"
      ],
      "text/plain": [
       "[1] 80  4"
      ]
     },
     "metadata": {},
     "output_type": "display_data"
    }
   ],
   "source": [
    "dim(SalesGhee)"
   ]
  },
  {
   "cell_type": "code",
   "execution_count": 177,
   "metadata": {},
   "outputs": [
    {
     "data": {
      "image/png": "[encoded data removed]",
      "text/plain": [
       "Plot with title \"Ghee  - Volume vs Spend(in Thousand Rs.) Across All Regions\""
      ]
     },
     "metadata": {},
     "output_type": "display_data"
    },
    {
     "data": {
      "image/png": "[encoded data removed]",
      "text/plain": [
       "Plot with title \"KTOTGhee  - Volume vs Spend\""
      ]
     },
     "metadata": {},
     "output_type": "display_data"
    },
    {
     "data": {
      "image/png": "[encoded data removed]",
      "text/plain": [
       "Plot with title \"TNTRGhee  - Volume vs Spend\""
      ]
     },
     "metadata": {},
     "output_type": "display_data"
    },
    {
     "data": {
      "image/png": "[encoded data removed]",
      "text/plain": [
       "Plot with title \"KAR Ghee  - Volume vs Spend\""
      ]
     },
     "metadata": {},
     "output_type": "display_data"
    }
   ],
   "source": [
    "plot(Spend/1000, Volume, col =\"red\", main=\"Ghee  - Volume vs Spend(in Thousand Rs.) Across All Regions\",xlab=\"Spend in Thousands\",ylab =\"Volume in number of units\",las=2)\n",
    "\n",
    "par(mfrow =c(2,3))\n",
    "data=subset(SalesGhee, Region==\"KNKGhee\")\n",
    "data=droplevels(data)\n",
    "plot(data$Spend, data$Volume, col =\"red\", main=\"KNKGhee  - Volume vs Spend\",xlab=\"Spend\",ylab =\"Volume in number of units\",las=2)\n",
    "\n",
    "data=subset(SalesGhee, Region==\"KSKGhee\")\n",
    "data=droplevels(data)\n",
    "plot(data$Spend, data$Volume, col =\"red\", main=\"KSKGhee  - Volume vs Spend\",xlab=\"Spend\",ylab =\"Volume in number of units\",las=2)\n",
    "\n",
    "data=subset(SalesGhee, Region==\"KTOTGhee\")\n",
    "data=droplevels(data)\n",
    "plot(data$Spend, data$Volume, col =\"red\", main=\"KTOTGhee  - Volume vs Spend\",xlab=\"Spend\",ylab =\"Volume in number of units\",las=2)\n",
    "\n",
    "par(mfrow =c(2,3))\n",
    "data=subset(SalesGhee, Region==\"TNCBEGhee\")\n",
    "data=droplevels(data)\n",
    "plot(data$Spend, data$Volume, col =\"red\", main=\"TNCBEGhee  - Volume vs Spend\",xlab=\"Spend\",ylab =\"Volume in number of units\",las=2)\n",
    "\n",
    "data=subset(SalesGhee, Region==\"TNMADGhee\")\n",
    "data=droplevels(data)\n",
    "plot(data$Spend, data$Volume, col =\"red\", main=\"TNMADGhee  - Volume vs Spend\",xlab=\"Spend\",ylab =\"Volume in number of units\",las=2)\n",
    "\n",
    "data=subset(SalesGhee, Region==\"TNTRGhee\")\n",
    "data=droplevels(data)\n",
    "plot(data$Spend, data$Volume, col =\"red\", main=\"TNTRGhee  - Volume vs Spend\",xlab=\"Spend\",ylab =\"Volume in number of units\",las=2)\n",
    "\n",
    "par(mfrow =c(2,3))\n",
    "data=subset(SalesGhee, Region==\"TNCHGhee\")\n",
    "data=droplevels(data)\n",
    "plot(data$Spend, data$Volume, col =\"red\", main=\"TNCHGhee  - Volume vs Spend\",xlab=\"Spend\",ylab =\"Volume in number of units\",las=2)\n",
    "\n",
    "data=subset(SalesGhee, Region==\"TNTOTGhee\")\n",
    "data=droplevels(data)\n",
    "plot(data$Spend, data$Volume, col =\"red\", main=\"TNTOTGhee  - Volume vs Spend\",xlab=\"Spend\",ylab =\"Volume in number of units\",las=2)\n",
    "\n",
    "data=subset(SalesGhee, Region==\"AP & TGGhee\")\n",
    "data=droplevels(data)\n",
    "plot(data$Spend, data$Volume, col =\"red\", main=\"AP & TGGhee  - Volume vs Spend\",xlab=\"Spend\",ylab =\"Volume in number of units\",las=2)\n",
    "\n",
    "\n",
    "data=subset(SalesGhee, Region==\"KAR Ghee\")\n",
    "data=droplevels(data)\n",
    "plot(data$Spend, data$Volume, col =\"red\", main=\"KAR Ghee  - Volume vs Spend\",xlab=\"Spend\",ylab =\"Volume in number of units\",las=2)\n",
    "\n",
    "\n",
    "\n",
    "\n"
   ]
  },
  {
   "cell_type": "code",
   "execution_count": 179,
   "metadata": {},
   "outputs": [
    {
     "data": {
      "image/png": "[encoded data removed]",
      "text/plain": [
       "Plot with title \"Jun-18 Ghee  - Volume vs Spend\""
      ]
     },
     "metadata": {},
     "output_type": "display_data"
    },
    {
     "data": {
      "image/png": "[encoded data removed]",
      "text/plain": [
       "Plot with title \"Sep-18 Ghee  - Volume vs Spend\""
      ]
     },
     "metadata": {},
     "output_type": "display_data"
    },
    {
     "data": {
      "image/png": "[encoded data removed]",
      "text/plain": [
       "Plot with title \"Nov-18 Ghee  - Volume vs Spend\""
      ]
     },
     "metadata": {},
     "output_type": "display_data"
    }
   ],
   "source": [
    "par(mfrow =c(2,3))\n",
    "data=subset(SalesGhee, Month==\"Apr-18\")\n",
    "data=droplevels(data)\n",
    "plot(data$Spend, data$Volume, col =\"red\", main=\"Apr-18 Ghee  - Volume vs Spend\",xlab=\"Spend\",ylab =\"Volume in number of units\",las=2)\n",
    "\n",
    "data=subset(SalesGhee, Month==\"May-18\")\n",
    "data=droplevels(data)\n",
    "plot(data$Spend, data$Volume, col =\"red\", main=\"May-18 Ghee  - Volume vs Spend\",xlab=\"Spend\",ylab =\"Volume in number of units\",las=2)\n",
    "\n",
    "data=subset(SalesGhee, Month==\"Jun-18\")\n",
    "data=droplevels(data)\n",
    "plot(data$Spend, data$Volume, col =\"red\", main=\"Jun-18 Ghee  - Volume vs Spend\",xlab=\"Spend\",ylab =\"Volume in number of units\",las=2)\n",
    "\n",
    "par(mfrow =c(2,3))\n",
    "data=subset(SalesGhee, Month==\"Jul-18\")\n",
    "data=droplevels(data)\n",
    "plot(data$Spend, data$Volume, col =\"red\", main=\"Jul-18 Ghee  - Volume vs Spend\",xlab=\"Spend\",ylab =\"Volume in number of units\",las=2)\n",
    "\n",
    "data=subset(SalesGhee, Month==\"Aug-18\")\n",
    "data=droplevels(data)\n",
    "plot(data$Spend, data$Volume, col =\"red\", main=\"Aug-18 Ghee  - Volume vs Spend\",xlab=\"Spend\",ylab =\"Volume in number of units\",las=2)\n",
    "\n",
    "data=subset(SalesGhee, Month==\"Sep-18\")\n",
    "data=droplevels(data)\n",
    "plot(data$Spend, data$Volume, col =\"red\", main=\"Sep-18 Ghee  - Volume vs Spend\",xlab=\"Spend\",ylab =\"Volume in number of units\",las=2)\n",
    "\n",
    "par(mfrow =c(2,3))\n",
    "data=subset(SalesGhee, Month==\"Oct-18\")\n",
    "data=droplevels(data)\n",
    "plot(data$Spend, data$Volume, col =\"red\", main=\"Oct-18 Ghee  - Volume vs Spend\",xlab=\"Spend\",ylab =\"Volume in number of units\",las=2)\n",
    "\n",
    "data=subset(SalesGhee, Month==\"Nov-18\")\n",
    "data=droplevels(data)\n",
    "plot(data$Spend, data$Volume, col =\"red\", main=\"Nov-18 Ghee  - Volume vs Spend\",xlab=\"Spend\",ylab =\"Volume in number of units\",las=2)\n",
    "\n"
   ]
  },
  {
   "cell_type": "code",
   "execution_count": 181,
   "metadata": {},
   "outputs": [
    {
     "data": {
      "text/html": [
       "<table>\n",
       "<thead><tr><th></th><th scope=col>Volume</th><th scope=col>Spend</th></tr></thead>\n",
       "<tbody>\n",
       "\t<tr><th scope=row>Volume</th><td>1.0000000</td><td>0.5778746</td></tr>\n",
       "\t<tr><th scope=row>Spend</th><td>0.5778746</td><td>1.0000000</td></tr>\n",
       "</tbody>\n",
       "</table>\n"
      ],
      "text/latex": [
       "\\begin{tabular}{r|ll}\n",
       "  & Volume & Spend\\\\\n",
       "\\hline\n",
       "\tVolume & 1.0000000 & 0.5778746\\\\\n",
       "\tSpend & 0.5778746 & 1.0000000\\\\\n",
       "\\end{tabular}\n"
      ],
      "text/markdown": [
       "\n",
       "| <!--/--> | Volume | Spend | \n",
       "|---|---|\n",
       "| Volume | 1.0000000 | 0.5778746 | \n",
       "| Spend | 0.5778746 | 1.0000000 | \n",
       "\n",
       "\n"
      ],
      "text/plain": [
       "       Volume    Spend    \n",
       "Volume 1.0000000 0.5778746\n",
       "Spend  0.5778746 1.0000000"
      ]
     },
     "metadata": {},
     "output_type": "display_data"
    }
   ],
   "source": [
    "cor(SalesGhee[3:4])"
   ]
  },
  {
   "cell_type": "code",
   "execution_count": 182,
   "metadata": {},
   "outputs": [
    {
     "data": {
      "image/png": "[encoded data removed]",
      "text/plain": [
       "plot without title"
      ]
     },
     "metadata": {},
     "output_type": "display_data"
    }
   ],
   "source": [
    "pairs(SalesGhee)"
   ]
  },
  {
   "cell_type": "code",
   "execution_count": 6,
   "metadata": {},
   "outputs": [
    {
     "data": {
      "text/plain": [
       "         Region       Month        Volume          Spend       \n",
       " AP & TGGhee: 8   Aug-18 :10   Min.   :  625   Min.   : 16677  \n",
       " KAR Ghee   : 8   Jul-18 :10   1st Qu.: 1865   1st Qu.: 52888  \n",
       " KSKGhee    : 8   Jun-18 :10   Median : 3120   Median : 87393  \n",
       " KTOTGhee   : 8   Nov-18 :10   Mean   : 4308   Mean   :117813  \n",
       " TNCBEGhee  : 8   Oct-18 :10   3rd Qu.: 5229   3rd Qu.:139396  \n",
       " TNTOTGhee  : 8   Sep-18 :10   Max.   :19828   Max.   :523464  \n",
       " (Other)    :27   (Other):15                                   "
      ]
     },
     "metadata": {},
     "output_type": "display_data"
    },
    {
     "data": {
      "image/png": "[encoded data removed]",
      "text/plain": [
       "Plot with title \"ALLGhee  - Volume vs Spend\""
      ]
     },
     "metadata": {},
     "output_type": "display_data"
    },
    {
     "data": {
      "text/plain": [
       "\n",
       "ORDINARY NONPARAMETRIC BOOTSTRAP\n",
       "\n",
       "\n",
       "Call:\n",
       "boot(data = SalesGhee, statistic = boot.fn, R = 1000)\n",
       "\n",
       "\n",
       "Bootstrap Statistics :\n",
       "        original        bias     std. error\n",
       "t1* 1.888747e+03 -1.728963e+01 5.707896e+02\n",
       "t2* 2.053641e-02  1.595424e-04 4.239582e-03"
      ]
     },
     "metadata": {},
     "output_type": "display_data"
    },
    {
     "data": {
      "text/plain": [
       "\n",
       "Call:\n",
       "lm(formula = SalesGhee$Volume ~ SalesGhee$Spend, data = SalesGhee)\n",
       "\n",
       "Residuals:\n",
       "    Min      1Q  Median      3Q     Max \n",
       "-6188.4 -1343.0  -719.0   303.3 16058.6 \n",
       "\n",
       "Coefficients:\n",
       "                 Estimate Std. Error t value Pr(>|t|)    \n",
       "(Intercept)     1.889e+03  5.347e+02   3.532 0.000718 ***\n",
       "SalesGhee$Spend 2.054e-02  3.486e-03   5.890 1.09e-07 ***\n",
       "---\n",
       "Signif. codes:  0 '***' 0.001 '**' 0.01 '*' 0.05 '.' 0.1 ' ' 1\n",
       "\n",
       "Residual standard error: 2965 on 73 degrees of freedom\n",
       "Multiple R-squared:  0.3222,\tAdjusted R-squared:  0.3129 \n",
       "F-statistic:  34.7 on 1 and 73 DF,  p-value: 1.094e-07\n"
      ]
     },
     "metadata": {},
     "output_type": "display_data"
    },
    {
     "name": "stderr",
     "output_type": "stream",
     "text": [
      "Warning message:\n",
      "\"'newdata' had 1 row but variables found have 75 rows\""
     ]
    },
    {
     "data": {
      "text/html": [
       "<table>\n",
       "<thead><tr><th></th><th scope=col>fit</th><th scope=col>lwr</th><th scope=col>upr</th></tr></thead>\n",
       "<tbody>\n",
       "\t<tr><th scope=row>1</th><td>2474.035</td><td>1551.758</td><td>3396.313</td></tr>\n",
       "\t<tr><th scope=row>2</th><td>2781.373</td><td>1925.601</td><td>3637.145</td></tr>\n",
       "\t<tr><th scope=row>3</th><td>2756.555</td><td>1895.688</td><td>3617.423</td></tr>\n",
       "\t<tr><th scope=row>4</th><td>2411.369</td><td>1474.694</td><td>3348.044</td></tr>\n",
       "\t<tr><th scope=row>5</th><td>2543.776</td><td>1637.208</td><td>3450.344</td></tr>\n",
       "\t<tr><th scope=row>6</th><td>2859.807</td><td>2019.788</td><td>3699.826</td></tr>\n",
       "\t<tr><th scope=row>7</th><td>3347.285</td><td>2591.518</td><td>4103.051</td></tr>\n",
       "\t<tr><th scope=row>8</th><td>5953.170</td><td>5072.689</td><td>6833.650</td></tr>\n",
       "\t<tr><th scope=row>9</th><td>4671.821</td><td>3978.555</td><td>5365.086</td></tr>\n",
       "\t<tr><th scope=row>10</th><td>2978.106</td><td>2160.790</td><td>3795.422</td></tr>\n",
       "\t<tr><th scope=row>11</th><td>4568.700</td><td>3880.768</td><td>5256.631</td></tr>\n",
       "\t<tr><th scope=row>12</th><td>3794.588</td><td>3090.543</td><td>4498.633</td></tr>\n",
       "\t<tr><th scope=row>13</th><td>4154.140</td><td>3469.890</td><td>4838.390</td></tr>\n",
       "\t<tr><th scope=row>14</th><td>3722.673</td><td>3012.231</td><td>4433.115</td></tr>\n",
       "\t<tr><th scope=row>15</th><td>3674.040</td><td>2958.835</td><td>4389.245</td></tr>\n",
       "\t<tr><th scope=row>16</th><td>6538.458</td><td>5521.161</td><td>7555.754</td></tr>\n",
       "\t<tr><th scope=row>17</th><td>4671.821</td><td>3978.555</td><td>5365.086</td></tr>\n",
       "\t<tr><th scope=row>18</th><td>3870.731</td><td>3172.599</td><td>4568.864</td></tr>\n",
       "\t<tr><th scope=row>19</th><td>5436.507</td><td>4654.703</td><td>6218.312</td></tr>\n",
       "\t<tr><th scope=row>20</th><td>4317.210</td><td>3634.941</td><td>4999.478</td></tr>\n",
       "\t<tr><th scope=row>21</th><td>4809.169</td><td>4106.167</td><td>5512.170</td></tr>\n",
       "\t<tr><th scope=row>22</th><td>4693.732</td><td>3999.113</td><td>5388.352</td></tr>\n",
       "\t<tr><th scope=row>23</th><td>5132.577</td><td>4395.502</td><td>5869.651</td></tr>\n",
       "\t<tr><th scope=row>24</th><td>4365.569</td><td>3683.031</td><td>5048.106</td></tr>\n",
       "\t<tr><th scope=row>25</th><td>3606.909</td><td>2884.565</td><td>4329.253</td></tr>\n",
       "\t<tr><th scope=row>26</th><td>3582.632</td><td>2857.548</td><td>4307.716</td></tr>\n",
       "\t<tr><th scope=row>27</th><td>3622.127</td><td>2901.458</td><td>4342.796</td></tr>\n",
       "\t<tr><th scope=row>28</th><td>3697.621</td><td>2984.769</td><td>4410.473</td></tr>\n",
       "\t<tr><th scope=row>29</th><td>4240.971</td><td>3558.330</td><td>4923.611</td></tr>\n",
       "\t<tr><th scope=row>30</th><td>6452.751</td><td>5456.774</td><td>7448.727</td></tr>\n",
       "\t<tr><th scope=row>...</th><td>...</td><td>...</td><td>...</td></tr>\n",
       "\t<tr><th scope=row>46</th><td> 6480.968</td><td>5478.015 </td><td> 7483.921</td></tr>\n",
       "\t<tr><th scope=row>47</th><td> 8995.413</td><td>7268.995 </td><td>10721.831</td></tr>\n",
       "\t<tr><th scope=row>48</th><td> 2231.233</td><td>1251.791 </td><td> 3210.674</td></tr>\n",
       "\t<tr><th scope=row>49</th><td> 2482.630</td><td>1562.307 </td><td> 3402.953</td></tr>\n",
       "\t<tr><th scope=row>50</th><td> 2332.853</td><td>1377.780 </td><td> 3287.926</td></tr>\n",
       "\t<tr><th scope=row>51</th><td> 2449.696</td><td>1521.857 </td><td> 3377.534</td></tr>\n",
       "\t<tr><th scope=row>52</th><td> 8502.276</td><td>6927.744 </td><td>10076.807</td></tr>\n",
       "\t<tr><th scope=row>53</th><td> 5193.406</td><td>4448.299 </td><td> 5938.513</td></tr>\n",
       "\t<tr><th scope=row>54</th><td>10598.668</td><td>8363.651 </td><td>12833.685</td></tr>\n",
       "\t<tr><th scope=row>55</th><td>12638.811</td><td>9738.808 </td><td>15538.814</td></tr>\n",
       "\t<tr><th scope=row>56</th><td> 6401.315</td><td>5417.945 </td><td> 7384.685</td></tr>\n",
       "\t<tr><th scope=row>57</th><td> 7446.350</td><td>6184.272 </td><td> 8708.429</td></tr>\n",
       "\t<tr><th scope=row>58</th><td>10222.916</td><td>8108.608 </td><td>12337.224</td></tr>\n",
       "\t<tr><th scope=row>59</th><td> 7271.358</td><td>6058.667 </td><td> 8484.048</td></tr>\n",
       "\t<tr><th scope=row>60</th><td> 5147.937</td><td>4408.880 </td><td> 5886.994</td></tr>\n",
       "\t<tr><th scope=row>61</th><td> 3358.495</td><td>2604.353 </td><td> 4112.637</td></tr>\n",
       "\t<tr><th scope=row>62</th><td> 3246.558</td><td>2475.517 </td><td> 4017.599</td></tr>\n",
       "\t<tr><th scope=row>63</th><td> 2890.298</td><td>2056.255 </td><td> 3724.341</td></tr>\n",
       "\t<tr><th scope=row>64</th><td> 2671.755</td><td>1793.096 </td><td> 3550.414</td></tr>\n",
       "\t<tr><th scope=row>65</th><td> 3563.776</td><td>2836.507 </td><td> 4291.044</td></tr>\n",
       "\t<tr><th scope=row>66</th><td> 3665.751</td><td>2949.700 </td><td> 4381.802</td></tr>\n",
       "\t<tr><th scope=row>67</th><td> 3769.411</td><td>3063.215 </td><td> 4475.606</td></tr>\n",
       "\t<tr><th scope=row>68</th><td> 5147.937</td><td>4408.880 </td><td> 5886.994</td></tr>\n",
       "\t<tr><th scope=row>69</th><td> 3358.495</td><td>2604.353 </td><td> 4112.637</td></tr>\n",
       "\t<tr><th scope=row>70</th><td> 3246.558</td><td>2475.517 </td><td> 4017.599</td></tr>\n",
       "\t<tr><th scope=row>71</th><td> 2890.298</td><td>2056.255 </td><td> 3724.341</td></tr>\n",
       "\t<tr><th scope=row>72</th><td> 2671.755</td><td>1793.096 </td><td> 3550.414</td></tr>\n",
       "\t<tr><th scope=row>73</th><td> 3563.776</td><td>2836.507 </td><td> 4291.044</td></tr>\n",
       "\t<tr><th scope=row>74</th><td> 3665.751</td><td>2949.700 </td><td> 4381.802</td></tr>\n",
       "\t<tr><th scope=row>75</th><td> 3769.411</td><td>3063.215 </td><td> 4475.606</td></tr>\n",
       "</tbody>\n",
       "</table>\n"
      ],
      "text/latex": [
       "\\begin{tabular}{r|lll}\n",
       "  & fit & lwr & upr\\\\\n",
       "\\hline\n",
       "\t1 & 2474.035 & 1551.758 & 3396.313\\\\\n",
       "\t2 & 2781.373 & 1925.601 & 3637.145\\\\\n",
       "\t3 & 2756.555 & 1895.688 & 3617.423\\\\\n",
       "\t4 & 2411.369 & 1474.694 & 3348.044\\\\\n",
       "\t5 & 2543.776 & 1637.208 & 3450.344\\\\\n",
       "\t6 & 2859.807 & 2019.788 & 3699.826\\\\\n",
       "\t7 & 3347.285 & 2591.518 & 4103.051\\\\\n",
       "\t8 & 5953.170 & 5072.689 & 6833.650\\\\\n",
       "\t9 & 4671.821 & 3978.555 & 5365.086\\\\\n",
       "\t10 & 2978.106 & 2160.790 & 3795.422\\\\\n",
       "\t11 & 4568.700 & 3880.768 & 5256.631\\\\\n",
       "\t12 & 3794.588 & 3090.543 & 4498.633\\\\\n",
       "\t13 & 4154.140 & 3469.890 & 4838.390\\\\\n",
       "\t14 & 3722.673 & 3012.231 & 4433.115\\\\\n",
       "\t15 & 3674.040 & 2958.835 & 4389.245\\\\\n",
       "\t16 & 6538.458 & 5521.161 & 7555.754\\\\\n",
       "\t17 & 4671.821 & 3978.555 & 5365.086\\\\\n",
       "\t18 & 3870.731 & 3172.599 & 4568.864\\\\\n",
       "\t19 & 5436.507 & 4654.703 & 6218.312\\\\\n",
       "\t20 & 4317.210 & 3634.941 & 4999.478\\\\\n",
       "\t21 & 4809.169 & 4106.167 & 5512.170\\\\\n",
       "\t22 & 4693.732 & 3999.113 & 5388.352\\\\\n",
       "\t23 & 5132.577 & 4395.502 & 5869.651\\\\\n",
       "\t24 & 4365.569 & 3683.031 & 5048.106\\\\\n",
       "\t25 & 3606.909 & 2884.565 & 4329.253\\\\\n",
       "\t26 & 3582.632 & 2857.548 & 4307.716\\\\\n",
       "\t27 & 3622.127 & 2901.458 & 4342.796\\\\\n",
       "\t28 & 3697.621 & 2984.769 & 4410.473\\\\\n",
       "\t29 & 4240.971 & 3558.330 & 4923.611\\\\\n",
       "\t30 & 6452.751 & 5456.774 & 7448.727\\\\\n",
       "\t... & ... & ... & ...\\\\\n",
       "\t46 &  6480.968 & 5478.015  &  7483.921\\\\\n",
       "\t47 &  8995.413 & 7268.995  & 10721.831\\\\\n",
       "\t48 &  2231.233 & 1251.791  &  3210.674\\\\\n",
       "\t49 &  2482.630 & 1562.307  &  3402.953\\\\\n",
       "\t50 &  2332.853 & 1377.780  &  3287.926\\\\\n",
       "\t51 &  2449.696 & 1521.857  &  3377.534\\\\\n",
       "\t52 &  8502.276 & 6927.744  & 10076.807\\\\\n",
       "\t53 &  5193.406 & 4448.299  &  5938.513\\\\\n",
       "\t54 & 10598.668 & 8363.651  & 12833.685\\\\\n",
       "\t55 & 12638.811 & 9738.808  & 15538.814\\\\\n",
       "\t56 &  6401.315 & 5417.945  &  7384.685\\\\\n",
       "\t57 &  7446.350 & 6184.272  &  8708.429\\\\\n",
       "\t58 & 10222.916 & 8108.608  & 12337.224\\\\\n",
       "\t59 &  7271.358 & 6058.667  &  8484.048\\\\\n",
       "\t60 &  5147.937 & 4408.880  &  5886.994\\\\\n",
       "\t61 &  3358.495 & 2604.353  &  4112.637\\\\\n",
       "\t62 &  3246.558 & 2475.517  &  4017.599\\\\\n",
       "\t63 &  2890.298 & 2056.255  &  3724.341\\\\\n",
       "\t64 &  2671.755 & 1793.096  &  3550.414\\\\\n",
       "\t65 &  3563.776 & 2836.507  &  4291.044\\\\\n",
       "\t66 &  3665.751 & 2949.700  &  4381.802\\\\\n",
       "\t67 &  3769.411 & 3063.215  &  4475.606\\\\\n",
       "\t68 &  5147.937 & 4408.880  &  5886.994\\\\\n",
       "\t69 &  3358.495 & 2604.353  &  4112.637\\\\\n",
       "\t70 &  3246.558 & 2475.517  &  4017.599\\\\\n",
       "\t71 &  2890.298 & 2056.255  &  3724.341\\\\\n",
       "\t72 &  2671.755 & 1793.096  &  3550.414\\\\\n",
       "\t73 &  3563.776 & 2836.507  &  4291.044\\\\\n",
       "\t74 &  3665.751 & 2949.700  &  4381.802\\\\\n",
       "\t75 &  3769.411 & 3063.215  &  4475.606\\\\\n",
       "\\end{tabular}\n"
      ],
      "text/markdown": [
       "\n",
       "| <!--/--> | fit | lwr | upr | \n",
       "|---|---|---|---|---|---|---|---|---|---|---|---|---|---|---|---|---|---|---|---|---|---|---|---|---|---|---|---|---|---|---|---|---|---|---|---|---|---|---|---|---|---|---|---|---|---|---|---|---|---|---|---|---|---|---|---|---|---|---|---|---|\n",
       "| 1 | 2474.035 | 1551.758 | 3396.313 | \n",
       "| 2 | 2781.373 | 1925.601 | 3637.145 | \n",
       "| 3 | 2756.555 | 1895.688 | 3617.423 | \n",
       "| 4 | 2411.369 | 1474.694 | 3348.044 | \n",
       "| 5 | 2543.776 | 1637.208 | 3450.344 | \n",
       "| 6 | 2859.807 | 2019.788 | 3699.826 | \n",
       "| 7 | 3347.285 | 2591.518 | 4103.051 | \n",
       "| 8 | 5953.170 | 5072.689 | 6833.650 | \n",
       "| 9 | 4671.821 | 3978.555 | 5365.086 | \n",
       "| 10 | 2978.106 | 2160.790 | 3795.422 | \n",
       "| 11 | 4568.700 | 3880.768 | 5256.631 | \n",
       "| 12 | 3794.588 | 3090.543 | 4498.633 | \n",
       "| 13 | 4154.140 | 3469.890 | 4838.390 | \n",
       "| 14 | 3722.673 | 3012.231 | 4433.115 | \n",
       "| 15 | 3674.040 | 2958.835 | 4389.245 | \n",
       "| 16 | 6538.458 | 5521.161 | 7555.754 | \n",
       "| 17 | 4671.821 | 3978.555 | 5365.086 | \n",
       "| 18 | 3870.731 | 3172.599 | 4568.864 | \n",
       "| 19 | 5436.507 | 4654.703 | 6218.312 | \n",
       "| 20 | 4317.210 | 3634.941 | 4999.478 | \n",
       "| 21 | 4809.169 | 4106.167 | 5512.170 | \n",
       "| 22 | 4693.732 | 3999.113 | 5388.352 | \n",
       "| 23 | 5132.577 | 4395.502 | 5869.651 | \n",
       "| 24 | 4365.569 | 3683.031 | 5048.106 | \n",
       "| 25 | 3606.909 | 2884.565 | 4329.253 | \n",
       "| 26 | 3582.632 | 2857.548 | 4307.716 | \n",
       "| 27 | 3622.127 | 2901.458 | 4342.796 | \n",
       "| 28 | 3697.621 | 2984.769 | 4410.473 | \n",
       "| 29 | 4240.971 | 3558.330 | 4923.611 | \n",
       "| 30 | 6452.751 | 5456.774 | 7448.727 | \n",
       "| ... | ... | ... | ... | \n",
       "| 46 |  6480.968 | 5478.015  |  7483.921 | \n",
       "| 47 |  8995.413 | 7268.995  | 10721.831 | \n",
       "| 48 |  2231.233 | 1251.791  |  3210.674 | \n",
       "| 49 |  2482.630 | 1562.307  |  3402.953 | \n",
       "| 50 |  2332.853 | 1377.780  |  3287.926 | \n",
       "| 51 |  2449.696 | 1521.857  |  3377.534 | \n",
       "| 52 |  8502.276 | 6927.744  | 10076.807 | \n",
       "| 53 |  5193.406 | 4448.299  |  5938.513 | \n",
       "| 54 | 10598.668 | 8363.651  | 12833.685 | \n",
       "| 55 | 12638.811 | 9738.808  | 15538.814 | \n",
       "| 56 |  6401.315 | 5417.945  |  7384.685 | \n",
       "| 57 |  7446.350 | 6184.272  |  8708.429 | \n",
       "| 58 | 10222.916 | 8108.608  | 12337.224 | \n",
       "| 59 |  7271.358 | 6058.667  |  8484.048 | \n",
       "| 60 |  5147.937 | 4408.880  |  5886.994 | \n",
       "| 61 |  3358.495 | 2604.353  |  4112.637 | \n",
       "| 62 |  3246.558 | 2475.517  |  4017.599 | \n",
       "| 63 |  2890.298 | 2056.255  |  3724.341 | \n",
       "| 64 |  2671.755 | 1793.096  |  3550.414 | \n",
       "| 65 |  3563.776 | 2836.507  |  4291.044 | \n",
       "| 66 |  3665.751 | 2949.700  |  4381.802 | \n",
       "| 67 |  3769.411 | 3063.215  |  4475.606 | \n",
       "| 68 |  5147.937 | 4408.880  |  5886.994 | \n",
       "| 69 |  3358.495 | 2604.353  |  4112.637 | \n",
       "| 70 |  3246.558 | 2475.517  |  4017.599 | \n",
       "| 71 |  2890.298 | 2056.255  |  3724.341 | \n",
       "| 72 |  2671.755 | 1793.096  |  3550.414 | \n",
       "| 73 |  3563.776 | 2836.507  |  4291.044 | \n",
       "| 74 |  3665.751 | 2949.700  |  4381.802 | \n",
       "| 75 |  3769.411 | 3063.215  |  4475.606 | \n",
       "\n",
       "\n"
      ],
      "text/plain": [
       "    fit       lwr      upr      \n",
       "1   2474.035  1551.758 3396.313 \n",
       "2   2781.373  1925.601 3637.145 \n",
       "3   2756.555  1895.688 3617.423 \n",
       "4   2411.369  1474.694 3348.044 \n",
       "5   2543.776  1637.208 3450.344 \n",
       "6   2859.807  2019.788 3699.826 \n",
       "7   3347.285  2591.518 4103.051 \n",
       "8   5953.170  5072.689 6833.650 \n",
       "9   4671.821  3978.555 5365.086 \n",
       "10  2978.106  2160.790 3795.422 \n",
       "11  4568.700  3880.768 5256.631 \n",
       "12  3794.588  3090.543 4498.633 \n",
       "13  4154.140  3469.890 4838.390 \n",
       "14  3722.673  3012.231 4433.115 \n",
       "15  3674.040  2958.835 4389.245 \n",
       "16  6538.458  5521.161 7555.754 \n",
       "17  4671.821  3978.555 5365.086 \n",
       "18  3870.731  3172.599 4568.864 \n",
       "19  5436.507  4654.703 6218.312 \n",
       "20  4317.210  3634.941 4999.478 \n",
       "21  4809.169  4106.167 5512.170 \n",
       "22  4693.732  3999.113 5388.352 \n",
       "23  5132.577  4395.502 5869.651 \n",
       "24  4365.569  3683.031 5048.106 \n",
       "25  3606.909  2884.565 4329.253 \n",
       "26  3582.632  2857.548 4307.716 \n",
       "27  3622.127  2901.458 4342.796 \n",
       "28  3697.621  2984.769 4410.473 \n",
       "29  4240.971  3558.330 4923.611 \n",
       "30  6452.751  5456.774 7448.727 \n",
       "... ...       ...      ...      \n",
       "46   6480.968 5478.015  7483.921\n",
       "47   8995.413 7268.995 10721.831\n",
       "48   2231.233 1251.791  3210.674\n",
       "49   2482.630 1562.307  3402.953\n",
       "50   2332.853 1377.780  3287.926\n",
       "51   2449.696 1521.857  3377.534\n",
       "52   8502.276 6927.744 10076.807\n",
       "53   5193.406 4448.299  5938.513\n",
       "54  10598.668 8363.651 12833.685\n",
       "55  12638.811 9738.808 15538.814\n",
       "56   6401.315 5417.945  7384.685\n",
       "57   7446.350 6184.272  8708.429\n",
       "58  10222.916 8108.608 12337.224\n",
       "59   7271.358 6058.667  8484.048\n",
       "60   5147.937 4408.880  5886.994\n",
       "61   3358.495 2604.353  4112.637\n",
       "62   3246.558 2475.517  4017.599\n",
       "63   2890.298 2056.255  3724.341\n",
       "64   2671.755 1793.096  3550.414\n",
       "65   3563.776 2836.507  4291.044\n",
       "66   3665.751 2949.700  4381.802\n",
       "67   3769.411 3063.215  4475.606\n",
       "68   5147.937 4408.880  5886.994\n",
       "69   3358.495 2604.353  4112.637\n",
       "70   3246.558 2475.517  4017.599\n",
       "71   2890.298 2056.255  3724.341\n",
       "72   2671.755 1793.096  3550.414\n",
       "73   3563.776 2836.507  4291.044\n",
       "74   3665.751 2949.700  4381.802\n",
       "75   3769.411 3063.215  4475.606"
      ]
     },
     "metadata": {},
     "output_type": "display_data"
    },
    {
     "data": {
      "text/html": [
       "523464"
      ],
      "text/latex": [
       "523464"
      ],
      "text/markdown": [
       "523464"
      ],
      "text/plain": [
       "[1] 523464"
      ]
     },
     "metadata": {},
     "output_type": "display_data"
    },
    {
     "data": {
      "text/html": [
       "12638.81832424"
      ],
      "text/latex": [
       "12638.81832424"
      ],
      "text/markdown": [
       "12638.81832424"
      ],
      "text/plain": [
       "[1] 12638.82"
      ]
     },
     "metadata": {},
     "output_type": "display_data"
    },
    {
     "data": {
      "image/png": "[encoded data removed]",
      "text/plain": [
       "Plot with title \"\""
      ]
     },
     "metadata": {},
     "output_type": "display_data"
    }
   ],
   "source": [
    "boot.fn=function (data ,index )\n",
    "    return (coef(lm(data$Volume∼data$Spend ,data=data ,subset =index)))\n",
    "\n",
    "SalesGhee=read.csv(\"Product Sales Ghee.csv\",header=T)\n",
    "\n",
    "fix(SalesGhee)\n",
    "summary(SalesGhee)\n",
    "\n",
    "lm.fitALLGhee=lm(SalesGhee$Volume~SalesGhee$Spend,data=SalesGhee)\n",
    "\n",
    "plot(SalesGhee$Spend, SalesGhee$Volume, col =\"red\", main=\"ALLGhee  - Volume vs Spend\",xlab=\"Spend\",ylab =\"Volume in number of units\",las=2)\n",
    "abline(lm.fitALLGhee)\n",
    "\n",
    "par(mfrow = c(2,2))\n",
    "plot(lm.fitALLGhee)\n",
    "\n",
    "library(boot)\n",
    "boot(SalesGhee ,boot.fn ,1000)\n",
    "summary(lm.fitALLGhee)\n",
    "\n",
    "predict(lm.fitALLGhee,subset=-train, type=\"response\")\n",
    "\n",
    "testSpend=523464\n",
    "predictedVolume = 1888.747 + 0.02053641 * testSpend\n",
    "testSpend\n",
    "predictedVolume\n"
   ]
  },
  {
   "cell_type": "code",
   "execution_count": 96,
   "metadata": {},
   "outputs": [
    {
     "data": {
      "text/plain": [
       "     Region      Month       Volume         Spend       \n",
       " KSKGhee:8   Apr-18 :1   Min.   :2468   Min.   : 53045  \n",
       "             Aug-18 :1   1st Qu.:2996   1st Qu.: 88709  \n",
       "             Jul-18 :1   Median :3202   Median :101557  \n",
       "             Jun-18 :1   Mean   :3261   Mean   :112040  \n",
       "             May-18 :1   3rd Qu.:3389   3rd Qu.:131753  \n",
       "             Nov-18 :1   Max.   :4541   Max.   :197913  \n",
       "             (Other):2                                  "
      ]
     },
     "metadata": {},
     "output_type": "display_data"
    },
    {
     "data": {
      "text/plain": [
       "\n",
       "Call:\n",
       "lm(formula = x$Volume ~ x$Spend, data = x)\n",
       "\n",
       "Residuals:\n",
       "    Min      1Q  Median      3Q     Max \n",
       "-226.35 -118.84   54.61  117.24  136.05 \n",
       "\n",
       "Coefficients:\n",
       "             Estimate Std. Error t value Pr(>|t|)    \n",
       "(Intercept) 1.744e+03  1.588e+02   10.98 3.39e-05 ***\n",
       "x$Spend     1.354e-02  1.332e-03   10.16 5.28e-05 ***\n",
       "---\n",
       "Signif. codes:  0 '***' 0.001 '**' 0.01 '*' 0.05 '.' 0.1 ' ' 1\n",
       "\n",
       "Residual standard error: 153.5 on 6 degrees of freedom\n",
       "Multiple R-squared:  0.9451,\tAdjusted R-squared:  0.936 \n",
       "F-statistic: 103.3 on 1 and 6 DF,  p-value: 5.276e-05\n"
      ]
     },
     "metadata": {},
     "output_type": "display_data"
    },
    {
     "data": {
      "image/png": "[encoded data removed]",
      "text/plain": [
       "Plot with title \"KSKGhee  - Volume vs Spend\""
      ]
     },
     "metadata": {},
     "output_type": "display_data"
    },
    {
     "data": {
      "text/plain": [
       "\n",
       "ORDINARY NONPARAMETRIC BOOTSTRAP\n",
       "\n",
       "\n",
       "Call:\n",
       "boot(data = x, statistic = boot.fn, R = 1000)\n",
       "\n",
       "\n",
       "Bootstrap Statistics :\n",
       "        original        bias     std. error\n",
       "t1* 1743.9448263 59.6489481694 1.996248e+02\n",
       "t2*    0.0135436 -0.0005969724 1.901706e-03"
      ]
     },
     "metadata": {},
     "output_type": "display_data"
    },
    {
     "data": {
      "text/plain": [
       "\n",
       "Call:\n",
       "lm(formula = x$Volume ~ x$Spend, data = x)\n",
       "\n",
       "Residuals:\n",
       "    Min      1Q  Median      3Q     Max \n",
       "-226.35 -118.84   54.61  117.24  136.05 \n",
       "\n",
       "Coefficients:\n",
       "             Estimate Std. Error t value Pr(>|t|)    \n",
       "(Intercept) 1.744e+03  1.588e+02   10.98 3.39e-05 ***\n",
       "x$Spend     1.354e-02  1.332e-03   10.16 5.28e-05 ***\n",
       "---\n",
       "Signif. codes:  0 '***' 0.001 '**' 0.01 '*' 0.05 '.' 0.1 ' ' 1\n",
       "\n",
       "Residual standard error: 153.5 on 6 degrees of freedom\n",
       "Multiple R-squared:  0.9451,\tAdjusted R-squared:  0.936 \n",
       "F-statistic: 103.3 on 1 and 6 DF,  p-value: 5.276e-05\n"
      ]
     },
     "metadata": {},
     "output_type": "display_data"
    },
    {
     "data": {
      "text/html": [
       "3e+05"
      ],
      "text/latex": [
       "3e+05"
      ],
      "text/markdown": [
       "3e+05"
      ],
      "text/plain": [
       "[1] 3e+05"
      ]
     },
     "metadata": {},
     "output_type": "display_data"
    },
    {
     "data": {
      "text/html": [
       "5807.0248263"
      ],
      "text/latex": [
       "5807.0248263"
      ],
      "text/markdown": [
       "5807.0248263"
      ],
      "text/plain": [
       "[1] 5807.025"
      ]
     },
     "metadata": {},
     "output_type": "display_data"
    },
    {
     "data": {
      "image/png": "[encoded data removed]",
      "text/plain": [
       "Plot with title \"\""
      ]
     },
     "metadata": {},
     "output_type": "display_data"
    }
   ],
   "source": [
    "x=subset(SalesGhee, Region==\"KSKGhee\")\n",
    "x=droplevels(x)\n",
    "fix(x)\n",
    "\n",
    "summary(x)\n",
    "\n",
    "lm.fitKSKGhee=lm(x$Volume~x$Spend,data=x)\n",
    "summary(lm.fitKSKGhee)\n",
    "\n",
    "plot(x$Spend, x$Volume, col =\"red\", main=\"KSKGhee  - Volume vs Spend\",xlab=\"Spend\",ylab =\"Volume in number of units\",las=2)\n",
    "abline(lm.fitKSKGhee)\n",
    "\n",
    "par(mfrow = c(2,2))\n",
    "plot(lm.fitKSKGhee)\n",
    "\n",
    "library(boot)\n",
    "boot(x ,boot.fn ,1000)\n",
    "\n",
    "summary(lm.fitKSKGhee)\n",
    "\n",
    "testSpend=300000\n",
    "\n",
    "predictedVolume = 1743.9448263 + 0.0135436 * testSpend\n",
    "\n",
    "testSpend\n",
    "predictedVolume\n"
   ]
  },
  {
   "cell_type": "code",
   "execution_count": null,
   "metadata": {},
   "outputs": [],
   "source": [
    "\n"
   ]
  },
  {
   "cell_type": "code",
   "execution_count": 47,
   "metadata": {},
   "outputs": [
    {
     "data": {
      "text/html": [
       "<dl class=dl-horizontal>\n",
       "\t<dt>(Intercept)</dt>\n",
       "\t\t<dd>3261.375</dd>\n",
       "\t<dt>x$Spend</dt>\n",
       "\t\t<dd>1962.03158345651</dd>\n",
       "</dl>\n"
      ],
      "text/latex": [
       "\\begin{description*}\n",
       "\\item[(Intercept)] 3261.375\n",
       "\\item[x\\textbackslash{}\\$Spend] 1962.03158345651\n",
       "\\end{description*}\n"
      ],
      "text/markdown": [
       "(Intercept)\n",
       ":   3261.375x$Spend\n",
       ":   1962.03158345651\n",
       "\n"
      ],
      "text/plain": [
       "(Intercept)     x$Spend \n",
       "   3261.375    1962.032 "
      ]
     },
     "metadata": {},
     "output_type": "display_data"
    }
   ],
   "source": [
    "\n",
    "\n",
    "boot.fn(x ,1:8)"
   ]
  },
  {
   "cell_type": "code",
   "execution_count": 48,
   "metadata": {},
   "outputs": [
    {
     "data": {
      "text/html": [
       "<dl class=dl-horizontal>\n",
       "\t<dt>(Intercept)</dt>\n",
       "\t\t<dd>3220.41936639841</dd>\n",
       "\t<dt>x$Spend</dt>\n",
       "\t\t<dd>1871.85307502677</dd>\n",
       "</dl>\n"
      ],
      "text/latex": [
       "\\begin{description*}\n",
       "\\item[(Intercept)] 3220.41936639841\n",
       "\\item[x\\textbackslash{}\\$Spend] 1871.85307502677\n",
       "\\end{description*}\n"
      ],
      "text/markdown": [
       "(Intercept)\n",
       ":   3220.41936639841x$Spend\n",
       ":   1871.85307502677\n",
       "\n"
      ],
      "text/plain": [
       "(Intercept)     x$Spend \n",
       "   3220.419    1871.853 "
      ]
     },
     "metadata": {},
     "output_type": "display_data"
    }
   ],
   "source": [
    "set.seed(1)\n",
    "boot.fn(x ,sample (8 ,8 , replace =T))"
   ]
  },
  {
   "cell_type": "code",
   "execution_count": null,
   "metadata": {},
   "outputs": [],
   "source": []
  },
  {
   "cell_type": "code",
   "execution_count": 97,
   "metadata": {},
   "outputs": [
    {
     "data": {
      "text/plain": [
       "\n",
       "Call:\n",
       "lm(formula = x$Volume ~ x$Spend, data = x)\n",
       "\n",
       "Residuals:\n",
       "    Min      1Q  Median      3Q     Max \n",
       "-525.21 -278.56   74.05  309.19  334.01 \n",
       "\n",
       "Coefficients:\n",
       "             Estimate Std. Error t value Pr(>|t|)   \n",
       "(Intercept) 2.289e+03  5.247e+02   4.363  0.00475 **\n",
       "x$Spend     1.910e-02  3.436e-03   5.559  0.00143 **\n",
       "---\n",
       "Signif. codes:  0 '***' 0.001 '**' 0.01 '*' 0.05 '.' 0.1 ' ' 1\n",
       "\n",
       "Residual standard error: 355.7 on 6 degrees of freedom\n",
       "Multiple R-squared:  0.8374,\tAdjusted R-squared:  0.8103 \n",
       "F-statistic:  30.9 on 1 and 6 DF,  p-value: 0.001434\n"
      ]
     },
     "metadata": {},
     "output_type": "display_data"
    },
    {
     "data": {
      "image/png": "[encoded data removed]",
      "text/plain": [
       "Plot with title \"KTOTGhee  - Volume vs Spend\""
      ]
     },
     "metadata": {},
     "output_type": "display_data"
    },
    {
     "data": {
      "text/plain": [
       "\n",
       "ORDINARY NONPARAMETRIC BOOTSTRAP\n",
       "\n",
       "\n",
       "Call:\n",
       "boot(data = x, statistic = boot.fn, R = 1000)\n",
       "\n",
       "\n",
       "Bootstrap Statistics :\n",
       "        original        bias     std. error\n",
       "t1* 2.289497e+03 176.078563480 6.990245e+02\n",
       "t2* 1.910056e-02  -0.001400306 4.978165e-03"
      ]
     },
     "metadata": {},
     "output_type": "display_data"
    },
    {
     "data": {
      "text/html": [
       "3e+05"
      ],
      "text/latex": [
       "3e+05"
      ],
      "text/markdown": [
       "3e+05"
      ],
      "text/plain": [
       "[1] 3e+05"
      ]
     },
     "metadata": {},
     "output_type": "display_data"
    },
    {
     "data": {
      "text/html": [
       "8019.665"
      ],
      "text/latex": [
       "8019.665"
      ],
      "text/markdown": [
       "8019.665"
      ],
      "text/plain": [
       "[1] 8019.665"
      ]
     },
     "metadata": {},
     "output_type": "display_data"
    },
    {
     "data": {
      "image/png": "[encoded data removed]",
      "text/plain": [
       "Plot with title \"\""
      ]
     },
     "metadata": {},
     "output_type": "display_data"
    }
   ],
   "source": [
    "x=subset(SalesGhee, Region==\"KTOTGhee\")\n",
    "x=droplevels(x)\n",
    "\n",
    "fix(x)\n",
    "\n",
    "lm.fitKTOTGhee=lm(x$Volume~x$Spend,data=x)\n",
    "summary(lm.fitKTOTGhee)\n",
    "\n",
    "plot(x$Spend, x$Volume, col =\"red\", main=\"KTOTGhee  - Volume vs Spend\",xlab=\"Spend\",ylab =\"Volume in number of units\",las=2)\n",
    "abline(lm.fitKTOTGhee)\n",
    "\n",
    "par(mfrow=c(2,2))\n",
    "plot(lm.fitKTOTGhee)\n",
    "\n",
    "library(boot)\n",
    "boot(x ,boot.fn ,1000)\n",
    "\n",
    "testSpend=300000\n",
    "\n",
    "predictedVolume = 2289.497 + 0.01910056 * testSpend\n",
    "\n",
    "testSpend\n",
    "predictedVolume\n",
    "\n"
   ]
  },
  {
   "cell_type": "code",
   "execution_count": 98,
   "metadata": {},
   "outputs": [
    {
     "data": {
      "image/png": "[encoded data removed]",
      "text/plain": [
       "Plot with title \"KARGhee  - Volume vs Spend\""
      ]
     },
     "metadata": {},
     "output_type": "display_data"
    },
    {
     "data": {
      "text/plain": [
       "\n",
       "Call:\n",
       "lm(formula = x$Volume ~ x$Spend, data = x)\n",
       "\n",
       "Residuals:\n",
       "     Min       1Q   Median       3Q      Max \n",
       "-1143.29   -84.27   186.29   301.25   576.81 \n",
       "\n",
       "Coefficients:\n",
       "              Estimate Std. Error t value Pr(>|t|)   \n",
       "(Intercept) -2.825e+02  5.514e+02  -0.512  0.62669   \n",
       "x$Spend      2.925e-02  6.313e-03   4.633  0.00357 **\n",
       "---\n",
       "Signif. codes:  0 '***' 0.001 '**' 0.01 '*' 0.05 '.' 0.1 ' ' 1\n",
       "\n",
       "Residual standard error: 610.9 on 6 degrees of freedom\n",
       "Multiple R-squared:  0.7816,\tAdjusted R-squared:  0.7452 \n",
       "F-statistic: 21.47 on 1 and 6 DF,  p-value: 0.003565\n"
      ]
     },
     "metadata": {},
     "output_type": "display_data"
    },
    {
     "data": {
      "text/plain": [
       "\n",
       "ORDINARY NONPARAMETRIC BOOTSTRAP\n",
       "\n",
       "\n",
       "Call:\n",
       "boot(data = x, statistic = boot.fn, R = 1000)\n",
       "\n",
       "\n",
       "Bootstrap Statistics :\n",
       "         original        bias     std. error\n",
       "t1* -282.54972287 432.380758480 1.083160e+03\n",
       "t2*    0.02925015  -0.006451927 1.490373e-02"
      ]
     },
     "metadata": {},
     "output_type": "display_data"
    },
    {
     "data": {
      "text/html": [
       "3e+05"
      ],
      "text/latex": [
       "3e+05"
      ],
      "text/markdown": [
       "3e+05"
      ],
      "text/plain": [
       "[1] 3e+05"
      ]
     },
     "metadata": {},
     "output_type": "display_data"
    },
    {
     "data": {
      "text/html": [
       "8492.49527713"
      ],
      "text/latex": [
       "8492.49527713"
      ],
      "text/markdown": [
       "8492.49527713"
      ],
      "text/plain": [
       "[1] 8492.495"
      ]
     },
     "metadata": {},
     "output_type": "display_data"
    },
    {
     "data": {
      "image/png": "[encoded data removed]",
      "text/plain": [
       "Plot with title \"\""
      ]
     },
     "metadata": {},
     "output_type": "display_data"
    }
   ],
   "source": [
    "x=subset(SalesGhee, Region==\"KAR Ghee\")\n",
    "x=droplevels(x)\n",
    "\n",
    "fix(x)\n",
    "\n",
    "lm.fitKARGhee=lm(x$Volume~x$Spend,data=x)\n",
    "\n",
    "plot(x$Spend, x$Volume, col =\"red\", main=\"KARGhee  - Volume vs Spend\",xlab=\"Spend\",ylab =\"Volume in number of units\",las=2)\n",
    "abline(lm.fitKARGhee)\n",
    "\n",
    "par(mfrow=c(2,2))\n",
    "plot(lm.fitKARGhee)\n",
    "\n",
    "summary(lm.fitKARGhee)\n",
    "\n",
    "boot(x ,boot.fn ,1000)\n",
    "\n",
    "testSpend=300000\n",
    "predictedVolume = -282.54972287  + 0.02925015 * testSpend\n",
    "\n",
    "testSpend\n",
    "predictedVolume\n"
   ]
  },
  {
   "cell_type": "code",
   "execution_count": 9,
   "metadata": {},
   "outputs": [
    {
     "data": {
      "text/plain": [
       "       Region       Month        Volume          Spend       \n",
       " KAR Ghee : 8   Aug-18 :10   Min.   :  625   Min.   : 16677  \n",
       " KSKGhee  : 8   Jun-18 :10   1st Qu.: 1778   1st Qu.: 51741  \n",
       " KTOTGhee : 8   Sep-18 :10   Median : 3064   Median : 87163  \n",
       " TNCBEGhee: 8   Jul-18 : 9   Mean   : 3937   Mean   :112978  \n",
       " TNTRGhee : 8   Nov-18 : 9   3rd Qu.: 5022   3rd Qu.:137991  \n",
       " KNKGhee  : 7   Oct-18 : 9   Max.   :15449   Max.   :424121  \n",
       " (Other)  :25   (Other):15                                   "
      ]
     },
     "metadata": {},
     "output_type": "display_data"
    },
    {
     "data": {
      "image/png": "[encoded data removed]",
      "text/plain": [
       "Plot with title \"ALLGhee  - Volume vs Spend\""
      ]
     },
     "metadata": {},
     "output_type": "display_data"
    },
    {
     "data": {
      "text/plain": [
       "\n",
       "Call:\n",
       "lm(formula = SalesGhee$Volume ~ SalesGhee$Spend, subset = train)\n",
       "\n",
       "Residuals:\n",
       "    Min      1Q  Median      3Q     Max \n",
       "-1218.7  -516.2  -107.2   149.5  2087.9 \n",
       "\n",
       "Coefficients:\n",
       "                 Estimate Std. Error t value Pr(>|t|)    \n",
       "(Intercept)     7.747e+02  2.294e+02   3.377  0.00185 ** \n",
       "SalesGhee$Spend 2.490e-02  2.011e-03  12.383 3.75e-14 ***\n",
       "---\n",
       "Signif. codes:  0 '***' 0.001 '**' 0.01 '*' 0.05 '.' 0.1 ' ' 1\n",
       "\n",
       "Residual standard error: 778.2 on 34 degrees of freedom\n",
       "Multiple R-squared:  0.8185,\tAdjusted R-squared:  0.8132 \n",
       "F-statistic: 153.3 on 1 and 34 DF,  p-value: 3.753e-14\n"
      ]
     },
     "metadata": {},
     "output_type": "display_data"
    },
    {
     "data": {
      "text/html": [
       "<dl class=dl-horizontal>\n",
       "\t<dt>14</dt>\n",
       "\t\t<dd>2998.69438501564</dd>\n",
       "\t<dt>50</dt>\n",
       "\t\t<dd>1313.24058353907</dd>\n",
       "\t<dt>41</dt>\n",
       "\t\t<dd>1388.02769642775</dd>\n",
       "\t<dt>12</dt>\n",
       "\t\t<dd>3085.90749729981</dd>\n",
       "\t<dt>65</dt>\n",
       "\t\t<dd>2929.66451404032</dd>\n",
       "\t<dt>64</dt>\n",
       "\t\t<dd>2805.99800139707</dd>\n",
       "\t<dt>9</dt>\n",
       "\t\t<dd>4149.73955902555</dd>\n",
       "\t<dt>55</dt>\n",
       "\t\t<dd>6247.1214417568</dd>\n",
       "\t<dt>30</dt>\n",
       "\t\t<dd>6309.49849432006</dd>\n",
       "\t<dt>35</dt>\n",
       "\t\t<dd>3053.68542194432</dd>\n",
       "\t<dt>63</dt>\n",
       "\t\t<dd>1724.23149728412</dd>\n",
       "\t<dt>15</dt>\n",
       "\t\t<dd>2939.71633914156</dd>\n",
       "\t<dt>46</dt>\n",
       "\t\t<dd>6343.71768534382</dd>\n",
       "\t<dt>11</dt>\n",
       "\t\t<dd>4024.68310966394</dd>\n",
       "\t<dt>24</dt>\n",
       "\t\t<dd>3778.34328768022</dd>\n",
       "\t<dt>49</dt>\n",
       "\t\t<dd>1494.87749397138</dd>\n",
       "\t<dt>68</dt>\n",
       "\t\t<dd>2557.05114526753</dd>\n",
       "\t<dt>13</dt>\n",
       "\t\t<dd>3521.9406824846</dd>\n",
       "\t<dt>25</dt>\n",
       "\t\t<dd>2858.30629359716</dd>\n",
       "\t<dt>4</dt>\n",
       "\t\t<dd>1408.45809756635</dd>\n",
       "\t<dt>62</dt>\n",
       "\t\t<dd>1989.26212033874</dd>\n",
       "\t<dt>20</dt>\n",
       "\t\t<dd>3719.69796989352</dd>\n",
       "\t<dt>42</dt>\n",
       "\t\t<dd>1530.44054783913</dd>\n",
       "\t<dt>8</dt>\n",
       "\t\t<dd>5703.64970962824</dd>\n",
       "\t<dt>17</dt>\n",
       "\t\t<dd>4149.73955902555</dd>\n",
       "\t<dt>23</dt>\n",
       "\t\t<dd>4708.50482887164</dd>\n",
       "\t<dt>7</dt>\n",
       "\t\t<dd>2543.45611470272</dd>\n",
       "\t<dt>48</dt>\n",
       "\t\t<dd>1190.00417673932</dd>\n",
       "\t<dt>43</dt>\n",
       "\t\t<dd>1662.6489077439</dd>\n",
       "\t<dt>6</dt>\n",
       "\t\t<dd>1952.28522114754</dd>\n",
       "\t<dt>1</dt>\n",
       "\t\t<dd>1484.45433834747</dd>\n",
       "\t<dt>60</dt>\n",
       "\t\t<dd>2557.05114526753</dd>\n",
       "\t<dt>33</dt>\n",
       "\t\t<dd>2477.61430678631</dd>\n",
       "\t<dt>34</dt>\n",
       "\t\t<dd>2882.36607079681</dd>\n",
       "\t<dt>51</dt>\n",
       "\t\t<dd>1454.93742203783</dd>\n",
       "\t<dt>58</dt>\n",
       "\t\t<dd>7302.23433406667</dd>\n",
       "</dl>\n"
      ],
      "text/latex": [
       "\\begin{description*}\n",
       "\\item[14] 2998.69438501564\n",
       "\\item[50] 1313.24058353907\n",
       "\\item[41] 1388.02769642775\n",
       "\\item[12] 3085.90749729981\n",
       "\\item[65] 2929.66451404032\n",
       "\\item[64] 2805.99800139707\n",
       "\\item[9] 4149.73955902555\n",
       "\\item[55] 6247.1214417568\n",
       "\\item[30] 6309.49849432006\n",
       "\\item[35] 3053.68542194432\n",
       "\\item[63] 1724.23149728412\n",
       "\\item[15] 2939.71633914156\n",
       "\\item[46] 6343.71768534382\n",
       "\\item[11] 4024.68310966394\n",
       "\\item[24] 3778.34328768022\n",
       "\\item[49] 1494.87749397138\n",
       "\\item[68] 2557.05114526753\n",
       "\\item[13] 3521.9406824846\n",
       "\\item[25] 2858.30629359716\n",
       "\\item[4] 1408.45809756635\n",
       "\\item[62] 1989.26212033874\n",
       "\\item[20] 3719.69796989352\n",
       "\\item[42] 1530.44054783913\n",
       "\\item[8] 5703.64970962824\n",
       "\\item[17] 4149.73955902555\n",
       "\\item[23] 4708.50482887164\n",
       "\\item[7] 2543.45611470272\n",
       "\\item[48] 1190.00417673932\n",
       "\\item[43] 1662.6489077439\n",
       "\\item[6] 1952.28522114754\n",
       "\\item[1] 1484.45433834747\n",
       "\\item[60] 2557.05114526753\n",
       "\\item[33] 2477.61430678631\n",
       "\\item[34] 2882.36607079681\n",
       "\\item[51] 1454.93742203783\n",
       "\\item[58] 7302.23433406667\n",
       "\\end{description*}\n"
      ],
      "text/markdown": [
       "14\n",
       ":   2998.6943850156450\n",
       ":   1313.2405835390741\n",
       ":   1388.0276964277512\n",
       ":   3085.9074972998165\n",
       ":   2929.6645140403264\n",
       ":   2805.998001397079\n",
       ":   4149.7395590255555\n",
       ":   6247.121441756830\n",
       ":   6309.4984943200635\n",
       ":   3053.6854219443263\n",
       ":   1724.2314972841215\n",
       ":   2939.7163391415646\n",
       ":   6343.7176853438211\n",
       ":   4024.6831096639424\n",
       ":   3778.3432876802249\n",
       ":   1494.8774939713868\n",
       ":   2557.0511452675313\n",
       ":   3521.940682484625\n",
       ":   2858.306293597164\n",
       ":   1408.4580975663562\n",
       ":   1989.2621203387420\n",
       ":   3719.6979698935242\n",
       ":   1530.440547839138\n",
       ":   5703.6497096282417\n",
       ":   4149.7395590255523\n",
       ":   4708.504828871647\n",
       ":   2543.4561147027248\n",
       ":   1190.0041767393243\n",
       ":   1662.64890774396\n",
       ":   1952.285221147541\n",
       ":   1484.4543383474760\n",
       ":   2557.0511452675333\n",
       ":   2477.6143067863134\n",
       ":   2882.3660707968151\n",
       ":   1454.9374220378358\n",
       ":   7302.23433406667\n",
       "\n"
      ],
      "text/plain": [
       "      14       50       41       12       65       64        9       55 \n",
       "2998.694 1313.241 1388.028 3085.907 2929.665 2805.998 4149.740 6247.121 \n",
       "      30       35       63       15       46       11       24       49 \n",
       "6309.498 3053.685 1724.231 2939.716 6343.718 4024.683 3778.343 1494.877 \n",
       "      68       13       25        4       62       20       42        8 \n",
       "2557.051 3521.941 2858.306 1408.458 1989.262 3719.698 1530.441 5703.650 \n",
       "      17       23        7       48       43        6        1       60 \n",
       "4149.740 4708.505 2543.456 1190.004 1662.649 1952.285 1484.454 2557.051 \n",
       "      33       34       51       58 \n",
       "2477.614 2882.366 1454.937 7302.234 "
      ]
     },
     "metadata": {},
     "output_type": "display_data"
    },
    {
     "data": {
      "image/png": "[encoded data removed]",
      "text/plain": [
       "Plot with title \"\""
      ]
     },
     "metadata": {},
     "output_type": "display_data"
    }
   ],
   "source": [
    "\n",
    "SalesGhee=read.csv(\"Product Sales Ghee.csv\",header=T)\n",
    "\n",
    "fix(SalesGhee)\n",
    "summary(SalesGhee)\n",
    "\n",
    "set.seed(2)\n",
    "train=sample(72,36)\n",
    "test=(-train)\n",
    "\n",
    "\n",
    "lm.fitALLGhee=lm(SalesGhee$Volume~SalesGhee$Spend,subset=train)\n",
    "\n",
    "plot(SalesGhee$Spend, SalesGhee$Volume, col =\"red\", main=\"ALLGhee  - Volume vs Spend\",xlab=\"Spend\",ylab =\"Volume in number of units\",las=2)\n",
    "abline(lm.fitALLGhee)\n",
    "\n",
    "par(mfrow = c(2,2))\n",
    "plot(lm.fitALLGhee)\n",
    "summary(lm.fitALLGhee)\n",
    "\n",
    "fit.pred=predict(lm.fitALLGhee, subset=SalesGhee[test])\n",
    "fit.pred\n",
    "#mean((fit.pred-Volume.test)^2)\n",
    "\n"
   ]
  },
  {
   "cell_type": "code",
   "execution_count": 4,
   "metadata": {},
   "outputs": [
    {
     "data": {
      "text/html": [
       "8007923.07038985"
      ],
      "text/latex": [
       "8007923.07038985"
      ],
      "text/markdown": [
       "8007923.07038985"
      ],
      "text/plain": [
       "[1] 8007923"
      ]
     },
     "metadata": {},
     "output_type": "display_data"
    },
    {
     "data": {
      "text/html": [
       "8487535.22856866"
      ],
      "text/latex": [
       "8487535.22856866"
      ],
      "text/markdown": [
       "8487535.22856866"
      ],
      "text/plain": [
       "[1] 8487535"
      ]
     },
     "metadata": {},
     "output_type": "display_data"
    },
    {
     "data": {
      "text/html": [
       "8663802.61821889"
      ],
      "text/latex": [
       "8663802.61821889"
      ],
      "text/markdown": [
       "8663802.61821889"
      ],
      "text/plain": [
       "[1] 8663803"
      ]
     },
     "metadata": {},
     "output_type": "display_data"
    }
   ],
   "source": [
    "lm.fitALLGhee=lm(SalesGhee$Volume~SalesGhee$Spend,data=SalesGhee,subset=train)\n",
    "mean((SalesGhee$Volume -predict (lm.fitALLGhee ,SalesGhee))[-train ]^2)\n",
    "\n",
    "lm.fitALLGhee=lm(SalesGhee$Volume~poly(SalesGhee$Spend,2),data=SalesGhee,subset=train)\n",
    "mean((SalesGhee$Volume -predict (lm.fitALLGhee ,SalesGhee))[-train ]^2)\n",
    "\n",
    "lm.fitALLGhee=lm(SalesGhee$Volume~poly(SalesGhee$Spend,3),data=SalesGhee,subset=train)\n",
    "mean((SalesGhee$Volume -predict (lm.fitALLGhee ,SalesGhee))[-train ]^2)"
   ]
  },
  {
   "cell_type": "code",
   "execution_count": null,
   "metadata": {},
   "outputs": [],
   "source": []
  }
 ],
 "metadata": {
  "kernelspec": {
   "display_name": "R",
   "language": "R",
   "name": "ir"
  },
  "language_info": {
   "codemirror_mode": "r",
   "file_extension": ".r",
   "mimetype": "text/x-r-source",
   "name": "R",
   "pygments_lexer": "r",
   "version": "3.5.1"
  }
 },
 "nbformat": 4,
 "nbformat_minor": 2
}
