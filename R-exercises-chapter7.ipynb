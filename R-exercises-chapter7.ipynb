{
 "cells": [
  {
   "cell_type": "code",
   "execution_count": 2,
   "metadata": {},
   "outputs": [
    {
     "data": {
      "text/html": [
       "<table>\n",
       "<thead><tr><th scope=col>Res.Df</th><th scope=col>RSS</th><th scope=col>Df</th><th scope=col>Sum of Sq</th><th scope=col>F</th><th scope=col>Pr(&gt;F)</th></tr></thead>\n",
       "<tbody>\n",
       "\t<tr><td>2998        </td><td>5022216     </td><td>NA          </td><td>        NA  </td><td>         NA </td><td>          NA</td></tr>\n",
       "\t<tr><td>2997        </td><td>4793430     </td><td> 1          </td><td>228786.010  </td><td>143.6635715 </td><td>2.290183e-32</td></tr>\n",
       "\t<tr><td>2996        </td><td>4777674     </td><td> 1          </td><td> 15755.694  </td><td>  9.8936085 </td><td>1.674811e-03</td></tr>\n",
       "\t<tr><td>2995        </td><td>4771604     </td><td> 1          </td><td>  6070.152  </td><td>  3.8116829 </td><td>5.098940e-02</td></tr>\n",
       "\t<tr><td>2994        </td><td>4770322     </td><td> 1          </td><td>  1282.563  </td><td>  0.8053709 </td><td>3.695646e-01</td></tr>\n",
       "\t<tr><td>2993        </td><td>4766389     </td><td> 1          </td><td>  3932.258  </td><td>  2.4692165 </td><td>1.162015e-01</td></tr>\n",
       "</tbody>\n",
       "</table>\n"
      ],
      "text/latex": [
       "\\begin{tabular}{r|llllll}\n",
       " Res.Df & RSS & Df & Sum of Sq & F & Pr(>F)\\\\\n",
       "\\hline\n",
       "\t 2998         & 5022216      & NA           &         NA   &          NA  &           NA\\\\\n",
       "\t 2997         & 4793430      &  1           & 228786.010   & 143.6635715  & 2.290183e-32\\\\\n",
       "\t 2996         & 4777674      &  1           &  15755.694   &   9.8936085  & 1.674811e-03\\\\\n",
       "\t 2995         & 4771604      &  1           &   6070.152   &   3.8116829  & 5.098940e-02\\\\\n",
       "\t 2994         & 4770322      &  1           &   1282.563   &   0.8053709  & 3.695646e-01\\\\\n",
       "\t 2993         & 4766389      &  1           &   3932.258   &   2.4692165  & 1.162015e-01\\\\\n",
       "\\end{tabular}\n"
      ],
      "text/markdown": [
       "\n",
       "Res.Df | RSS | Df | Sum of Sq | F | Pr(>F) | \n",
       "|---|---|---|---|---|---|\n",
       "| 2998         | 5022216      | NA           |         NA   |          NA  |           NA | \n",
       "| 2997         | 4793430      |  1           | 228786.010   | 143.6635715  | 2.290183e-32 | \n",
       "| 2996         | 4777674      |  1           |  15755.694   |   9.8936085  | 1.674811e-03 | \n",
       "| 2995         | 4771604      |  1           |   6070.152   |   3.8116829  | 5.098940e-02 | \n",
       "| 2994         | 4770322      |  1           |   1282.563   |   0.8053709  | 3.695646e-01 | \n",
       "| 2993         | 4766389      |  1           |   3932.258   |   2.4692165  | 1.162015e-01 | \n",
       "\n",
       "\n"
      ],
      "text/plain": [
       "  Res.Df RSS     Df Sum of Sq  F           Pr(>F)      \n",
       "1 2998   5022216 NA         NA          NA           NA\n",
       "2 2997   4793430  1 228786.010 143.6635715 2.290183e-32\n",
       "3 2996   4777674  1  15755.694   9.8936085 1.674811e-03\n",
       "4 2995   4771604  1   6070.152   3.8116829 5.098940e-02\n",
       "5 2994   4770322  1   1282.563   0.8053709 3.695646e-01\n",
       "6 2993   4766389  1   3932.258   2.4692165 1.162015e-01"
      ]
     },
     "metadata": {},
     "output_type": "display_data"
    }
   ],
   "source": [
    "# fit poly functions with linear regression\n",
    "Wage=read.csv(\"Wage.csv\",header=T)\n",
    "fit.1=lm(wage~age,data=Wage)\n",
    "fit.2=lm(wage~poly(age,2),data=Wage)\n",
    "fit.3=lm(wage~poly(age,3),data=Wage)\n",
    "fit.4=lm(wage~poly(age,4),data=Wage)\n",
    "fit.5=lm(wage~poly(age,5),data=Wage)\n",
    "fit.6=lm(wage~poly(age,6),data=Wage)\n",
    "anova(fit.1,fit.2,fit.3,fit.4,fit.5,fit.6)\n",
    "# we will choose either poly 2 or poly3"
   ]
  },
  {
   "cell_type": "code",
   "execution_count": 3,
   "metadata": {},
   "outputs": [
    {
     "data": {
      "text/html": [
       "<table>\n",
       "<thead><tr><th></th><th scope=col>Estimate</th><th scope=col>Std. Error</th><th scope=col>t value</th><th scope=col>Pr(&gt;|t|)</th></tr></thead>\n",
       "<tbody>\n",
       "\t<tr><th scope=row>(Intercept)</th><td> 111.70361  </td><td> 0.7287647  </td><td>153.2780243 </td><td>0.000000e+00</td></tr>\n",
       "\t<tr><th scope=row>poly(age, 5)1</th><td> 447.06785  </td><td>39.9160847  </td><td> 11.2001930 </td><td>1.491111e-28</td></tr>\n",
       "\t<tr><th scope=row>poly(age, 5)2</th><td>-478.31581  </td><td>39.9160847  </td><td>-11.9830341 </td><td>2.367734e-32</td></tr>\n",
       "\t<tr><th scope=row>poly(age, 5)3</th><td> 125.52169  </td><td>39.9160847  </td><td>  3.1446392 </td><td>1.679213e-03</td></tr>\n",
       "\t<tr><th scope=row>poly(age, 5)4</th><td> -77.91118  </td><td>39.9160847  </td><td> -1.9518743 </td><td>5.104623e-02</td></tr>\n",
       "\t<tr><th scope=row>poly(age, 5)5</th><td> -35.81289  </td><td>39.9160847  </td><td> -0.8972045 </td><td>3.696820e-01</td></tr>\n",
       "</tbody>\n",
       "</table>\n"
      ],
      "text/latex": [
       "\\begin{tabular}{r|llll}\n",
       "  & Estimate & Std. Error & t value & Pr(>\\textbar{}t\\textbar{})\\\\\n",
       "\\hline\n",
       "\t(Intercept) &  111.70361   &  0.7287647   & 153.2780243  & 0.000000e+00\\\\\n",
       "\tpoly(age, 5)1 &  447.06785   & 39.9160847   &  11.2001930  & 1.491111e-28\\\\\n",
       "\tpoly(age, 5)2 & -478.31581   & 39.9160847   & -11.9830341  & 2.367734e-32\\\\\n",
       "\tpoly(age, 5)3 &  125.52169   & 39.9160847   &   3.1446392  & 1.679213e-03\\\\\n",
       "\tpoly(age, 5)4 &  -77.91118   & 39.9160847   &  -1.9518743  & 5.104623e-02\\\\\n",
       "\tpoly(age, 5)5 &  -35.81289   & 39.9160847   &  -0.8972045  & 3.696820e-01\\\\\n",
       "\\end{tabular}\n"
      ],
      "text/markdown": [
       "\n",
       "| <!--/--> | Estimate | Std. Error | t value | Pr(>|t|) | \n",
       "|---|---|---|---|---|---|\n",
       "| (Intercept) |  111.70361   |  0.7287647   | 153.2780243  | 0.000000e+00 | \n",
       "| poly(age, 5)1 |  447.06785   | 39.9160847   |  11.2001930  | 1.491111e-28 | \n",
       "| poly(age, 5)2 | -478.31581   | 39.9160847   | -11.9830341  | 2.367734e-32 | \n",
       "| poly(age, 5)3 |  125.52169   | 39.9160847   |   3.1446392  | 1.679213e-03 | \n",
       "| poly(age, 5)4 |  -77.91118   | 39.9160847   |  -1.9518743  | 5.104623e-02 | \n",
       "| poly(age, 5)5 |  -35.81289   | 39.9160847   |  -0.8972045  | 3.696820e-01 | \n",
       "\n",
       "\n"
      ],
      "text/plain": [
       "              Estimate   Std. Error t value     Pr(>|t|)    \n",
       "(Intercept)    111.70361  0.7287647 153.2780243 0.000000e+00\n",
       "poly(age, 5)1  447.06785 39.9160847  11.2001930 1.491111e-28\n",
       "poly(age, 5)2 -478.31581 39.9160847 -11.9830341 2.367734e-32\n",
       "poly(age, 5)3  125.52169 39.9160847   3.1446392 1.679213e-03\n",
       "poly(age, 5)4  -77.91118 39.9160847  -1.9518743 5.104623e-02\n",
       "poly(age, 5)5  -35.81289 39.9160847  -0.8972045 3.696820e-01"
      ]
     },
     "metadata": {},
     "output_type": "display_data"
    }
   ],
   "source": [
    "coef(summary(fit.5))"
   ]
  },
  {
   "cell_type": "code",
   "execution_count": 10,
   "metadata": {},
   "outputs": [
    {
     "name": "stderr",
     "output_type": "stream",
     "text": [
      "The following objects are masked from Wage (pos = 3):\n",
      "\n",
      "    age, education, health, health_ins, ï.., jobclass, logwage, maritl,\n",
      "    race, region, sex, wage, year\n",
      "\n"
     ]
    },
    {
     "ename": "ERROR",
     "evalue": "Error in match.arg(type): 'arg' should be one of \"link\", \"response\", \"terms\"\n",
     "output_type": "error",
     "traceback": [
      "Error in match.arg(type): 'arg' should be one of \"link\", \"response\", \"terms\"\nTraceback:\n",
      "1. predict.glm(fit, newdata = list(age = age.grid), type = \" response \", \n .     se = T)",
      "2. match.arg(type)",
      "3. stop(gettextf(\"'arg' should be one of %s\", paste(dQuote(choices), \n .     collapse = \", \")), domain = NA)"
     ]
    }
   ],
   "source": [
    "attach(Wage)\n",
    "# lets predict whether an individual earns >250,000 per year\n",
    "fit=glm(I(wage>250)~poly(age,4),data=Wage,family=binomial)\n",
    "\n",
    "#predict\n",
    "agelims =range(age)\n",
    "age.grid=seq (from=agelims [1], to=agelims [2])\n",
    "preds=predict.glm(fit ,newdata =list(age=age.grid),type=\" response \",se=T)\n",
    "\n",
    "\n",
    "preds=predict (fit ,newdata =list(age=age.grid),se=TRUE)\n"
   ]
  },
  {
   "cell_type": "code",
   "execution_count": null,
   "metadata": {},
   "outputs": [],
   "source": []
  }
 ],
 "metadata": {
  "kernelspec": {
   "display_name": "R",
   "language": "R",
   "name": "ir"
  },
  "language_info": {
   "codemirror_mode": "r",
   "file_extension": ".r",
   "mimetype": "text/x-r-source",
   "name": "R",
   "pygments_lexer": "r",
   "version": "3.5.1"
  }
 },
 "nbformat": 4,
 "nbformat_minor": 2
}
